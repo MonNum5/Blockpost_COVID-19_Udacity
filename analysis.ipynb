{
 "cells": [
  {
   "cell_type": "markdown",
   "metadata": {},
   "source": [
    "# Analysis of the South Korea COVID-19 Kaggle Dataset"
   ]
  },
  {
   "cell_type": "markdown",
   "metadata": {},
   "source": [
    "<img src=\"static/virus.tiff\" height='500px' width='1000px'>"
   ]
  },
  {
   "cell_type": "markdown",
   "metadata": {},
   "source": [
    "[Picture source](http://www.lowellma.gov/coronavirus) (02.04.2020)"
   ]
  },
  {
   "cell_type": "markdown",
   "metadata": {},
   "source": [
    "## Introduction\n",
    "The COVID-19 virus pandemic is an incisive event in the 21st century. Nearly all countries in the world are affected and the effects are noticeable for on a macroscopic level for countries, provinces and cities and on a microscopic level for individuals. From its origin in the Chinese province of Wuhan the virus processed all over the world. The question is what effects and what extensions of the effects are to be anticipated for countries, regions and individuals that have not experienced the extension virus. Data Science can give answers to those questions on the basis of data that has been collected in regions close to the origin of the virus"
   ]
  },
  {
   "cell_type": "markdown",
   "metadata": {},
   "source": [
    "## The Data\n",
    "\n",
    "Kaggle provides a very comprehensive [Dataset for South Korea](https://www.kaggle.com/kimjihoo/coronavirusdataset/data)\n",
    " (Version 31.03.2020), a close to the origin and with good data quality that will be used as basis for the data science analysis. The goal is to analyse the data with respect to parameters that are transferable and univeral applicable, gain insight's into the progression of the virus and for regions and indiviuals and try to find a model.\n"
   ]
  },
  {
   "cell_type": "markdown",
   "metadata": {},
   "source": [
    "## Let's open the folder and have a first look at the data"
   ]
  },
  {
   "cell_type": "markdown",
   "metadata": {},
   "source": [
    "### Imports"
   ]
  },
  {
   "cell_type": "code",
   "execution_count": 1,
   "metadata": {},
   "outputs": [],
   "source": [
    "import os\n",
    "import pandas as pd \n",
    "import plotly.graph_objects as go\n",
    "from plotly.subplots import make_subplots\n",
    "import matplotlib.pyplot as plt\n",
    "import numpy as np"
   ]
  },
  {
   "cell_type": "code",
   "execution_count": 2,
   "metadata": {},
   "outputs": [
    {
     "name": "stdout",
     "output_type": "stream",
     "text": [
      "SeoulFloating.csv\n",
      "TimeAge.csv\n",
      "SearchTrend.csv\n",
      "TimeProvince.csv\n",
      "Weather.csv\n",
      "PatientRoute.csv\n",
      "PatientInfo.csv\n",
      "Region.csv\n",
      "TimeGender.csv\n",
      "Case.csv\n",
      "Time.csv\n"
     ]
    }
   ],
   "source": [
    "for file in os.listdir('coronavirusdataset/'):\n",
    "    print(file)"
   ]
  },
  {
   "cell_type": "markdown",
   "metadata": {},
   "source": [
    "So there seem to be quied some files in csv format. Lets load them into a dict and print the head"
   ]
  },
  {
   "cell_type": "code",
   "execution_count": 3,
   "metadata": {},
   "outputs": [
    {
     "name": "stdout",
     "output_type": "stream",
     "text": [
      "SeoulFloating\n",
      "         date  hour  birth_year     sex province           city  fp_num\n",
      "0  2020-01-01     0          20  female    Seoul      Dobong-gu   19140\n",
      "1  2020-01-01     0          20    male    Seoul      Dobong-gu   19950\n",
      "2  2020-01-01     0          20  female    Seoul  Dongdaemun-gu   25450\n",
      "3  2020-01-01     0          20    male    Seoul  Dongdaemun-gu   27050\n",
      "4  2020-01-01     0          20  female    Seoul     Dongjag-gu   28880\n",
      "TimeAge\n",
      "         date  time  age  confirmed  deceased\n",
      "0  2020-03-02     0   0s         32         0\n",
      "1  2020-03-02     0  10s        169         0\n",
      "2  2020-03-02     0  20s       1235         0\n",
      "3  2020-03-02     0  30s        506         1\n",
      "4  2020-03-02     0  40s        633         1\n",
      "SearchTrend\n",
      "         date     cold      flu  pneumonia  coronavirus\n",
      "0  2016-03-17  0.15554  0.34471    0.18181      0.01236\n",
      "1  2016-03-18  0.14417  0.49416    0.17563      0.01027\n",
      "2  2016-03-19  0.13290  0.39907    0.15145      0.01154\n",
      "3  2016-03-20  0.13863  0.39662    0.14408      0.00945\n",
      "4  2016-03-21  0.16735  0.56989    0.21199      0.00963\n",
      "TimeProvince\n",
      "         date  time province  confirmed  released  deceased\n",
      "0  2020-01-20    16    Seoul          0         0         0\n",
      "1  2020-01-20    16    Busan          0         0         0\n",
      "2  2020-01-20    16    Daegu          0         0         0\n",
      "3  2020-01-20    16  Incheon          1         0         0\n",
      "4  2020-01-20    16  Gwangju          0         0         0\n",
      "Weather\n",
      "    code province        date  avg_temp  min_temp  max_temp  precipitation  \\\n",
      "0  10000    Seoul  2016-03-17       9.3       2.0      14.7            0.0   \n",
      "1  10000    Seoul  2016-03-18      13.4       8.8      20.1            0.0   \n",
      "2  10000    Seoul  2016-03-19      11.4       6.6      18.1            0.0   \n",
      "3  10000    Seoul  2016-03-20      10.6       4.9      17.5            0.0   \n",
      "4  10000    Seoul  2016-03-21       9.9       5.5      16.1            0.0   \n",
      "\n",
      "   max_wind_speed  most_wind_direction  avg_relative_humidity  \n",
      "0             3.2                 70.0                   40.9  \n",
      "1             5.0                110.0                   50.0  \n",
      "2             4.8                320.0                   58.3  \n",
      "3             4.6                320.0                   54.0  \n",
      "4             5.4                320.0                   54.1  \n",
      "PatientRoute\n",
      "   patient_id  global_num        date     province      city   latitude  \\\n",
      "0  1400000001           1  2020-01-19      Incheon   Jung-gu  37.460459   \n",
      "1  1400000001           1  2020-01-20      Incheon    Seo-gu  37.478832   \n",
      "2  1000000001           2  2020-01-22  Gyeonggi-do  Gimpo-si  37.562143   \n",
      "3  1000000001           2  2020-01-23        Seoul   Jung-gu  37.567454   \n",
      "4  2000000001           3  2020-01-20      Incheon   Jung-gu  37.460459   \n",
      "\n",
      "    longitude  \n",
      "0  126.440680  \n",
      "1  126.668558  \n",
      "2  126.801884  \n",
      "3  127.005627  \n",
      "4  126.440680  \n",
      "PatientInfo\n",
      "   patient_id  global_num     sex  birth_year  age country province  \\\n",
      "0  1000000001         2.0    male      1964.0  50s   Korea    Seoul   \n",
      "1  1000000002         5.0    male      1987.0  30s   Korea    Seoul   \n",
      "2  1000000003         6.0    male      1964.0  50s   Korea    Seoul   \n",
      "3  1000000004         7.0    male      1991.0  20s   Korea    Seoul   \n",
      "4  1000000005         9.0  female      1992.0  20s   Korea    Seoul   \n",
      "\n",
      "          city disease        infection_case  infection_order   infected_by  \\\n",
      "0   Gangseo-gu     NaN       overseas inflow              1.0           NaN   \n",
      "1  Jungnang-gu     NaN       overseas inflow              1.0           NaN   \n",
      "2    Jongno-gu     NaN  contact with patient              2.0  2.002000e+09   \n",
      "3      Mapo-gu     NaN       overseas inflow              1.0           NaN   \n",
      "4  Seongbuk-gu     NaN  contact with patient              2.0  1.000000e+09   \n",
      "\n",
      "   contact_number symptom_onset_date confirmed_date released_date  \\\n",
      "0            75.0         2020-01-22     2020-01-23    2020-02-05   \n",
      "1            31.0                NaN     2020-01-30    2020-03-02   \n",
      "2            17.0                NaN     2020-01-30    2020-02-19   \n",
      "3             9.0         2020-01-26     2020-01-30    2020-02-15   \n",
      "4             2.0                NaN     2020-01-31    2020-02-24   \n",
      "\n",
      "  deceased_date     state  \n",
      "0           NaN  released  \n",
      "1           NaN  released  \n",
      "2           NaN  released  \n",
      "3           NaN  released  \n",
      "4           NaN  released  \n",
      "Region\n",
      "    code province         city   latitude   longitude  \\\n",
      "0  10000    Seoul        Seoul  37.566953  126.977977   \n",
      "1  10010    Seoul   Gangnam-gu  37.518421  127.047222   \n",
      "2  10020    Seoul  Gangdong-gu  37.530492  127.123837   \n",
      "3  10030    Seoul   Gangbuk-gu  37.639938  127.025508   \n",
      "4  10040    Seoul   Gangseo-gu  37.551166  126.849506   \n",
      "\n",
      "   elementary_school_count  kindergarten_count  university_count  \\\n",
      "0                      607                 830                48   \n",
      "1                       33                  38                 0   \n",
      "2                       27                  32                 0   \n",
      "3                       14                  21                 0   \n",
      "4                       36                  56                 1   \n",
      "\n",
      "   academy_ratio  elderly_population_ratio  elderly_alone_ratio  \\\n",
      "0           1.44                     15.38                  5.8   \n",
      "1           4.18                     13.17                  4.3   \n",
      "2           1.54                     14.55                  5.4   \n",
      "3           0.67                     19.49                  8.5   \n",
      "4           1.17                     14.39                  5.7   \n",
      "\n",
      "   nursing_home_count  \n",
      "0               22739  \n",
      "1                3088  \n",
      "2                1023  \n",
      "3                 628  \n",
      "4                1080  \n",
      "TimeGender\n",
      "         date  time     sex  confirmed  deceased\n",
      "0  2020-03-02     0    male       1591        13\n",
      "1  2020-03-02     0  female       2621         9\n",
      "2  2020-03-03     0    male       1810        16\n",
      "3  2020-03-03     0  female       3002        12\n",
      "4  2020-03-04     0    male       1996        20\n",
      "Case\n",
      "   case_id province           city  group                 infection_case  \\\n",
      "0  1000001    Seoul        Guro-gu   True            Guro-gu Call Center   \n",
      "1  1000002    Seoul  Dongdaemun-gu   True                  Dongan Church   \n",
      "2  1000003    Seoul   Eunpyeong-gu   True  Eunpyeong St. Mary's Hospital   \n",
      "3  1000004    Seoul   Seongdong-gu   True               Seongdong-gu APT   \n",
      "4  1000005    Seoul      Jongno-gu   True        Jongno Community Center   \n",
      "\n",
      "   confirmed   latitude   longitude  \n",
      "0         79  37.508163  126.884387  \n",
      "1         24  37.592888  127.056766  \n",
      "2         14   37.63369    126.9165  \n",
      "3         13   37.55713    127.0403  \n",
      "4         10   37.57681     127.006  \n",
      "Time\n",
      "         date  time  test  negative  confirmed  released  deceased\n",
      "0  2020-01-20    16     1         0          1         0         0\n",
      "1  2020-01-21    16     1         0          1         0         0\n",
      "2  2020-01-22    16     4         3          1         0         0\n",
      "3  2020-01-23    16    22        21          1         0         0\n",
      "4  2020-01-24    16    27        25          2         0         0\n"
     ]
    }
   ],
   "source": [
    "df_dict={}\n",
    "for file in os.listdir('coronavirusdataset/'):\n",
    "    df=pd.read_csv('coronavirusdataset/'+file)\n",
    "    df_dict[file.split('.')[0]]=df\n",
    "    print(file.split('.')[0])\n",
    "    print(df.head())"
   ]
  },
  {
   "cell_type": "markdown",
   "metadata": {},
   "source": [
    "File| Description | \n",
    "--- | --- \n",
    "Case| Data of COVID-19 Infection Caseses | \n",
    "PatientInfo| Epidemiological data of COVID-19 patients in South Korea | \n",
    "PatientRoute| Route data of COVID-19 patients in South Korea | \n",
    "Region| Location and statistical data of the regions in South Korea| \n",
    "SearchTrend| Trend data of the keywords searched in NAVER which is one of the largest portals in South Korea | \n",
    "SeoulFloating| Data of floating population in Seoul, South Korea (from SK Telecom Big Data Hub) | \n",
    "Time| Time series data of COVID-19 status in South Korea | \n",
    "TimeAge| Time series data of COVID-19 status in terms of the age in South Korea | \n",
    "TimeGender| Time series data of COVID-19 status in terms of gender in South Korea | \n",
    "TimeProvince| Time series data of COVID-19 status in terms of the Province in South Korea | \n",
    "Weather| Data of the weather in the regions of South Korea | "
   ]
  },
  {
   "cell_type": "markdown",
   "metadata": {},
   "source": [
    "We immediately see, that data is very specific to South Korea. The demographic information is given in form of the city names and provinces, that cannot be transferred, like population or population density. Therefore we need to add those information’s our self. Thank god the internet provides us with credible sites like [City Population](https://citypopulation.de/), with a standartized data format that we can easily exctract data from. We are especially interested in the overall population and the population density."
   ]
  },
  {
   "cell_type": "markdown",
   "metadata": {},
   "source": [
    "<img src=\"static/citypopulation_table.png\" height='500px' width='1000px'>"
   ]
  },
  {
   "cell_type": "markdown",
   "metadata": {},
   "source": [
    "To get the information for all cities listed in the TimeProvince dataset one could either search the cities individually or write a web scraper to get the information from the City Population website. Sinc the last approach is more fun i did just that, using [BeautifulSoup](https://www.crummy.com/software/BeautifulSoup/bs4/doc/) a web scraping library and [Selenium](https://selenium-python.readthedocs.io/) a web driver library, both can be installed via pip. I am not going to go to explain the code in detail, but what basically happens:\n",
    "\n",
    "- Selenium allows an automatic search of a city\n",
    "- Loop overall results and make sure, that city name and province are correct\n",
    "- Open the link with the match and use BeautifulSoup to extract the standardized html table\n",
    "- With a regex operation the two numbers for the population and the population density are extracted\n",
    "- The results are saved in an excel file\n"
   ]
  },
  {
   "cell_type": "code",
   "execution_count": 5,
   "metadata": {},
   "outputs": [
    {
     "name": "stderr",
     "output_type": "stream",
     "text": [
      " 40%|████      | 98/244 [17:20<22:09,  9.11s/it]"
     ]
    },
    {
     "name": "stdout",
     "output_type": "stream",
     "text": [
      "No match for Ansan-si in Gyeonggi-do\n"
     ]
    },
    {
     "name": "stderr",
     "output_type": "stream",
     "text": [
      " 42%|████▏     | 103/244 [18:09<21:12,  9.02s/it]"
     ]
    },
    {
     "name": "stdout",
     "output_type": "stream",
     "text": [
      "No match for Yeoju-si in Gyeonggi-do\n"
     ]
    },
    {
     "name": "stderr",
     "output_type": "stream",
     "text": [
      "100%|██████████| 244/244 [43:15<00:00, 10.64s/it]"
     ]
    },
    {
     "name": "stdout",
     "output_type": "stream",
     "text": [
      "No match for Korea in Korea\n"
     ]
    },
    {
     "name": "stderr",
     "output_type": "stream",
     "text": [
      "\n"
     ]
    },
    {
     "name": "stdout",
     "output_type": "stream",
     "text": [
      "      code          province          city   latitude   longitude  \\\n",
      "0    10000             Seoul         Seoul  37.566953  126.977977   \n",
      "1    10010             Seoul    Gangnam-gu  37.518421  127.047222   \n",
      "2    10020             Seoul   Gangdong-gu  37.530492  127.123837   \n",
      "3    10030             Seoul    Gangbuk-gu  37.639938  127.025508   \n",
      "4    10040             Seoul    Gangseo-gu  37.551166  126.849506   \n",
      "..     ...               ...           ...        ...         ...   \n",
      "239  61160  Gyeongsangnam-do     Haman-gun  35.272481  128.406540   \n",
      "240  61170  Gyeongsangnam-do   Hamyang-gun  35.520541  127.725177   \n",
      "241  61180  Gyeongsangnam-do  Hapcheon-gun  35.566702  128.165870   \n",
      "242  70000           Jeju-do       Jeju-do  33.488936  126.500423   \n",
      "243  80000             Korea         Korea  37.566953  126.977977   \n",
      "\n",
      "     elementary_school_count  kindergarten_count  university_count  \\\n",
      "0                        607                 830                48   \n",
      "1                         33                  38                 0   \n",
      "2                         27                  32                 0   \n",
      "3                         14                  21                 0   \n",
      "4                         36                  56                 1   \n",
      "..                       ...                 ...               ...   \n",
      "239                       16                  20                 0   \n",
      "240                       13                  12                 0   \n",
      "241                       17                  15                 0   \n",
      "242                      113                 123                 4   \n",
      "243                     6087                8837               340   \n",
      "\n",
      "     academy_ratio  elderly_population_ratio  elderly_alone_ratio  \\\n",
      "0             1.44                     15.38                  5.8   \n",
      "1             4.18                     13.17                  4.3   \n",
      "2             1.54                     14.55                  5.4   \n",
      "3             0.67                     19.49                  8.5   \n",
      "4             1.17                     14.39                  5.7   \n",
      "..             ...                       ...                  ...   \n",
      "239           1.19                     23.74                 14.7   \n",
      "240           1.01                     32.65                 20.9   \n",
      "241           0.71                     38.44                 24.7   \n",
      "242           1.53                     15.10                  6.4   \n",
      "243           1.56                     15.67                  7.2   \n",
      "\n",
      "     nursing_home_count  PopulationDensity  Population  \n",
      "0                 22739           16541.34  10010983.0  \n",
      "1                  3088           13925.82    550209.0  \n",
      "2                  1023           17909.31    440390.0  \n",
      "3                   628           13461.65    317695.0  \n",
      "4                  1080           14440.57    598273.0  \n",
      "..                  ...                ...         ...  \n",
      "239                  94             165.99     69198.0  \n",
      "240                  83              55.37     40141.0  \n",
      "241                  96              46.57     45799.0  \n",
      "242                1245             185.99     16339.0  \n",
      "243               94865                NaN         NaN  \n",
      "\n",
      "[244 rows x 14 columns]\n"
     ]
    }
   ],
   "source": [
    "from bs4 import BeautifulSoup\n",
    "import requests\n",
    "import re\n",
    "from selenium import webdriver\n",
    "from selenium.webdriver.common.keys import Keys\n",
    "import time\n",
    "from tqdm import tqdm\n",
    "\n",
    "df=df_dict['Region']\n",
    "\n",
    "\n",
    "driver=webdriver.Firefox()\n",
    "\n",
    "for i in tqdm(range(df.shape[0])):\n",
    "    match=False\n",
    "    city=df['city'][i]\n",
    "    province=df['province'][i]\n",
    "    \n",
    "    try:\n",
    "        #Go to Citypopulation search\n",
    "        driver.get(\"https://www.citypopulation.de/search.html\")\n",
    "        time.sleep(2)\n",
    "        #Search for the city\n",
    "\n",
    "        search_country= driver.find_element_by_id(\"countries1\")\n",
    "        search_country.send_keys('South Korea')\n",
    "        search_place= driver.find_element_by_id(\"places1\")\n",
    "        search_place.send_keys(city)\n",
    "        search_place.send_keys(Keys.RETURN)\n",
    "        time.sleep(3)\n",
    "\n",
    "        #Get result element\n",
    "        results=driver.find_elements_by_class_name(\"result\")\n",
    "        #check results, since a lot of the cities have the same name we also consider the province, since for a metropolitan citiy the province is the city itself it gets its on case\n",
    "        for result in results:\n",
    "            if province in result.text:\n",
    "                match=True\n",
    "                result.click()\n",
    "                break\n",
    "            elif 'Metropolitan  City'  in result.text:\n",
    "                match=True\n",
    "                result.click()\n",
    "                break\n",
    "    \n",
    "\n",
    "        if match==True:\n",
    "            time.sleep(3)\n",
    "            #Scrap the html\n",
    "            URL=driver.current_url\n",
    "\n",
    "            response=requests.get(URL)\n",
    "            soup=BeautifulSoup(response.text,'html.parser')\n",
    "\n",
    "            #Get the table with pupultion information\n",
    "            table=soup.find('table',{\"id\":\"ts\"}).tbody\n",
    "            rows = table.find_all(\"td\")\n",
    "            \n",
    "            #Scrap population density and populatin number from table\n",
    "            df.at[i,'PopulationDensity']=float(re.search(r'data-density=\"(.*?)\"', str(rows[0])).group(1))\n",
    "            df.at[i,'Population']=float(re.search(r'\">(.*?)</td>', str(rows[-2])).group(1).replace(',',''))\n",
    "            time.sleep(1)\n",
    "        else:\n",
    "          print(f'No match for {city} in {province}')  \n",
    "    except:\n",
    "        print(f'Did not work for {city} in {province}')\n",
    "\n",
    "driver.close()\n",
    "driver.quit()\n",
    "\n",
    "df.to_excel('Region_with_population_population_density.xlsx')\n",
    "print(df)"
   ]
  },
  {
   "cell_type": "markdown",
   "metadata": {},
   "source": [
    "With the exception of Yeoju-si the scraper worked correctly. The values for the cities that could not be found were added manually with a help of a quick Google search."
   ]
  },
  {
   "cell_type": "markdown",
   "metadata": {},
   "source": [
    "## Let's start with the acutal analysis\n",
    "Lets try to get an understanding about the progression of virus. Therefore, we take a look at the \"TimeAge\" data and try to find out who is affected in risk and possible in danger. Therefore we are going to look at the overall numbers and cumulative numbers of conformations and deceased and calculate the motility rate. We are going to use [plotly](https://plotly.com/) for this, a fantastic, ease to use library that allows for interactive plots."
   ]
  },
  {
   "cell_type": "code",
   "execution_count": 11,
   "metadata": {},
   "outputs": [
    {
     "data": {
      "application/vnd.plotly.v1+json": {
       "config": {
        "plotlyServerURL": "https://plot.ly"
       },
       "data": [
        {
         "line": {
          "color": "rgba(0.9686274509803922,0.984313725490196,1.0,1.0)"
         },
         "name": "0s",
         "type": "scatter",
         "x": [
          "2020-03-02",
          "2020-03-03",
          "2020-03-04",
          "2020-03-05",
          "2020-03-06",
          "2020-03-07",
          "2020-03-08",
          "2020-03-09",
          "2020-03-10",
          "2020-03-11",
          "2020-03-12",
          "2020-03-13",
          "2020-03-14",
          "2020-03-15",
          "2020-03-16",
          "2020-03-17",
          "2020-03-18",
          "2020-03-19",
          "2020-03-20",
          "2020-03-21",
          "2020-03-22"
         ],
         "xaxis": "x",
         "y": [
          32,
          34,
          34,
          38,
          45,
          52,
          58,
          66,
          67,
          75,
          76,
          77,
          81,
          83,
          85,
          86,
          87,
          91,
          97,
          99,
          101
         ],
         "yaxis": "y"
        },
        {
         "line": {
          "color": "rgba(0.9686274509803922,0.984313725490196,1.0,1.0)"
         },
         "name": "0s",
         "showlegend": false,
         "type": "scatter",
         "x": [
          "2020-03-02",
          "2020-03-03",
          "2020-03-04",
          "2020-03-05",
          "2020-03-06",
          "2020-03-07",
          "2020-03-08",
          "2020-03-09",
          "2020-03-10",
          "2020-03-11",
          "2020-03-12",
          "2020-03-13",
          "2020-03-14",
          "2020-03-15",
          "2020-03-16",
          "2020-03-17",
          "2020-03-18",
          "2020-03-19",
          "2020-03-20",
          "2020-03-21",
          "2020-03-22"
         ],
         "xaxis": "x2",
         "y": [
          0,
          0,
          0,
          0,
          0,
          0,
          0,
          0,
          0,
          0,
          0,
          0,
          0,
          0,
          0,
          0,
          0,
          0,
          0,
          0,
          0
         ],
         "yaxis": "y2"
        },
        {
         "line": {
          "color": "rgba(0.9686274509803922,0.984313725490196,1.0,1.0)"
         },
         "name": "0s cumulative",
         "showlegend": false,
         "type": "scatter",
         "x": [
          "2020-03-02",
          "2020-03-03",
          "2020-03-04",
          "2020-03-05",
          "2020-03-06",
          "2020-03-07",
          "2020-03-08",
          "2020-03-09",
          "2020-03-10",
          "2020-03-11",
          "2020-03-12",
          "2020-03-13",
          "2020-03-14",
          "2020-03-15",
          "2020-03-16",
          "2020-03-17",
          "2020-03-18",
          "2020-03-19",
          "2020-03-20",
          "2020-03-21",
          "2020-03-22"
         ],
         "xaxis": "x3",
         "y": [
          0,
          0,
          0,
          0,
          0,
          0,
          0,
          0,
          0,
          0,
          0,
          0,
          0,
          0,
          0,
          0,
          0,
          0,
          0,
          0,
          0
         ],
         "yaxis": "y3"
        },
        {
         "line": {
          "color": "rgba(0.8702191464821223,0.9213225682429834,0.9685044213763937,1.0)"
         },
         "name": "10s",
         "type": "scatter",
         "x": [
          "2020-03-02",
          "2020-03-03",
          "2020-03-04",
          "2020-03-05",
          "2020-03-06",
          "2020-03-07",
          "2020-03-08",
          "2020-03-09",
          "2020-03-10",
          "2020-03-11",
          "2020-03-12",
          "2020-03-13",
          "2020-03-14",
          "2020-03-15",
          "2020-03-16",
          "2020-03-17",
          "2020-03-18",
          "2020-03-19",
          "2020-03-20",
          "2020-03-21",
          "2020-03-22"
         ],
         "xaxis": "x",
         "y": [
          169,
          204,
          233,
          257,
          292,
          327,
          360,
          381,
          393,
          405,
          412,
          421,
          424,
          427,
          432,
          436,
          438,
          444,
          452,
          457,
          460
         ],
         "yaxis": "y"
        },
        {
         "line": {
          "color": "rgba(0.8702191464821223,0.9213225682429834,0.9685044213763937,1.0)"
         },
         "name": "10s",
         "showlegend": false,
         "type": "scatter",
         "x": [
          "2020-03-02",
          "2020-03-03",
          "2020-03-04",
          "2020-03-05",
          "2020-03-06",
          "2020-03-07",
          "2020-03-08",
          "2020-03-09",
          "2020-03-10",
          "2020-03-11",
          "2020-03-12",
          "2020-03-13",
          "2020-03-14",
          "2020-03-15",
          "2020-03-16",
          "2020-03-17",
          "2020-03-18",
          "2020-03-19",
          "2020-03-20",
          "2020-03-21",
          "2020-03-22"
         ],
         "xaxis": "x2",
         "y": [
          0,
          0,
          0,
          0,
          0,
          0,
          0,
          0,
          0,
          0,
          0,
          0,
          0,
          0,
          0,
          0,
          0,
          0,
          0,
          0,
          0
         ],
         "yaxis": "y2"
        },
        {
         "line": {
          "color": "rgba(0.8702191464821223,0.9213225682429834,0.9685044213763937,1.0)"
         },
         "name": "10s cumulative",
         "showlegend": false,
         "type": "scatter",
         "x": [
          "2020-03-02",
          "2020-03-03",
          "2020-03-04",
          "2020-03-05",
          "2020-03-06",
          "2020-03-07",
          "2020-03-08",
          "2020-03-09",
          "2020-03-10",
          "2020-03-11",
          "2020-03-12",
          "2020-03-13",
          "2020-03-14",
          "2020-03-15",
          "2020-03-16",
          "2020-03-17",
          "2020-03-18",
          "2020-03-19",
          "2020-03-20",
          "2020-03-21",
          "2020-03-22"
         ],
         "xaxis": "x3",
         "y": [
          0,
          0,
          0,
          0,
          0,
          0,
          0,
          0,
          0,
          0,
          0,
          0,
          0,
          0,
          0,
          0,
          0,
          0,
          0,
          0,
          0
         ],
         "yaxis": "y3"
        },
        {
         "line": {
          "color": "rgba(0.7752402921953095,0.8583006535947711,0.9368242983467897,1.0)"
         },
         "name": "20s",
         "type": "scatter",
         "x": [
          "2020-03-02",
          "2020-03-03",
          "2020-03-04",
          "2020-03-05",
          "2020-03-06",
          "2020-03-07",
          "2020-03-08",
          "2020-03-09",
          "2020-03-10",
          "2020-03-11",
          "2020-03-12",
          "2020-03-13",
          "2020-03-14",
          "2020-03-15",
          "2020-03-16",
          "2020-03-17",
          "2020-03-18",
          "2020-03-19",
          "2020-03-20",
          "2020-03-21",
          "2020-03-22"
         ],
         "xaxis": "x",
         "y": [
          1235,
          1417,
          1575,
          1727,
          1877,
          2038,
          2133,
          2190,
          2213,
          2238,
          2261,
          2274,
          2287,
          2301,
          2313,
          2330,
          2342,
          2358,
          2365,
          2380,
          2396
         ],
         "yaxis": "y"
        },
        {
         "line": {
          "color": "rgba(0.7752402921953095,0.8583006535947711,0.9368242983467897,1.0)"
         },
         "name": "20s",
         "showlegend": false,
         "type": "scatter",
         "x": [
          "2020-03-02",
          "2020-03-03",
          "2020-03-04",
          "2020-03-05",
          "2020-03-06",
          "2020-03-07",
          "2020-03-08",
          "2020-03-09",
          "2020-03-10",
          "2020-03-11",
          "2020-03-12",
          "2020-03-13",
          "2020-03-14",
          "2020-03-15",
          "2020-03-16",
          "2020-03-17",
          "2020-03-18",
          "2020-03-19",
          "2020-03-20",
          "2020-03-21",
          "2020-03-22"
         ],
         "xaxis": "x2",
         "y": [
          0,
          0,
          0,
          0,
          0,
          0,
          0,
          0,
          0,
          0,
          0,
          0,
          0,
          0,
          0,
          0,
          0,
          0,
          0,
          0,
          0
         ],
         "yaxis": "y2"
        },
        {
         "line": {
          "color": "rgba(0.7752402921953095,0.8583006535947711,0.9368242983467897,1.0)"
         },
         "name": "20s cumulative",
         "showlegend": false,
         "type": "scatter",
         "x": [
          "2020-03-02",
          "2020-03-03",
          "2020-03-04",
          "2020-03-05",
          "2020-03-06",
          "2020-03-07",
          "2020-03-08",
          "2020-03-09",
          "2020-03-10",
          "2020-03-11",
          "2020-03-12",
          "2020-03-13",
          "2020-03-14",
          "2020-03-15",
          "2020-03-16",
          "2020-03-17",
          "2020-03-18",
          "2020-03-19",
          "2020-03-20",
          "2020-03-21",
          "2020-03-22"
         ],
         "xaxis": "x3",
         "y": [
          0,
          0,
          0,
          0,
          0,
          0,
          0,
          0,
          0,
          0,
          0,
          0,
          0,
          0,
          0,
          0,
          0,
          0,
          0,
          0,
          0
         ],
         "yaxis": "y3"
        },
        {
         "line": {
          "color": "rgba(0.6172549019607844,0.7908650519031142,0.8818454440599769,1.0)"
         },
         "name": "30s",
         "type": "scatter",
         "x": [
          "2020-03-02",
          "2020-03-03",
          "2020-03-04",
          "2020-03-05",
          "2020-03-06",
          "2020-03-07",
          "2020-03-08",
          "2020-03-09",
          "2020-03-10",
          "2020-03-11",
          "2020-03-12",
          "2020-03-13",
          "2020-03-14",
          "2020-03-15",
          "2020-03-16",
          "2020-03-17",
          "2020-03-18",
          "2020-03-19",
          "2020-03-20",
          "2020-03-21",
          "2020-03-22"
         ],
         "xaxis": "x",
         "y": [
          506,
          578,
          631,
          659,
          693,
          727,
          760,
          779,
          789,
          804,
          812,
          823,
          833,
          842,
          849,
          856,
          873,
          886,
          893,
          900,
          909
         ],
         "yaxis": "y"
        },
        {
         "line": {
          "color": "rgba(0.6172549019607844,0.7908650519031142,0.8818454440599769,1.0)"
         },
         "name": "30s",
         "showlegend": false,
         "type": "scatter",
         "x": [
          "2020-03-02",
          "2020-03-03",
          "2020-03-04",
          "2020-03-05",
          "2020-03-06",
          "2020-03-07",
          "2020-03-08",
          "2020-03-09",
          "2020-03-10",
          "2020-03-11",
          "2020-03-12",
          "2020-03-13",
          "2020-03-14",
          "2020-03-15",
          "2020-03-16",
          "2020-03-17",
          "2020-03-18",
          "2020-03-19",
          "2020-03-20",
          "2020-03-21",
          "2020-03-22"
         ],
         "xaxis": "x2",
         "y": [
          1,
          1,
          1,
          1,
          1,
          1,
          1,
          1,
          1,
          1,
          1,
          1,
          1,
          1,
          1,
          1,
          1,
          1,
          1,
          1,
          1
         ],
         "yaxis": "y2"
        },
        {
         "line": {
          "color": "rgba(0.6172549019607844,0.7908650519031142,0.8818454440599769,1.0)"
         },
         "name": "30s cumulative",
         "showlegend": false,
         "type": "scatter",
         "x": [
          "2020-03-02",
          "2020-03-03",
          "2020-03-04",
          "2020-03-05",
          "2020-03-06",
          "2020-03-07",
          "2020-03-08",
          "2020-03-09",
          "2020-03-10",
          "2020-03-11",
          "2020-03-12",
          "2020-03-13",
          "2020-03-14",
          "2020-03-15",
          "2020-03-16",
          "2020-03-17",
          "2020-03-18",
          "2020-03-19",
          "2020-03-20",
          "2020-03-21",
          "2020-03-22"
         ],
         "xaxis": "x3",
         "y": [
          0.1976284584980237,
          0.17301038062283738,
          0.15847860538827258,
          0.15174506828528073,
          0.1443001443001443,
          0.1375515818431912,
          0.13157894736842105,
          0.12836970474967907,
          0.12674271229404308,
          0.12437810945273632,
          0.12315270935960591,
          0.12150668286755771,
          0.12004801920768307,
          0.11876484560570072,
          0.11778563015312131,
          0.11682242990654204,
          0.11454753722794961,
          0.1128668171557562,
          0.11198208286674133,
          0.1111111111111111,
          0.11001100110011
         ],
         "yaxis": "y3"
        },
        {
         "line": {
          "color": "rgba(0.41708573625528644,0.6806305267204922,0.8382314494425221,1.0)"
         },
         "name": "40s",
         "type": "scatter",
         "x": [
          "2020-03-02",
          "2020-03-03",
          "2020-03-04",
          "2020-03-05",
          "2020-03-06",
          "2020-03-07",
          "2020-03-08",
          "2020-03-09",
          "2020-03-10",
          "2020-03-11",
          "2020-03-12",
          "2020-03-13",
          "2020-03-14",
          "2020-03-15",
          "2020-03-16",
          "2020-03-17",
          "2020-03-18",
          "2020-03-19",
          "2020-03-20",
          "2020-03-21",
          "2020-03-22"
         ],
         "xaxis": "x",
         "y": [
          633,
          713,
          790,
          847,
          889,
          941,
          975,
          1005,
          1030,
          1082,
          1101,
          1117,
          1133,
          1141,
          1147,
          1164,
          1171,
          1181,
          1193,
          1203,
          1221
         ],
         "yaxis": "y"
        },
        {
         "line": {
          "color": "rgba(0.41708573625528644,0.6806305267204922,0.8382314494425221,1.0)"
         },
         "name": "40s",
         "showlegend": false,
         "type": "scatter",
         "x": [
          "2020-03-02",
          "2020-03-03",
          "2020-03-04",
          "2020-03-05",
          "2020-03-06",
          "2020-03-07",
          "2020-03-08",
          "2020-03-09",
          "2020-03-10",
          "2020-03-11",
          "2020-03-12",
          "2020-03-13",
          "2020-03-14",
          "2020-03-15",
          "2020-03-16",
          "2020-03-17",
          "2020-03-18",
          "2020-03-19",
          "2020-03-20",
          "2020-03-21",
          "2020-03-22"
         ],
         "xaxis": "x2",
         "y": [
          1,
          1,
          1,
          1,
          1,
          1,
          1,
          1,
          1,
          1,
          1,
          1,
          1,
          1,
          1,
          1,
          1,
          1,
          1,
          1,
          1
         ],
         "yaxis": "y2"
        },
        {
         "line": {
          "color": "rgba(0.41708573625528644,0.6806305267204922,0.8382314494425221,1.0)"
         },
         "name": "40s cumulative",
         "showlegend": false,
         "type": "scatter",
         "x": [
          "2020-03-02",
          "2020-03-03",
          "2020-03-04",
          "2020-03-05",
          "2020-03-06",
          "2020-03-07",
          "2020-03-08",
          "2020-03-09",
          "2020-03-10",
          "2020-03-11",
          "2020-03-12",
          "2020-03-13",
          "2020-03-14",
          "2020-03-15",
          "2020-03-16",
          "2020-03-17",
          "2020-03-18",
          "2020-03-19",
          "2020-03-20",
          "2020-03-21",
          "2020-03-22"
         ],
         "xaxis": "x3",
         "y": [
          0.1579778830963665,
          0.1402524544179523,
          0.12658227848101267,
          0.11806375442739078,
          0.11248593925759282,
          0.10626992561105207,
          0.10256410256410256,
          0.09950248756218905,
          0.0970873786407767,
          0.09242144177449169,
          0.09082652134423251,
          0.08952551477170993,
          0.088261253309797,
          0.0876424189307625,
          0.08718395815170009,
          0.0859106529209622,
          0.08539709649871904,
          0.0846740050804403,
          0.08382229673093043,
          0.0831255195344971,
          0.08190008190008191
         ],
         "yaxis": "y3"
        },
        {
         "line": {
          "color": "rgba(0.25628604382929643,0.5700115340253749,0.7751633986928105,1.0)"
         },
         "name": "50s",
         "type": "scatter",
         "x": [
          "2020-03-02",
          "2020-03-03",
          "2020-03-04",
          "2020-03-05",
          "2020-03-06",
          "2020-03-07",
          "2020-03-08",
          "2020-03-09",
          "2020-03-10",
          "2020-03-11",
          "2020-03-12",
          "2020-03-13",
          "2020-03-14",
          "2020-03-15",
          "2020-03-16",
          "2020-03-17",
          "2020-03-18",
          "2020-03-19",
          "2020-03-20",
          "2020-03-21",
          "2020-03-22"
         ],
         "xaxis": "x",
         "y": [
          834,
          952,
          1051,
          1127,
          1217,
          1287,
          1349,
          1391,
          1416,
          1472,
          1495,
          1523,
          1551,
          1568,
          1585,
          1602,
          1615,
          1642,
          1656,
          1672,
          1691
         ],
         "yaxis": "y"
        },
        {
         "line": {
          "color": "rgba(0.25628604382929643,0.5700115340253749,0.7751633986928105,1.0)"
         },
         "name": "50s",
         "showlegend": false,
         "type": "scatter",
         "x": [
          "2020-03-02",
          "2020-03-03",
          "2020-03-04",
          "2020-03-05",
          "2020-03-06",
          "2020-03-07",
          "2020-03-08",
          "2020-03-09",
          "2020-03-10",
          "2020-03-11",
          "2020-03-12",
          "2020-03-13",
          "2020-03-14",
          "2020-03-15",
          "2020-03-16",
          "2020-03-17",
          "2020-03-18",
          "2020-03-19",
          "2020-03-20",
          "2020-03-21",
          "2020-03-22"
         ],
         "xaxis": "x2",
         "y": [
          5,
          5,
          5,
          5,
          5,
          5,
          5,
          5,
          5,
          6,
          6,
          6,
          6,
          6,
          6,
          6,
          6,
          7,
          7,
          7,
          7
         ],
         "yaxis": "y2"
        },
        {
         "line": {
          "color": "rgba(0.25628604382929643,0.5700115340253749,0.7751633986928105,1.0)"
         },
         "name": "50s cumulative",
         "showlegend": false,
         "type": "scatter",
         "x": [
          "2020-03-02",
          "2020-03-03",
          "2020-03-04",
          "2020-03-05",
          "2020-03-06",
          "2020-03-07",
          "2020-03-08",
          "2020-03-09",
          "2020-03-10",
          "2020-03-11",
          "2020-03-12",
          "2020-03-13",
          "2020-03-14",
          "2020-03-15",
          "2020-03-16",
          "2020-03-17",
          "2020-03-18",
          "2020-03-19",
          "2020-03-20",
          "2020-03-21",
          "2020-03-22"
         ],
         "xaxis": "x3",
         "y": [
          0.5995203836930456,
          0.5252100840336135,
          0.47573739295908657,
          0.44365572315882873,
          0.4108463434675432,
          0.3885003885003885,
          0.37064492216456635,
          0.35945363048166784,
          0.3531073446327684,
          0.4076086956521739,
          0.4013377926421404,
          0.3939592908732764,
          0.3868471953578337,
          0.3826530612244898,
          0.3785488958990536,
          0.37453183520599254,
          0.37151702786377705,
          0.42630937880633374,
          0.4227053140096618,
          0.41866028708133973,
          0.4139562389118865
         ],
         "yaxis": "y3"
        },
        {
         "line": {
          "color": "rgba(0.1271049596309112,0.4401845444059977,0.7074971164936563,1.0)"
         },
         "name": "60s",
         "type": "scatter",
         "x": [
          "2020-03-02",
          "2020-03-03",
          "2020-03-04",
          "2020-03-05",
          "2020-03-06",
          "2020-03-07",
          "2020-03-08",
          "2020-03-09",
          "2020-03-10",
          "2020-03-11",
          "2020-03-12",
          "2020-03-13",
          "2020-03-14",
          "2020-03-15",
          "2020-03-16",
          "2020-03-17",
          "2020-03-18",
          "2020-03-19",
          "2020-03-20",
          "2020-03-21",
          "2020-03-22"
         ],
         "xaxis": "x",
         "y": [
          530,
          597,
          646,
          699,
          763,
          830,
          878,
          916,
          929,
          960,
          972,
          985,
          999,
          1012,
          1024,
          1033,
          1059,
          1080,
          1099,
          1118,
          1132
         ],
         "yaxis": "y"
        },
        {
         "line": {
          "color": "rgba(0.1271049596309112,0.4401845444059977,0.7074971164936563,1.0)"
         },
         "name": "60s",
         "showlegend": false,
         "type": "scatter",
         "x": [
          "2020-03-02",
          "2020-03-03",
          "2020-03-04",
          "2020-03-05",
          "2020-03-06",
          "2020-03-07",
          "2020-03-08",
          "2020-03-09",
          "2020-03-10",
          "2020-03-11",
          "2020-03-12",
          "2020-03-13",
          "2020-03-14",
          "2020-03-15",
          "2020-03-16",
          "2020-03-17",
          "2020-03-18",
          "2020-03-19",
          "2020-03-20",
          "2020-03-21",
          "2020-03-22"
         ],
         "xaxis": "x2",
         "y": [
          6,
          7,
          7,
          8,
          11,
          11,
          11,
          12,
          13,
          14,
          14,
          14,
          14,
          14,
          14,
          16,
          16,
          17,
          17,
          17,
          17
         ],
         "yaxis": "y2"
        },
        {
         "line": {
          "color": "rgba(0.1271049596309112,0.4401845444059977,0.7074971164936563,1.0)"
         },
         "name": "60s cumulative",
         "showlegend": false,
         "type": "scatter",
         "x": [
          "2020-03-02",
          "2020-03-03",
          "2020-03-04",
          "2020-03-05",
          "2020-03-06",
          "2020-03-07",
          "2020-03-08",
          "2020-03-09",
          "2020-03-10",
          "2020-03-11",
          "2020-03-12",
          "2020-03-13",
          "2020-03-14",
          "2020-03-15",
          "2020-03-16",
          "2020-03-17",
          "2020-03-18",
          "2020-03-19",
          "2020-03-20",
          "2020-03-21",
          "2020-03-22"
         ],
         "xaxis": "x3",
         "y": [
          1.1320754716981132,
          1.1725293132328307,
          1.08359133126935,
          1.144492131616595,
          1.4416775884665793,
          1.3253012048192772,
          1.2528473804100226,
          1.3100436681222707,
          1.3993541442411195,
          1.4583333333333333,
          1.440329218106996,
          1.4213197969543148,
          1.4014014014014013,
          1.383399209486166,
          1.3671875,
          1.5488867376573088,
          1.5108593012275733,
          1.574074074074074,
          1.5468607825295724,
          1.520572450805009,
          1.5017667844522968
         ],
         "yaxis": "y3"
        },
        {
         "line": {
          "color": "rgba(0.03137254901960784,0.3140945790080738,0.606489811610919,1.0)"
         },
         "name": "70s",
         "type": "scatter",
         "x": [
          "2020-03-02",
          "2020-03-03",
          "2020-03-04",
          "2020-03-05",
          "2020-03-06",
          "2020-03-07",
          "2020-03-08",
          "2020-03-09",
          "2020-03-10",
          "2020-03-11",
          "2020-03-12",
          "2020-03-13",
          "2020-03-14",
          "2020-03-15",
          "2020-03-16",
          "2020-03-17",
          "2020-03-18",
          "2020-03-19",
          "2020-03-20",
          "2020-03-21",
          "2020-03-22"
         ],
         "xaxis": "x",
         "y": [
          192,
          224,
          260,
          288,
          340,
          384,
          409,
          438,
          454,
          483,
          497,
          506,
          515,
          525,
          531,
          539,
          542,
          562,
          568,
          589,
          595
         ],
         "yaxis": "y"
        },
        {
         "line": {
          "color": "rgba(0.03137254901960784,0.3140945790080738,0.606489811610919,1.0)"
         },
         "name": "70s",
         "showlegend": false,
         "type": "scatter",
         "x": [
          "2020-03-02",
          "2020-03-03",
          "2020-03-04",
          "2020-03-05",
          "2020-03-06",
          "2020-03-07",
          "2020-03-08",
          "2020-03-09",
          "2020-03-10",
          "2020-03-11",
          "2020-03-12",
          "2020-03-13",
          "2020-03-14",
          "2020-03-15",
          "2020-03-16",
          "2020-03-17",
          "2020-03-18",
          "2020-03-19",
          "2020-03-20",
          "2020-03-21",
          "2020-03-22"
         ],
         "xaxis": "x2",
         "y": [
          6,
          9,
          12,
          13,
          14,
          14,
          18,
          18,
          19,
          21,
          24,
          24,
          27,
          28,
          28,
          29,
          29,
          34,
          35,
          37,
          37
         ],
         "yaxis": "y2"
        },
        {
         "line": {
          "color": "rgba(0.03137254901960784,0.3140945790080738,0.606489811610919,1.0)"
         },
         "name": "70s cumulative",
         "showlegend": false,
         "type": "scatter",
         "x": [
          "2020-03-02",
          "2020-03-03",
          "2020-03-04",
          "2020-03-05",
          "2020-03-06",
          "2020-03-07",
          "2020-03-08",
          "2020-03-09",
          "2020-03-10",
          "2020-03-11",
          "2020-03-12",
          "2020-03-13",
          "2020-03-14",
          "2020-03-15",
          "2020-03-16",
          "2020-03-17",
          "2020-03-18",
          "2020-03-19",
          "2020-03-20",
          "2020-03-21",
          "2020-03-22"
         ],
         "xaxis": "x3",
         "y": [
          3.125,
          4.017857142857143,
          4.615384615384616,
          4.513888888888888,
          4.117647058823529,
          3.6458333333333335,
          4.400977995110025,
          4.10958904109589,
          4.185022026431718,
          4.3478260869565215,
          4.82897384305835,
          4.743083003952568,
          5.242718446601942,
          5.333333333333334,
          5.273069679849341,
          5.380333951762523,
          5.350553505535055,
          6.049822064056939,
          6.161971830985916,
          6.281833616298811,
          6.218487394957983
         ],
         "yaxis": "y3"
        },
        {
         "line": {
          "color": "rgba(0.03137254901960784,0.18823529411764706,0.4196078431372549,1.0)"
         },
         "name": "80s",
         "type": "scatter",
         "x": [
          "2020-03-02",
          "2020-03-03",
          "2020-03-04",
          "2020-03-05",
          "2020-03-06",
          "2020-03-07",
          "2020-03-08",
          "2020-03-09",
          "2020-03-10",
          "2020-03-11",
          "2020-03-12",
          "2020-03-13",
          "2020-03-14",
          "2020-03-15",
          "2020-03-16",
          "2020-03-17",
          "2020-03-18",
          "2020-03-19",
          "2020-03-20",
          "2020-03-21",
          "2020-03-22"
         ],
         "xaxis": "x",
         "y": [
          81,
          93,
          108,
          124,
          168,
          191,
          212,
          216,
          222,
          236,
          243,
          253,
          263,
          263,
          270,
          274,
          286,
          321,
          329,
          381,
          392
         ],
         "yaxis": "y"
        },
        {
         "line": {
          "color": "rgba(0.03137254901960784,0.18823529411764706,0.4196078431372549,1.0)"
         },
         "name": "80s",
         "showlegend": false,
         "type": "scatter",
         "x": [
          "2020-03-02",
          "2020-03-03",
          "2020-03-04",
          "2020-03-05",
          "2020-03-06",
          "2020-03-07",
          "2020-03-08",
          "2020-03-09",
          "2020-03-10",
          "2020-03-11",
          "2020-03-12",
          "2020-03-13",
          "2020-03-14",
          "2020-03-15",
          "2020-03-16",
          "2020-03-17",
          "2020-03-18",
          "2020-03-19",
          "2020-03-20",
          "2020-03-21",
          "2020-03-22"
         ],
         "xaxis": "x2",
         "y": [
          3,
          5,
          6,
          7,
          10,
          12,
          14,
          14,
          15,
          17,
          20,
          21,
          23,
          25,
          25,
          28,
          31,
          31,
          33,
          39,
          41
         ],
         "yaxis": "y2"
        },
        {
         "line": {
          "color": "rgba(0.03137254901960784,0.18823529411764706,0.4196078431372549,1.0)"
         },
         "name": "80s cumulative",
         "showlegend": false,
         "type": "scatter",
         "x": [
          "2020-03-02",
          "2020-03-03",
          "2020-03-04",
          "2020-03-05",
          "2020-03-06",
          "2020-03-07",
          "2020-03-08",
          "2020-03-09",
          "2020-03-10",
          "2020-03-11",
          "2020-03-12",
          "2020-03-13",
          "2020-03-14",
          "2020-03-15",
          "2020-03-16",
          "2020-03-17",
          "2020-03-18",
          "2020-03-19",
          "2020-03-20",
          "2020-03-21",
          "2020-03-22"
         ],
         "xaxis": "x3",
         "y": [
          3.7037037037037033,
          5.376344086021505,
          5.555555555555555,
          5.64516129032258,
          5.952380952380952,
          6.282722513089005,
          6.60377358490566,
          6.481481481481481,
          6.756756756756757,
          7.203389830508475,
          8.23045267489712,
          8.300395256916996,
          8.745247148288973,
          9.505703422053232,
          9.25925925925926,
          10.218978102189782,
          10.839160839160838,
          9.657320872274143,
          10.030395136778116,
          10.236220472440944,
          10.459183673469388
         ],
         "yaxis": "y3"
        }
       ],
       "layout": {
        "annotations": [
         {
          "font": {
           "size": 16
          },
          "showarrow": false,
          "text": "Number of cumulative conformations",
          "x": 0.5,
          "xanchor": "center",
          "xref": "paper",
          "y": 1,
          "yanchor": "bottom",
          "yref": "paper"
         },
         {
          "font": {
           "size": 16
          },
          "showarrow": false,
          "text": "Number of cumulative deceased",
          "x": 0.5,
          "xanchor": "center",
          "xref": "paper",
          "y": 0.6111111111111112,
          "yanchor": "bottom",
          "yref": "paper"
         },
         {
          "font": {
           "size": 16
          },
          "showarrow": false,
          "text": "Mortality rate",
          "x": 0.5,
          "xanchor": "center",
          "xref": "paper",
          "y": 0.22222222222222224,
          "yanchor": "bottom",
          "yref": "paper"
         }
        ],
        "height": 800,
        "template": {
         "data": {
          "bar": [
           {
            "error_x": {
             "color": "#2a3f5f"
            },
            "error_y": {
             "color": "#2a3f5f"
            },
            "marker": {
             "line": {
              "color": "white",
              "width": 0.5
             }
            },
            "type": "bar"
           }
          ],
          "barpolar": [
           {
            "marker": {
             "line": {
              "color": "white",
              "width": 0.5
             }
            },
            "type": "barpolar"
           }
          ],
          "carpet": [
           {
            "aaxis": {
             "endlinecolor": "#2a3f5f",
             "gridcolor": "#C8D4E3",
             "linecolor": "#C8D4E3",
             "minorgridcolor": "#C8D4E3",
             "startlinecolor": "#2a3f5f"
            },
            "baxis": {
             "endlinecolor": "#2a3f5f",
             "gridcolor": "#C8D4E3",
             "linecolor": "#C8D4E3",
             "minorgridcolor": "#C8D4E3",
             "startlinecolor": "#2a3f5f"
            },
            "type": "carpet"
           }
          ],
          "choropleth": [
           {
            "colorbar": {
             "outlinewidth": 0,
             "ticks": ""
            },
            "type": "choropleth"
           }
          ],
          "contour": [
           {
            "colorbar": {
             "outlinewidth": 0,
             "ticks": ""
            },
            "colorscale": [
             [
              0,
              "#0d0887"
             ],
             [
              0.1111111111111111,
              "#46039f"
             ],
             [
              0.2222222222222222,
              "#7201a8"
             ],
             [
              0.3333333333333333,
              "#9c179e"
             ],
             [
              0.4444444444444444,
              "#bd3786"
             ],
             [
              0.5555555555555556,
              "#d8576b"
             ],
             [
              0.6666666666666666,
              "#ed7953"
             ],
             [
              0.7777777777777778,
              "#fb9f3a"
             ],
             [
              0.8888888888888888,
              "#fdca26"
             ],
             [
              1,
              "#f0f921"
             ]
            ],
            "type": "contour"
           }
          ],
          "contourcarpet": [
           {
            "colorbar": {
             "outlinewidth": 0,
             "ticks": ""
            },
            "type": "contourcarpet"
           }
          ],
          "heatmap": [
           {
            "colorbar": {
             "outlinewidth": 0,
             "ticks": ""
            },
            "colorscale": [
             [
              0,
              "#0d0887"
             ],
             [
              0.1111111111111111,
              "#46039f"
             ],
             [
              0.2222222222222222,
              "#7201a8"
             ],
             [
              0.3333333333333333,
              "#9c179e"
             ],
             [
              0.4444444444444444,
              "#bd3786"
             ],
             [
              0.5555555555555556,
              "#d8576b"
             ],
             [
              0.6666666666666666,
              "#ed7953"
             ],
             [
              0.7777777777777778,
              "#fb9f3a"
             ],
             [
              0.8888888888888888,
              "#fdca26"
             ],
             [
              1,
              "#f0f921"
             ]
            ],
            "type": "heatmap"
           }
          ],
          "heatmapgl": [
           {
            "colorbar": {
             "outlinewidth": 0,
             "ticks": ""
            },
            "colorscale": [
             [
              0,
              "#0d0887"
             ],
             [
              0.1111111111111111,
              "#46039f"
             ],
             [
              0.2222222222222222,
              "#7201a8"
             ],
             [
              0.3333333333333333,
              "#9c179e"
             ],
             [
              0.4444444444444444,
              "#bd3786"
             ],
             [
              0.5555555555555556,
              "#d8576b"
             ],
             [
              0.6666666666666666,
              "#ed7953"
             ],
             [
              0.7777777777777778,
              "#fb9f3a"
             ],
             [
              0.8888888888888888,
              "#fdca26"
             ],
             [
              1,
              "#f0f921"
             ]
            ],
            "type": "heatmapgl"
           }
          ],
          "histogram": [
           {
            "marker": {
             "colorbar": {
              "outlinewidth": 0,
              "ticks": ""
             }
            },
            "type": "histogram"
           }
          ],
          "histogram2d": [
           {
            "colorbar": {
             "outlinewidth": 0,
             "ticks": ""
            },
            "colorscale": [
             [
              0,
              "#0d0887"
             ],
             [
              0.1111111111111111,
              "#46039f"
             ],
             [
              0.2222222222222222,
              "#7201a8"
             ],
             [
              0.3333333333333333,
              "#9c179e"
             ],
             [
              0.4444444444444444,
              "#bd3786"
             ],
             [
              0.5555555555555556,
              "#d8576b"
             ],
             [
              0.6666666666666666,
              "#ed7953"
             ],
             [
              0.7777777777777778,
              "#fb9f3a"
             ],
             [
              0.8888888888888888,
              "#fdca26"
             ],
             [
              1,
              "#f0f921"
             ]
            ],
            "type": "histogram2d"
           }
          ],
          "histogram2dcontour": [
           {
            "colorbar": {
             "outlinewidth": 0,
             "ticks": ""
            },
            "colorscale": [
             [
              0,
              "#0d0887"
             ],
             [
              0.1111111111111111,
              "#46039f"
             ],
             [
              0.2222222222222222,
              "#7201a8"
             ],
             [
              0.3333333333333333,
              "#9c179e"
             ],
             [
              0.4444444444444444,
              "#bd3786"
             ],
             [
              0.5555555555555556,
              "#d8576b"
             ],
             [
              0.6666666666666666,
              "#ed7953"
             ],
             [
              0.7777777777777778,
              "#fb9f3a"
             ],
             [
              0.8888888888888888,
              "#fdca26"
             ],
             [
              1,
              "#f0f921"
             ]
            ],
            "type": "histogram2dcontour"
           }
          ],
          "mesh3d": [
           {
            "colorbar": {
             "outlinewidth": 0,
             "ticks": ""
            },
            "type": "mesh3d"
           }
          ],
          "parcoords": [
           {
            "line": {
             "colorbar": {
              "outlinewidth": 0,
              "ticks": ""
             }
            },
            "type": "parcoords"
           }
          ],
          "pie": [
           {
            "automargin": true,
            "type": "pie"
           }
          ],
          "scatter": [
           {
            "marker": {
             "colorbar": {
              "outlinewidth": 0,
              "ticks": ""
             }
            },
            "type": "scatter"
           }
          ],
          "scatter3d": [
           {
            "line": {
             "colorbar": {
              "outlinewidth": 0,
              "ticks": ""
             }
            },
            "marker": {
             "colorbar": {
              "outlinewidth": 0,
              "ticks": ""
             }
            },
            "type": "scatter3d"
           }
          ],
          "scattercarpet": [
           {
            "marker": {
             "colorbar": {
              "outlinewidth": 0,
              "ticks": ""
             }
            },
            "type": "scattercarpet"
           }
          ],
          "scattergeo": [
           {
            "marker": {
             "colorbar": {
              "outlinewidth": 0,
              "ticks": ""
             }
            },
            "type": "scattergeo"
           }
          ],
          "scattergl": [
           {
            "marker": {
             "colorbar": {
              "outlinewidth": 0,
              "ticks": ""
             }
            },
            "type": "scattergl"
           }
          ],
          "scattermapbox": [
           {
            "marker": {
             "colorbar": {
              "outlinewidth": 0,
              "ticks": ""
             }
            },
            "type": "scattermapbox"
           }
          ],
          "scatterpolar": [
           {
            "marker": {
             "colorbar": {
              "outlinewidth": 0,
              "ticks": ""
             }
            },
            "type": "scatterpolar"
           }
          ],
          "scatterpolargl": [
           {
            "marker": {
             "colorbar": {
              "outlinewidth": 0,
              "ticks": ""
             }
            },
            "type": "scatterpolargl"
           }
          ],
          "scatterternary": [
           {
            "marker": {
             "colorbar": {
              "outlinewidth": 0,
              "ticks": ""
             }
            },
            "type": "scatterternary"
           }
          ],
          "surface": [
           {
            "colorbar": {
             "outlinewidth": 0,
             "ticks": ""
            },
            "colorscale": [
             [
              0,
              "#0d0887"
             ],
             [
              0.1111111111111111,
              "#46039f"
             ],
             [
              0.2222222222222222,
              "#7201a8"
             ],
             [
              0.3333333333333333,
              "#9c179e"
             ],
             [
              0.4444444444444444,
              "#bd3786"
             ],
             [
              0.5555555555555556,
              "#d8576b"
             ],
             [
              0.6666666666666666,
              "#ed7953"
             ],
             [
              0.7777777777777778,
              "#fb9f3a"
             ],
             [
              0.8888888888888888,
              "#fdca26"
             ],
             [
              1,
              "#f0f921"
             ]
            ],
            "type": "surface"
           }
          ],
          "table": [
           {
            "cells": {
             "fill": {
              "color": "#EBF0F8"
             },
             "line": {
              "color": "white"
             }
            },
            "header": {
             "fill": {
              "color": "#C8D4E3"
             },
             "line": {
              "color": "white"
             }
            },
            "type": "table"
           }
          ]
         },
         "layout": {
          "annotationdefaults": {
           "arrowcolor": "#2a3f5f",
           "arrowhead": 0,
           "arrowwidth": 1
          },
          "coloraxis": {
           "colorbar": {
            "outlinewidth": 0,
            "ticks": ""
           }
          },
          "colorscale": {
           "diverging": [
            [
             0,
             "#8e0152"
            ],
            [
             0.1,
             "#c51b7d"
            ],
            [
             0.2,
             "#de77ae"
            ],
            [
             0.3,
             "#f1b6da"
            ],
            [
             0.4,
             "#fde0ef"
            ],
            [
             0.5,
             "#f7f7f7"
            ],
            [
             0.6,
             "#e6f5d0"
            ],
            [
             0.7,
             "#b8e186"
            ],
            [
             0.8,
             "#7fbc41"
            ],
            [
             0.9,
             "#4d9221"
            ],
            [
             1,
             "#276419"
            ]
           ],
           "sequential": [
            [
             0,
             "#0d0887"
            ],
            [
             0.1111111111111111,
             "#46039f"
            ],
            [
             0.2222222222222222,
             "#7201a8"
            ],
            [
             0.3333333333333333,
             "#9c179e"
            ],
            [
             0.4444444444444444,
             "#bd3786"
            ],
            [
             0.5555555555555556,
             "#d8576b"
            ],
            [
             0.6666666666666666,
             "#ed7953"
            ],
            [
             0.7777777777777778,
             "#fb9f3a"
            ],
            [
             0.8888888888888888,
             "#fdca26"
            ],
            [
             1,
             "#f0f921"
            ]
           ],
           "sequentialminus": [
            [
             0,
             "#0d0887"
            ],
            [
             0.1111111111111111,
             "#46039f"
            ],
            [
             0.2222222222222222,
             "#7201a8"
            ],
            [
             0.3333333333333333,
             "#9c179e"
            ],
            [
             0.4444444444444444,
             "#bd3786"
            ],
            [
             0.5555555555555556,
             "#d8576b"
            ],
            [
             0.6666666666666666,
             "#ed7953"
            ],
            [
             0.7777777777777778,
             "#fb9f3a"
            ],
            [
             0.8888888888888888,
             "#fdca26"
            ],
            [
             1,
             "#f0f921"
            ]
           ]
          },
          "colorway": [
           "#636efa",
           "#EF553B",
           "#00cc96",
           "#ab63fa",
           "#FFA15A",
           "#19d3f3",
           "#FF6692",
           "#B6E880",
           "#FF97FF",
           "#FECB52"
          ],
          "font": {
           "color": "#2a3f5f"
          },
          "geo": {
           "bgcolor": "white",
           "lakecolor": "white",
           "landcolor": "white",
           "showlakes": true,
           "showland": true,
           "subunitcolor": "#C8D4E3"
          },
          "hoverlabel": {
           "align": "left"
          },
          "hovermode": "closest",
          "mapbox": {
           "style": "light"
          },
          "paper_bgcolor": "white",
          "plot_bgcolor": "white",
          "polar": {
           "angularaxis": {
            "gridcolor": "#EBF0F8",
            "linecolor": "#EBF0F8",
            "ticks": ""
           },
           "bgcolor": "white",
           "radialaxis": {
            "gridcolor": "#EBF0F8",
            "linecolor": "#EBF0F8",
            "ticks": ""
           }
          },
          "scene": {
           "xaxis": {
            "backgroundcolor": "white",
            "gridcolor": "#DFE8F3",
            "gridwidth": 2,
            "linecolor": "#EBF0F8",
            "showbackground": true,
            "ticks": "",
            "zerolinecolor": "#EBF0F8"
           },
           "yaxis": {
            "backgroundcolor": "white",
            "gridcolor": "#DFE8F3",
            "gridwidth": 2,
            "linecolor": "#EBF0F8",
            "showbackground": true,
            "ticks": "",
            "zerolinecolor": "#EBF0F8"
           },
           "zaxis": {
            "backgroundcolor": "white",
            "gridcolor": "#DFE8F3",
            "gridwidth": 2,
            "linecolor": "#EBF0F8",
            "showbackground": true,
            "ticks": "",
            "zerolinecolor": "#EBF0F8"
           }
          },
          "shapedefaults": {
           "line": {
            "color": "#2a3f5f"
           }
          },
          "ternary": {
           "aaxis": {
            "gridcolor": "#DFE8F3",
            "linecolor": "#A2B1C6",
            "ticks": ""
           },
           "baxis": {
            "gridcolor": "#DFE8F3",
            "linecolor": "#A2B1C6",
            "ticks": ""
           },
           "bgcolor": "white",
           "caxis": {
            "gridcolor": "#DFE8F3",
            "linecolor": "#A2B1C6",
            "ticks": ""
           }
          },
          "title": {
           "x": 0.05
          },
          "xaxis": {
           "automargin": true,
           "gridcolor": "#EBF0F8",
           "linecolor": "#EBF0F8",
           "ticks": "",
           "title": {
            "standoff": 15
           },
           "zerolinecolor": "#EBF0F8",
           "zerolinewidth": 2
          },
          "yaxis": {
           "automargin": true,
           "gridcolor": "#EBF0F8",
           "linecolor": "#EBF0F8",
           "ticks": "",
           "title": {
            "standoff": 15
           },
           "zerolinecolor": "#EBF0F8",
           "zerolinewidth": 2
          }
         }
        },
        "title": {
         "text": "Analysis of COVID progression over time"
        },
        "width": 600,
        "xaxis": {
         "anchor": "y",
         "domain": [
          0,
          1
         ]
        },
        "xaxis2": {
         "anchor": "y2",
         "domain": [
          0,
          1
         ]
        },
        "xaxis3": {
         "anchor": "y3",
         "domain": [
          0,
          1
         ]
        },
        "yaxis": {
         "anchor": "x",
         "domain": [
          0.7777777777777778,
          1
         ],
         "title": {
          "text": "[-]"
         }
        },
        "yaxis2": {
         "anchor": "x2",
         "domain": [
          0.3888888888888889,
          0.6111111111111112
         ],
         "title": {
          "text": "[-]"
         }
        },
        "yaxis3": {
         "anchor": "x3",
         "domain": [
          0,
          0.22222222222222224
         ],
         "title": {
          "text": "[%]"
         }
        }
       }
      }
     },
     "metadata": {},
     "output_type": "display_data"
    }
   ],
   "source": [
    "df=df_dict['TimeAge']\n",
    "fig = make_subplots(rows=3, cols=1, subplot_titles=(\"Number of cumulative conformations\", \"Number of cumulative deceased\", \"Mortality rate\"))\n",
    "colors=plt.cm.Blues(np.linspace(0, 1, len(df['age'].unique())))\n",
    "\n",
    "for i, age in enumerate(df['age'].unique()):\n",
    "    plt_df=df[df['age']==age]\n",
    "    x=plt_df['date'].values\n",
    "    y_conf=plt_df['confirmed'].values\n",
    "    \n",
    "    y_des=plt_df['deceased'].values\n",
    "\n",
    "    #decease rate\n",
    "    y_des_rate=y_des/y_conf*100\n",
    "\n",
    "    color=f\"rgba({colors[i][0]},{colors[i][1]},{colors[i][2]},{colors[i][3]})\"\n",
    "    \n",
    "    \n",
    "    fig.add_trace(go.Scatter(x=x, y=y_conf, name=age, line=dict(color=color)), row=1, col=1)\n",
    "    fig.add_trace(go.Scatter(x=x, y=y_des, name=age, line=dict(color=color), showlegend=False), row=2, col=1)\n",
    "    fig.add_trace(go.Scatter(x=x, y=y_des_rate, name=f\"{age} cumulative\", line=dict(color=color), showlegend=False), row=3, col=1)\n",
    "\n",
    "fig.update_yaxes(title_text=\"[-]\", row=1, col=1)\n",
    "fig.update_yaxes(title_text=\"[-]\", row=2, col=1)\n",
    "fig.update_yaxes(title_text=\"[%]\", row=3, col=1)\n",
    "fig.update_layout(height=800,\n",
    "                  width=600,\n",
    "                  title_text=\"Analysis of COVID progression over time\",\n",
    "                  template=\"plotly_white\")\n",
    "fig.show()"
   ]
  },
  {
   "cell_type": "markdown",
   "metadata": {},
   "source": [
    "From this graph we can constate a couple of interesting things:\n",
    "- Younger people tend to have a higher infection rate, especially people in their 20s\n",
    "- Older people above 70 show the highest mortality rate between 5-10 %\n",
    "- The cumulative curves show a flattening trend, which indicates, that spread of the virus is contained\n"
   ]
  },
  {
   "cell_type": "markdown",
   "metadata": {},
   "source": [
    "Let's investigate if gender has an effect on the virus. Therefore, we take a look at the TimeGender data set and produce a plot of the mortality rate similar as above"
   ]
  },
  {
   "cell_type": "code",
   "execution_count": 12,
   "metadata": {},
   "outputs": [
    {
     "data": {
      "application/vnd.plotly.v1+json": {
       "config": {
        "plotlyServerURL": "https://plot.ly"
       },
       "data": [
        {
         "line": {
          "color": "rgba(0.9686274509803922,0.984313725490196,1.0,1.0)"
         },
         "name": "male cumulative",
         "showlegend": true,
         "type": "scatter",
         "x": [
          "2020-03-02",
          "2020-03-03",
          "2020-03-04",
          "2020-03-05",
          "2020-03-06",
          "2020-03-07",
          "2020-03-08",
          "2020-03-09",
          "2020-03-10",
          "2020-03-11",
          "2020-03-12",
          "2020-03-13",
          "2020-03-14",
          "2020-03-15",
          "2020-03-16",
          "2020-03-17",
          "2020-03-18",
          "2020-03-19",
          "2020-03-20",
          "2020-03-21",
          "2020-03-22"
         ],
         "y": [
          0.8170961659333752,
          0.8839779005524863,
          1.002004008016032,
          0.9771986970684038,
          1.0660980810234542,
          1.0309278350515463,
          1.0764662212323683,
          1.1075384065737763,
          1.1570827489481066,
          1.187648456057007,
          1.2692050768203071,
          1.2816299704239238,
          1.3225806451612903,
          1.3073979591836735,
          1.2937835279267906,
          1.375,
          1.3888888888888888,
          1.4866504854368932,
          1.5315315315315314,
          1.5943312666076175,
          1.6034985422740524
         ]
        },
        {
         "line": {
          "color": "rgba(0.03137254901960784,0.18823529411764706,0.4196078431372549,1.0)"
         },
         "name": "female cumulative",
         "showlegend": true,
         "type": "scatter",
         "x": [
          "2020-03-02",
          "2020-03-03",
          "2020-03-04",
          "2020-03-05",
          "2020-03-06",
          "2020-03-07",
          "2020-03-08",
          "2020-03-09",
          "2020-03-10",
          "2020-03-11",
          "2020-03-12",
          "2020-03-13",
          "2020-03-14",
          "2020-03-15",
          "2020-03-16",
          "2020-03-17",
          "2020-03-18",
          "2020-03-19",
          "2020-03-20",
          "2020-03-21",
          "2020-03-22"
         ],
         "y": [
          0.3433803891644411,
          0.39973351099267157,
          0.36014405762304924,
          0.3870611003594139,
          0.4315816197004316,
          0.4240282685512367,
          0.45045045045045046,
          0.4363953742090334,
          0.45054709289851963,
          0.5199667221297837,
          0.5743589743589744,
          0.5672609400324149,
          0.6217408744484557,
          0.6764822920811778,
          0.6710084862837971,
          0.72265625,
          0.7539145563502803,
          0.7971152021256405,
          0.807966929725667,
          0.8869179600886918,
          0.8962868117797695
         ]
        }
       ],
       "layout": {
        "height": 400,
        "template": {
         "data": {
          "bar": [
           {
            "error_x": {
             "color": "#2a3f5f"
            },
            "error_y": {
             "color": "#2a3f5f"
            },
            "marker": {
             "line": {
              "color": "white",
              "width": 0.5
             }
            },
            "type": "bar"
           }
          ],
          "barpolar": [
           {
            "marker": {
             "line": {
              "color": "white",
              "width": 0.5
             }
            },
            "type": "barpolar"
           }
          ],
          "carpet": [
           {
            "aaxis": {
             "endlinecolor": "#2a3f5f",
             "gridcolor": "#C8D4E3",
             "linecolor": "#C8D4E3",
             "minorgridcolor": "#C8D4E3",
             "startlinecolor": "#2a3f5f"
            },
            "baxis": {
             "endlinecolor": "#2a3f5f",
             "gridcolor": "#C8D4E3",
             "linecolor": "#C8D4E3",
             "minorgridcolor": "#C8D4E3",
             "startlinecolor": "#2a3f5f"
            },
            "type": "carpet"
           }
          ],
          "choropleth": [
           {
            "colorbar": {
             "outlinewidth": 0,
             "ticks": ""
            },
            "type": "choropleth"
           }
          ],
          "contour": [
           {
            "colorbar": {
             "outlinewidth": 0,
             "ticks": ""
            },
            "colorscale": [
             [
              0,
              "#0d0887"
             ],
             [
              0.1111111111111111,
              "#46039f"
             ],
             [
              0.2222222222222222,
              "#7201a8"
             ],
             [
              0.3333333333333333,
              "#9c179e"
             ],
             [
              0.4444444444444444,
              "#bd3786"
             ],
             [
              0.5555555555555556,
              "#d8576b"
             ],
             [
              0.6666666666666666,
              "#ed7953"
             ],
             [
              0.7777777777777778,
              "#fb9f3a"
             ],
             [
              0.8888888888888888,
              "#fdca26"
             ],
             [
              1,
              "#f0f921"
             ]
            ],
            "type": "contour"
           }
          ],
          "contourcarpet": [
           {
            "colorbar": {
             "outlinewidth": 0,
             "ticks": ""
            },
            "type": "contourcarpet"
           }
          ],
          "heatmap": [
           {
            "colorbar": {
             "outlinewidth": 0,
             "ticks": ""
            },
            "colorscale": [
             [
              0,
              "#0d0887"
             ],
             [
              0.1111111111111111,
              "#46039f"
             ],
             [
              0.2222222222222222,
              "#7201a8"
             ],
             [
              0.3333333333333333,
              "#9c179e"
             ],
             [
              0.4444444444444444,
              "#bd3786"
             ],
             [
              0.5555555555555556,
              "#d8576b"
             ],
             [
              0.6666666666666666,
              "#ed7953"
             ],
             [
              0.7777777777777778,
              "#fb9f3a"
             ],
             [
              0.8888888888888888,
              "#fdca26"
             ],
             [
              1,
              "#f0f921"
             ]
            ],
            "type": "heatmap"
           }
          ],
          "heatmapgl": [
           {
            "colorbar": {
             "outlinewidth": 0,
             "ticks": ""
            },
            "colorscale": [
             [
              0,
              "#0d0887"
             ],
             [
              0.1111111111111111,
              "#46039f"
             ],
             [
              0.2222222222222222,
              "#7201a8"
             ],
             [
              0.3333333333333333,
              "#9c179e"
             ],
             [
              0.4444444444444444,
              "#bd3786"
             ],
             [
              0.5555555555555556,
              "#d8576b"
             ],
             [
              0.6666666666666666,
              "#ed7953"
             ],
             [
              0.7777777777777778,
              "#fb9f3a"
             ],
             [
              0.8888888888888888,
              "#fdca26"
             ],
             [
              1,
              "#f0f921"
             ]
            ],
            "type": "heatmapgl"
           }
          ],
          "histogram": [
           {
            "marker": {
             "colorbar": {
              "outlinewidth": 0,
              "ticks": ""
             }
            },
            "type": "histogram"
           }
          ],
          "histogram2d": [
           {
            "colorbar": {
             "outlinewidth": 0,
             "ticks": ""
            },
            "colorscale": [
             [
              0,
              "#0d0887"
             ],
             [
              0.1111111111111111,
              "#46039f"
             ],
             [
              0.2222222222222222,
              "#7201a8"
             ],
             [
              0.3333333333333333,
              "#9c179e"
             ],
             [
              0.4444444444444444,
              "#bd3786"
             ],
             [
              0.5555555555555556,
              "#d8576b"
             ],
             [
              0.6666666666666666,
              "#ed7953"
             ],
             [
              0.7777777777777778,
              "#fb9f3a"
             ],
             [
              0.8888888888888888,
              "#fdca26"
             ],
             [
              1,
              "#f0f921"
             ]
            ],
            "type": "histogram2d"
           }
          ],
          "histogram2dcontour": [
           {
            "colorbar": {
             "outlinewidth": 0,
             "ticks": ""
            },
            "colorscale": [
             [
              0,
              "#0d0887"
             ],
             [
              0.1111111111111111,
              "#46039f"
             ],
             [
              0.2222222222222222,
              "#7201a8"
             ],
             [
              0.3333333333333333,
              "#9c179e"
             ],
             [
              0.4444444444444444,
              "#bd3786"
             ],
             [
              0.5555555555555556,
              "#d8576b"
             ],
             [
              0.6666666666666666,
              "#ed7953"
             ],
             [
              0.7777777777777778,
              "#fb9f3a"
             ],
             [
              0.8888888888888888,
              "#fdca26"
             ],
             [
              1,
              "#f0f921"
             ]
            ],
            "type": "histogram2dcontour"
           }
          ],
          "mesh3d": [
           {
            "colorbar": {
             "outlinewidth": 0,
             "ticks": ""
            },
            "type": "mesh3d"
           }
          ],
          "parcoords": [
           {
            "line": {
             "colorbar": {
              "outlinewidth": 0,
              "ticks": ""
             }
            },
            "type": "parcoords"
           }
          ],
          "pie": [
           {
            "automargin": true,
            "type": "pie"
           }
          ],
          "scatter": [
           {
            "marker": {
             "colorbar": {
              "outlinewidth": 0,
              "ticks": ""
             }
            },
            "type": "scatter"
           }
          ],
          "scatter3d": [
           {
            "line": {
             "colorbar": {
              "outlinewidth": 0,
              "ticks": ""
             }
            },
            "marker": {
             "colorbar": {
              "outlinewidth": 0,
              "ticks": ""
             }
            },
            "type": "scatter3d"
           }
          ],
          "scattercarpet": [
           {
            "marker": {
             "colorbar": {
              "outlinewidth": 0,
              "ticks": ""
             }
            },
            "type": "scattercarpet"
           }
          ],
          "scattergeo": [
           {
            "marker": {
             "colorbar": {
              "outlinewidth": 0,
              "ticks": ""
             }
            },
            "type": "scattergeo"
           }
          ],
          "scattergl": [
           {
            "marker": {
             "colorbar": {
              "outlinewidth": 0,
              "ticks": ""
             }
            },
            "type": "scattergl"
           }
          ],
          "scattermapbox": [
           {
            "marker": {
             "colorbar": {
              "outlinewidth": 0,
              "ticks": ""
             }
            },
            "type": "scattermapbox"
           }
          ],
          "scatterpolar": [
           {
            "marker": {
             "colorbar": {
              "outlinewidth": 0,
              "ticks": ""
             }
            },
            "type": "scatterpolar"
           }
          ],
          "scatterpolargl": [
           {
            "marker": {
             "colorbar": {
              "outlinewidth": 0,
              "ticks": ""
             }
            },
            "type": "scatterpolargl"
           }
          ],
          "scatterternary": [
           {
            "marker": {
             "colorbar": {
              "outlinewidth": 0,
              "ticks": ""
             }
            },
            "type": "scatterternary"
           }
          ],
          "surface": [
           {
            "colorbar": {
             "outlinewidth": 0,
             "ticks": ""
            },
            "colorscale": [
             [
              0,
              "#0d0887"
             ],
             [
              0.1111111111111111,
              "#46039f"
             ],
             [
              0.2222222222222222,
              "#7201a8"
             ],
             [
              0.3333333333333333,
              "#9c179e"
             ],
             [
              0.4444444444444444,
              "#bd3786"
             ],
             [
              0.5555555555555556,
              "#d8576b"
             ],
             [
              0.6666666666666666,
              "#ed7953"
             ],
             [
              0.7777777777777778,
              "#fb9f3a"
             ],
             [
              0.8888888888888888,
              "#fdca26"
             ],
             [
              1,
              "#f0f921"
             ]
            ],
            "type": "surface"
           }
          ],
          "table": [
           {
            "cells": {
             "fill": {
              "color": "#EBF0F8"
             },
             "line": {
              "color": "white"
             }
            },
            "header": {
             "fill": {
              "color": "#C8D4E3"
             },
             "line": {
              "color": "white"
             }
            },
            "type": "table"
           }
          ]
         },
         "layout": {
          "annotationdefaults": {
           "arrowcolor": "#2a3f5f",
           "arrowhead": 0,
           "arrowwidth": 1
          },
          "coloraxis": {
           "colorbar": {
            "outlinewidth": 0,
            "ticks": ""
           }
          },
          "colorscale": {
           "diverging": [
            [
             0,
             "#8e0152"
            ],
            [
             0.1,
             "#c51b7d"
            ],
            [
             0.2,
             "#de77ae"
            ],
            [
             0.3,
             "#f1b6da"
            ],
            [
             0.4,
             "#fde0ef"
            ],
            [
             0.5,
             "#f7f7f7"
            ],
            [
             0.6,
             "#e6f5d0"
            ],
            [
             0.7,
             "#b8e186"
            ],
            [
             0.8,
             "#7fbc41"
            ],
            [
             0.9,
             "#4d9221"
            ],
            [
             1,
             "#276419"
            ]
           ],
           "sequential": [
            [
             0,
             "#0d0887"
            ],
            [
             0.1111111111111111,
             "#46039f"
            ],
            [
             0.2222222222222222,
             "#7201a8"
            ],
            [
             0.3333333333333333,
             "#9c179e"
            ],
            [
             0.4444444444444444,
             "#bd3786"
            ],
            [
             0.5555555555555556,
             "#d8576b"
            ],
            [
             0.6666666666666666,
             "#ed7953"
            ],
            [
             0.7777777777777778,
             "#fb9f3a"
            ],
            [
             0.8888888888888888,
             "#fdca26"
            ],
            [
             1,
             "#f0f921"
            ]
           ],
           "sequentialminus": [
            [
             0,
             "#0d0887"
            ],
            [
             0.1111111111111111,
             "#46039f"
            ],
            [
             0.2222222222222222,
             "#7201a8"
            ],
            [
             0.3333333333333333,
             "#9c179e"
            ],
            [
             0.4444444444444444,
             "#bd3786"
            ],
            [
             0.5555555555555556,
             "#d8576b"
            ],
            [
             0.6666666666666666,
             "#ed7953"
            ],
            [
             0.7777777777777778,
             "#fb9f3a"
            ],
            [
             0.8888888888888888,
             "#fdca26"
            ],
            [
             1,
             "#f0f921"
            ]
           ]
          },
          "colorway": [
           "#636efa",
           "#EF553B",
           "#00cc96",
           "#ab63fa",
           "#FFA15A",
           "#19d3f3",
           "#FF6692",
           "#B6E880",
           "#FF97FF",
           "#FECB52"
          ],
          "font": {
           "color": "#2a3f5f"
          },
          "geo": {
           "bgcolor": "white",
           "lakecolor": "white",
           "landcolor": "white",
           "showlakes": true,
           "showland": true,
           "subunitcolor": "#C8D4E3"
          },
          "hoverlabel": {
           "align": "left"
          },
          "hovermode": "closest",
          "mapbox": {
           "style": "light"
          },
          "paper_bgcolor": "white",
          "plot_bgcolor": "white",
          "polar": {
           "angularaxis": {
            "gridcolor": "#EBF0F8",
            "linecolor": "#EBF0F8",
            "ticks": ""
           },
           "bgcolor": "white",
           "radialaxis": {
            "gridcolor": "#EBF0F8",
            "linecolor": "#EBF0F8",
            "ticks": ""
           }
          },
          "scene": {
           "xaxis": {
            "backgroundcolor": "white",
            "gridcolor": "#DFE8F3",
            "gridwidth": 2,
            "linecolor": "#EBF0F8",
            "showbackground": true,
            "ticks": "",
            "zerolinecolor": "#EBF0F8"
           },
           "yaxis": {
            "backgroundcolor": "white",
            "gridcolor": "#DFE8F3",
            "gridwidth": 2,
            "linecolor": "#EBF0F8",
            "showbackground": true,
            "ticks": "",
            "zerolinecolor": "#EBF0F8"
           },
           "zaxis": {
            "backgroundcolor": "white",
            "gridcolor": "#DFE8F3",
            "gridwidth": 2,
            "linecolor": "#EBF0F8",
            "showbackground": true,
            "ticks": "",
            "zerolinecolor": "#EBF0F8"
           }
          },
          "shapedefaults": {
           "line": {
            "color": "#2a3f5f"
           }
          },
          "ternary": {
           "aaxis": {
            "gridcolor": "#DFE8F3",
            "linecolor": "#A2B1C6",
            "ticks": ""
           },
           "baxis": {
            "gridcolor": "#DFE8F3",
            "linecolor": "#A2B1C6",
            "ticks": ""
           },
           "bgcolor": "white",
           "caxis": {
            "gridcolor": "#DFE8F3",
            "linecolor": "#A2B1C6",
            "ticks": ""
           }
          },
          "title": {
           "x": 0.05
          },
          "xaxis": {
           "automargin": true,
           "gridcolor": "#EBF0F8",
           "linecolor": "#EBF0F8",
           "ticks": "",
           "title": {
            "standoff": 15
           },
           "zerolinecolor": "#EBF0F8",
           "zerolinewidth": 2
          },
          "yaxis": {
           "automargin": true,
           "gridcolor": "#EBF0F8",
           "linecolor": "#EBF0F8",
           "ticks": "",
           "title": {
            "standoff": 15
           },
           "zerolinecolor": "#EBF0F8",
           "zerolinewidth": 2
          }
         }
        },
        "title": {
         "text": "Analysis of the gender influence of the mortality rate"
        },
        "width": 600,
        "yaxis": {
         "title": {
          "text": "[%]"
         }
        }
       }
      }
     },
     "metadata": {},
     "output_type": "display_data"
    }
   ],
   "source": [
    "df=df_dict['TimeGender']\n",
    "fig = go.Figure()\n",
    "colors=plt.cm.Blues(np.linspace(0, 1, len(df['sex'].unique())))\n",
    "\n",
    "for i, sex in enumerate(df['sex'].unique()):\n",
    "    plt_df=df[df['sex']==sex]\n",
    "    x=plt_df['date'].values\n",
    "    y_conf=plt_df['confirmed'].values\n",
    "    \n",
    "    y_des=plt_df['deceased'].values\n",
    "\n",
    "    #decease rate\n",
    "    y_des_rate=y_des/y_conf*100\n",
    "\n",
    "    color=f\"rgba({colors[i][0]},{colors[i][1]},{colors[i][2]},{colors[i][3]})\"\n",
    "    \n",
    "    \n",
    "    fig.add_trace(go.Scatter(x=x, y=y_des_rate, name=f\"{sex} cumulative\", line=dict(color=color), showlegend=True))\n",
    "\n",
    "fig.update_yaxes(title_text=\"[%]\")\n",
    "fig.update_layout(height=400,\n",
    "                  width=600,\n",
    "                  title_text=\"Analysis of the gender influence of the mortality rate\",\n",
    "                  template=\"plotly_white\")\n",
    "fig.show()"
   ]
  },
  {
   "cell_type": "markdown",
   "metadata": {},
   "source": [
    "Ok.... this does not look good for men; on average the mortality rate is twice as high as for women and both rates seem still to increase."
   ]
  },
  {
   "cell_type": "markdown",
   "metadata": {},
   "source": [
    "Now we want to investigate the influence of demographics and infrastructure of the cities. Therefore, we read in the Region data with the added information about population and population density for the cities and fuse the data with the Case data."
   ]
  },
  {
   "cell_type": "code",
   "execution_count": 13,
   "metadata": {},
   "outputs": [
    {
     "name": "stdout",
     "output_type": "stream",
     "text": [
      "  province           city  confirmed\n",
      "0    Seoul        Guro-gu       79.0\n",
      "1    Seoul  Dongdaemun-gu       24.0\n",
      "2    Seoul   Eunpyeong-gu       14.0\n",
      "3    Seoul   Seongdong-gu       13.0\n",
      "4    Seoul      Jongno-gu       10.0\n"
     ]
    }
   ],
   "source": [
    "# Sum all cases for one city\n",
    "unique_cities=df_dict['Case'][['province','city']].drop_duplicates()\n",
    "\n",
    "df_sum=pd.DataFrame([])\n",
    "for i, j in enumerate(unique_cities.index):\n",
    "    city=unique_cities['city'][j]\n",
    "    province=unique_cities['province'][j]\n",
    "    df_sum.at[i,'province']=province\n",
    "    df_sum.at[i,'city']=city\n",
    "    idx_cases=np.where((df_dict['Case']['city']==city) & (df_dict['Case']['province']==province),True,False)\n",
    "    sum_i=np.sum(df_dict['Case'].loc[idx_cases,'confirmed'].values)\n",
    "    df_sum.at[i,'confirmed']=sum_i\n",
    "print(df_sum.head())"
   ]
  },
  {
   "cell_type": "code",
   "execution_count": 111,
   "metadata": {
    "tags": [
     "outputPrepend"
    ]
   },
   "outputs": [
    {
     "name": "stdout",
     "output_type": "stream",
     "text": [
      "province           city  confirmed  Population  PopulationDensity  \\\n",
      "0    Seoul        Guro-gu       79.0    439371.0           21837.52   \n",
      "1    Seoul  Dongdaemun-gu       24.0    363023.0           25565.00   \n",
      "2    Seoul   Eunpyeong-gu       14.0    484546.0           16320.18   \n",
      "3    Seoul   Seongdong-gu       13.0    308979.0           18337.03   \n",
      "4    Seoul      Jongno-gu       10.0    161869.0            6769.93   \n",
      "\n",
      "   kindergarten_count  elementary_school_count  university_count  \\\n",
      "0                34.0                     26.0               3.0   \n",
      "1                31.0                     21.0               4.0   \n",
      "2                44.0                     31.0               1.0   \n",
      "3                30.0                     21.0               2.0   \n",
      "4                17.0                     13.0               3.0   \n",
      "\n",
      "   academy_ratio  elderly_population_ratio  elderly_alone_ratio  \\\n",
      "0           1.00                     16.21                  5.7   \n",
      "1           1.06                     17.26                  6.7   \n",
      "2           1.09                     17.00                  6.5   \n",
      "3           0.97                     14.76                  5.3   \n",
      "4           1.71                     18.27                  6.8   \n",
      "\n",
      "   nursing_home_count  \n",
      "0               741.0  \n",
      "1               832.0  \n",
      "2               874.0  \n",
      "3               593.0  \n",
      "4               668.0  \n"
     ]
    }
   ],
   "source": [
    "import copy\n",
    "df_dict['Region']=pd.read_excel('Region_with_population_population_density.xlsx')\n",
    "\n",
    "df=copy.deepcopy(df_sum)\n",
    "\n",
    "for idx in df.index:\n",
    "    city=df['city'][idx]\n",
    "    province=df['province'][idx]\n",
    "    #Fuse with data from region data set\n",
    "    for key in ['Population','PopulationDensity','kindergarten_count','elementary_school_count','university_count','academy_ratio','elderly_population_ratio','elderly_alone_ratio','nursing_home_count']:\n",
    "        idx_region=np.where((df_dict['Region']['city']==city) & (df_dict['Region']['province']==province),True,False)\n",
    "\n",
    "        value=df_dict['Region'].loc[idx_region,key].values \n",
    "        #only append if value exit\n",
    "        if value:\n",
    "            df.at[idx,key]=value\n",
    "\n",
    "print(df.head())\n"
   ]
  },
  {
   "cell_type": "markdown",
   "metadata": {},
   "source": [
    "Now let's do a quick correlation matrix to see if demographics and infrastructure influence the cases of confirmation"
   ]
  },
  {
   "cell_type": "code",
   "execution_count": 14,
   "metadata": {},
   "outputs": [
    {
     "data": {
      "application/vnd.plotly.v1+json": {
       "config": {
        "plotlyServerURL": "https://plot.ly"
       },
       "data": [
        {
         "colorscale": [
          [
           0,
           "rgb(247,251,255)"
          ],
          [
           0.125,
           "rgb(222,235,247)"
          ],
          [
           0.25,
           "rgb(198,219,239)"
          ],
          [
           0.375,
           "rgb(158,202,225)"
          ],
          [
           0.5,
           "rgb(107,174,214)"
          ],
          [
           0.625,
           "rgb(66,146,198)"
          ],
          [
           0.75,
           "rgb(33,113,181)"
          ],
          [
           0.875,
           "rgb(8,81,156)"
          ],
          [
           1,
           "rgb(8,48,107)"
          ]
         ],
         "reversescale": false,
         "showscale": false,
         "type": "heatmap",
         "x": [
          "confirmed"
         ],
         "y": [
          "time",
          "confirmed",
          "deceased"
         ],
         "z": [
          [
           null
          ],
          [
           1
          ],
          [
           0.28
          ]
         ]
        }
       ],
       "layout": {
        "annotations": [
         {
          "font": {
           "color": "#FFFFFF"
          },
          "showarrow": false,
          "text": "nan",
          "x": "confirmed",
          "xref": "x",
          "y": "time",
          "yref": "y"
         },
         {
          "font": {
           "color": "#FFFFFF"
          },
          "showarrow": false,
          "text": "1.0",
          "x": "confirmed",
          "xref": "x",
          "y": "confirmed",
          "yref": "y"
         },
         {
          "font": {
           "color": "#FFFFFF"
          },
          "showarrow": false,
          "text": "0.28",
          "x": "confirmed",
          "xref": "x",
          "y": "deceased",
          "yref": "y"
         }
        ],
        "template": {
         "data": {
          "bar": [
           {
            "error_x": {
             "color": "#2a3f5f"
            },
            "error_y": {
             "color": "#2a3f5f"
            },
            "marker": {
             "line": {
              "color": "white",
              "width": 0.5
             }
            },
            "type": "bar"
           }
          ],
          "barpolar": [
           {
            "marker": {
             "line": {
              "color": "white",
              "width": 0.5
             }
            },
            "type": "barpolar"
           }
          ],
          "carpet": [
           {
            "aaxis": {
             "endlinecolor": "#2a3f5f",
             "gridcolor": "#C8D4E3",
             "linecolor": "#C8D4E3",
             "minorgridcolor": "#C8D4E3",
             "startlinecolor": "#2a3f5f"
            },
            "baxis": {
             "endlinecolor": "#2a3f5f",
             "gridcolor": "#C8D4E3",
             "linecolor": "#C8D4E3",
             "minorgridcolor": "#C8D4E3",
             "startlinecolor": "#2a3f5f"
            },
            "type": "carpet"
           }
          ],
          "choropleth": [
           {
            "colorbar": {
             "outlinewidth": 0,
             "ticks": ""
            },
            "type": "choropleth"
           }
          ],
          "contour": [
           {
            "colorbar": {
             "outlinewidth": 0,
             "ticks": ""
            },
            "colorscale": [
             [
              0,
              "#0d0887"
             ],
             [
              0.1111111111111111,
              "#46039f"
             ],
             [
              0.2222222222222222,
              "#7201a8"
             ],
             [
              0.3333333333333333,
              "#9c179e"
             ],
             [
              0.4444444444444444,
              "#bd3786"
             ],
             [
              0.5555555555555556,
              "#d8576b"
             ],
             [
              0.6666666666666666,
              "#ed7953"
             ],
             [
              0.7777777777777778,
              "#fb9f3a"
             ],
             [
              0.8888888888888888,
              "#fdca26"
             ],
             [
              1,
              "#f0f921"
             ]
            ],
            "type": "contour"
           }
          ],
          "contourcarpet": [
           {
            "colorbar": {
             "outlinewidth": 0,
             "ticks": ""
            },
            "type": "contourcarpet"
           }
          ],
          "heatmap": [
           {
            "colorbar": {
             "outlinewidth": 0,
             "ticks": ""
            },
            "colorscale": [
             [
              0,
              "#0d0887"
             ],
             [
              0.1111111111111111,
              "#46039f"
             ],
             [
              0.2222222222222222,
              "#7201a8"
             ],
             [
              0.3333333333333333,
              "#9c179e"
             ],
             [
              0.4444444444444444,
              "#bd3786"
             ],
             [
              0.5555555555555556,
              "#d8576b"
             ],
             [
              0.6666666666666666,
              "#ed7953"
             ],
             [
              0.7777777777777778,
              "#fb9f3a"
             ],
             [
              0.8888888888888888,
              "#fdca26"
             ],
             [
              1,
              "#f0f921"
             ]
            ],
            "type": "heatmap"
           }
          ],
          "heatmapgl": [
           {
            "colorbar": {
             "outlinewidth": 0,
             "ticks": ""
            },
            "colorscale": [
             [
              0,
              "#0d0887"
             ],
             [
              0.1111111111111111,
              "#46039f"
             ],
             [
              0.2222222222222222,
              "#7201a8"
             ],
             [
              0.3333333333333333,
              "#9c179e"
             ],
             [
              0.4444444444444444,
              "#bd3786"
             ],
             [
              0.5555555555555556,
              "#d8576b"
             ],
             [
              0.6666666666666666,
              "#ed7953"
             ],
             [
              0.7777777777777778,
              "#fb9f3a"
             ],
             [
              0.8888888888888888,
              "#fdca26"
             ],
             [
              1,
              "#f0f921"
             ]
            ],
            "type": "heatmapgl"
           }
          ],
          "histogram": [
           {
            "marker": {
             "colorbar": {
              "outlinewidth": 0,
              "ticks": ""
             }
            },
            "type": "histogram"
           }
          ],
          "histogram2d": [
           {
            "colorbar": {
             "outlinewidth": 0,
             "ticks": ""
            },
            "colorscale": [
             [
              0,
              "#0d0887"
             ],
             [
              0.1111111111111111,
              "#46039f"
             ],
             [
              0.2222222222222222,
              "#7201a8"
             ],
             [
              0.3333333333333333,
              "#9c179e"
             ],
             [
              0.4444444444444444,
              "#bd3786"
             ],
             [
              0.5555555555555556,
              "#d8576b"
             ],
             [
              0.6666666666666666,
              "#ed7953"
             ],
             [
              0.7777777777777778,
              "#fb9f3a"
             ],
             [
              0.8888888888888888,
              "#fdca26"
             ],
             [
              1,
              "#f0f921"
             ]
            ],
            "type": "histogram2d"
           }
          ],
          "histogram2dcontour": [
           {
            "colorbar": {
             "outlinewidth": 0,
             "ticks": ""
            },
            "colorscale": [
             [
              0,
              "#0d0887"
             ],
             [
              0.1111111111111111,
              "#46039f"
             ],
             [
              0.2222222222222222,
              "#7201a8"
             ],
             [
              0.3333333333333333,
              "#9c179e"
             ],
             [
              0.4444444444444444,
              "#bd3786"
             ],
             [
              0.5555555555555556,
              "#d8576b"
             ],
             [
              0.6666666666666666,
              "#ed7953"
             ],
             [
              0.7777777777777778,
              "#fb9f3a"
             ],
             [
              0.8888888888888888,
              "#fdca26"
             ],
             [
              1,
              "#f0f921"
             ]
            ],
            "type": "histogram2dcontour"
           }
          ],
          "mesh3d": [
           {
            "colorbar": {
             "outlinewidth": 0,
             "ticks": ""
            },
            "type": "mesh3d"
           }
          ],
          "parcoords": [
           {
            "line": {
             "colorbar": {
              "outlinewidth": 0,
              "ticks": ""
             }
            },
            "type": "parcoords"
           }
          ],
          "pie": [
           {
            "automargin": true,
            "type": "pie"
           }
          ],
          "scatter": [
           {
            "marker": {
             "colorbar": {
              "outlinewidth": 0,
              "ticks": ""
             }
            },
            "type": "scatter"
           }
          ],
          "scatter3d": [
           {
            "line": {
             "colorbar": {
              "outlinewidth": 0,
              "ticks": ""
             }
            },
            "marker": {
             "colorbar": {
              "outlinewidth": 0,
              "ticks": ""
             }
            },
            "type": "scatter3d"
           }
          ],
          "scattercarpet": [
           {
            "marker": {
             "colorbar": {
              "outlinewidth": 0,
              "ticks": ""
             }
            },
            "type": "scattercarpet"
           }
          ],
          "scattergeo": [
           {
            "marker": {
             "colorbar": {
              "outlinewidth": 0,
              "ticks": ""
             }
            },
            "type": "scattergeo"
           }
          ],
          "scattergl": [
           {
            "marker": {
             "colorbar": {
              "outlinewidth": 0,
              "ticks": ""
             }
            },
            "type": "scattergl"
           }
          ],
          "scattermapbox": [
           {
            "marker": {
             "colorbar": {
              "outlinewidth": 0,
              "ticks": ""
             }
            },
            "type": "scattermapbox"
           }
          ],
          "scatterpolar": [
           {
            "marker": {
             "colorbar": {
              "outlinewidth": 0,
              "ticks": ""
             }
            },
            "type": "scatterpolar"
           }
          ],
          "scatterpolargl": [
           {
            "marker": {
             "colorbar": {
              "outlinewidth": 0,
              "ticks": ""
             }
            },
            "type": "scatterpolargl"
           }
          ],
          "scatterternary": [
           {
            "marker": {
             "colorbar": {
              "outlinewidth": 0,
              "ticks": ""
             }
            },
            "type": "scatterternary"
           }
          ],
          "surface": [
           {
            "colorbar": {
             "outlinewidth": 0,
             "ticks": ""
            },
            "colorscale": [
             [
              0,
              "#0d0887"
             ],
             [
              0.1111111111111111,
              "#46039f"
             ],
             [
              0.2222222222222222,
              "#7201a8"
             ],
             [
              0.3333333333333333,
              "#9c179e"
             ],
             [
              0.4444444444444444,
              "#bd3786"
             ],
             [
              0.5555555555555556,
              "#d8576b"
             ],
             [
              0.6666666666666666,
              "#ed7953"
             ],
             [
              0.7777777777777778,
              "#fb9f3a"
             ],
             [
              0.8888888888888888,
              "#fdca26"
             ],
             [
              1,
              "#f0f921"
             ]
            ],
            "type": "surface"
           }
          ],
          "table": [
           {
            "cells": {
             "fill": {
              "color": "#EBF0F8"
             },
             "line": {
              "color": "white"
             }
            },
            "header": {
             "fill": {
              "color": "#C8D4E3"
             },
             "line": {
              "color": "white"
             }
            },
            "type": "table"
           }
          ]
         },
         "layout": {
          "annotationdefaults": {
           "arrowcolor": "#2a3f5f",
           "arrowhead": 0,
           "arrowwidth": 1
          },
          "coloraxis": {
           "colorbar": {
            "outlinewidth": 0,
            "ticks": ""
           }
          },
          "colorscale": {
           "diverging": [
            [
             0,
             "#8e0152"
            ],
            [
             0.1,
             "#c51b7d"
            ],
            [
             0.2,
             "#de77ae"
            ],
            [
             0.3,
             "#f1b6da"
            ],
            [
             0.4,
             "#fde0ef"
            ],
            [
             0.5,
             "#f7f7f7"
            ],
            [
             0.6,
             "#e6f5d0"
            ],
            [
             0.7,
             "#b8e186"
            ],
            [
             0.8,
             "#7fbc41"
            ],
            [
             0.9,
             "#4d9221"
            ],
            [
             1,
             "#276419"
            ]
           ],
           "sequential": [
            [
             0,
             "#0d0887"
            ],
            [
             0.1111111111111111,
             "#46039f"
            ],
            [
             0.2222222222222222,
             "#7201a8"
            ],
            [
             0.3333333333333333,
             "#9c179e"
            ],
            [
             0.4444444444444444,
             "#bd3786"
            ],
            [
             0.5555555555555556,
             "#d8576b"
            ],
            [
             0.6666666666666666,
             "#ed7953"
            ],
            [
             0.7777777777777778,
             "#fb9f3a"
            ],
            [
             0.8888888888888888,
             "#fdca26"
            ],
            [
             1,
             "#f0f921"
            ]
           ],
           "sequentialminus": [
            [
             0,
             "#0d0887"
            ],
            [
             0.1111111111111111,
             "#46039f"
            ],
            [
             0.2222222222222222,
             "#7201a8"
            ],
            [
             0.3333333333333333,
             "#9c179e"
            ],
            [
             0.4444444444444444,
             "#bd3786"
            ],
            [
             0.5555555555555556,
             "#d8576b"
            ],
            [
             0.6666666666666666,
             "#ed7953"
            ],
            [
             0.7777777777777778,
             "#fb9f3a"
            ],
            [
             0.8888888888888888,
             "#fdca26"
            ],
            [
             1,
             "#f0f921"
            ]
           ]
          },
          "colorway": [
           "#636efa",
           "#EF553B",
           "#00cc96",
           "#ab63fa",
           "#FFA15A",
           "#19d3f3",
           "#FF6692",
           "#B6E880",
           "#FF97FF",
           "#FECB52"
          ],
          "font": {
           "color": "#2a3f5f"
          },
          "geo": {
           "bgcolor": "white",
           "lakecolor": "white",
           "landcolor": "white",
           "showlakes": true,
           "showland": true,
           "subunitcolor": "#C8D4E3"
          },
          "hoverlabel": {
           "align": "left"
          },
          "hovermode": "closest",
          "mapbox": {
           "style": "light"
          },
          "paper_bgcolor": "white",
          "plot_bgcolor": "white",
          "polar": {
           "angularaxis": {
            "gridcolor": "#EBF0F8",
            "linecolor": "#EBF0F8",
            "ticks": ""
           },
           "bgcolor": "white",
           "radialaxis": {
            "gridcolor": "#EBF0F8",
            "linecolor": "#EBF0F8",
            "ticks": ""
           }
          },
          "scene": {
           "xaxis": {
            "backgroundcolor": "white",
            "gridcolor": "#DFE8F3",
            "gridwidth": 2,
            "linecolor": "#EBF0F8",
            "showbackground": true,
            "ticks": "",
            "zerolinecolor": "#EBF0F8"
           },
           "yaxis": {
            "backgroundcolor": "white",
            "gridcolor": "#DFE8F3",
            "gridwidth": 2,
            "linecolor": "#EBF0F8",
            "showbackground": true,
            "ticks": "",
            "zerolinecolor": "#EBF0F8"
           },
           "zaxis": {
            "backgroundcolor": "white",
            "gridcolor": "#DFE8F3",
            "gridwidth": 2,
            "linecolor": "#EBF0F8",
            "showbackground": true,
            "ticks": "",
            "zerolinecolor": "#EBF0F8"
           }
          },
          "shapedefaults": {
           "line": {
            "color": "#2a3f5f"
           }
          },
          "ternary": {
           "aaxis": {
            "gridcolor": "#DFE8F3",
            "linecolor": "#A2B1C6",
            "ticks": ""
           },
           "baxis": {
            "gridcolor": "#DFE8F3",
            "linecolor": "#A2B1C6",
            "ticks": ""
           },
           "bgcolor": "white",
           "caxis": {
            "gridcolor": "#DFE8F3",
            "linecolor": "#A2B1C6",
            "ticks": ""
           }
          },
          "title": {
           "x": 0.05
          },
          "xaxis": {
           "automargin": true,
           "gridcolor": "#EBF0F8",
           "linecolor": "#EBF0F8",
           "ticks": "",
           "title": {
            "standoff": 15
           },
           "zerolinecolor": "#EBF0F8",
           "zerolinewidth": 2
          },
          "yaxis": {
           "automargin": true,
           "gridcolor": "#EBF0F8",
           "linecolor": "#EBF0F8",
           "ticks": "",
           "title": {
            "standoff": 15
           },
           "zerolinecolor": "#EBF0F8",
           "zerolinewidth": 2
          }
         }
        },
        "title": {
         "text": "Correlation matrix for confirmation number with parameters of infrastructure and demografics"
        },
        "xaxis": {
         "dtick": 1,
         "gridcolor": "rgb(0, 0, 0)",
         "side": "top",
         "ticks": ""
        },
        "yaxis": {
         "dtick": 1,
         "ticks": "",
         "ticksuffix": "  "
        }
       }
      }
     },
     "metadata": {},
     "output_type": "display_data"
    }
   ],
   "source": [
    "import plotly.figure_factory as ff\n",
    "\n",
    "corr_matrix=df.corr()\n",
    "y_keys=list(corr_matrix.index)\n",
    "corr_matrix=corr_matrix['confirmed'].to_frame()\n",
    "fig = ff.create_annotated_heatmap(corr_matrix.values.round(2), colorscale='Blues', x=list(corr_matrix.columns),y=y_keys)\n",
    "fig.update_layout(\n",
    "                  title_text=\"Correlation matrix for confirmation number with parameters of infrastructure and demografics\",\n",
    "                  template=\"plotly_white\")\n",
    "fig.show()"
   ]
  },
  {
   "cell_type": "markdown",
   "metadata": {},
   "source": [
    "So the demographics and infrastructure do not seem to influence the number of confirmations very much. The development of a model based on those features is therefore not reasonable. Let's check if the number of confirmations is related to certain events and to locations. Therefore, we investigate the infection cases with respect to the number of corresponding confirmed cases."
   ]
  },
  {
   "cell_type": "code",
   "execution_count": 15,
   "metadata": {},
   "outputs": [
    {
     "data": {
      "application/vnd.plotly.v1+json": {
       "config": {
        "plotlyServerURL": "https://plot.ly"
       },
       "data": [
        {
         "labels": [
          "Bonghwa Pureun Nursing Home",
          "Bundang Jesaeng Hospital",
          "Changnyeong Coin Karaoke",
          "Cheongdo Daenam Hospital",
          "Dongan Church",
          "Eunpyeong St. Mary's Hospital",
          "Geochang Church",
          "Geochang-gun Woongyang-myeon",
          "Goesan-gun Jangyeon-myeon",
          "Guro-gu Call Center",
          "Gyeongsan Cham Joeun Community Center",
          "Gyeongsan Jeil Silver Town",
          "Gyeongsan Seorin Nursing Home",
          "Haeundae-gu Catholic Church",
          "Hanmaeum Changwon Hospital",
          "Jin-gu Academy",
          "Jongno Community Center",
          "Jung-gu Fashion Company",
          "Milal Shelter",
          "Ministry of Oceans and Fisheries",
          "Onchun Church",
          "Pilgrimage to Israel",
          "River of Grace Community Church",
          "Seongdong-gu APT",
          "Seosan-si Laboratory",
          "Shincheonji Church",
          "Suwon Saeng Myeong Saem Church",
          "Suyeong-gu Kindergarten",
          "contact with patient",
          "etc",
          "gym facility in Cheonan",
          "gym facility in Sejong",
          "overseas inflow"
         ],
         "type": "pie",
         "values": [
          58,
          22,
          7,
          122,
          24,
          14,
          10,
          8,
          11,
          129,
          16,
          17,
          22,
          6,
          7,
          4,
          10,
          7,
          25,
          28,
          36,
          49,
          19,
          13,
          10,
          5012,
          10,
          6,
          681,
          1589,
          105,
          8,
          10
         ]
        }
       ],
       "layout": {
        "height": 800,
        "template": {
         "data": {
          "bar": [
           {
            "error_x": {
             "color": "#2a3f5f"
            },
            "error_y": {
             "color": "#2a3f5f"
            },
            "marker": {
             "line": {
              "color": "white",
              "width": 0.5
             }
            },
            "type": "bar"
           }
          ],
          "barpolar": [
           {
            "marker": {
             "line": {
              "color": "white",
              "width": 0.5
             }
            },
            "type": "barpolar"
           }
          ],
          "carpet": [
           {
            "aaxis": {
             "endlinecolor": "#2a3f5f",
             "gridcolor": "#C8D4E3",
             "linecolor": "#C8D4E3",
             "minorgridcolor": "#C8D4E3",
             "startlinecolor": "#2a3f5f"
            },
            "baxis": {
             "endlinecolor": "#2a3f5f",
             "gridcolor": "#C8D4E3",
             "linecolor": "#C8D4E3",
             "minorgridcolor": "#C8D4E3",
             "startlinecolor": "#2a3f5f"
            },
            "type": "carpet"
           }
          ],
          "choropleth": [
           {
            "colorbar": {
             "outlinewidth": 0,
             "ticks": ""
            },
            "type": "choropleth"
           }
          ],
          "contour": [
           {
            "colorbar": {
             "outlinewidth": 0,
             "ticks": ""
            },
            "colorscale": [
             [
              0,
              "#0d0887"
             ],
             [
              0.1111111111111111,
              "#46039f"
             ],
             [
              0.2222222222222222,
              "#7201a8"
             ],
             [
              0.3333333333333333,
              "#9c179e"
             ],
             [
              0.4444444444444444,
              "#bd3786"
             ],
             [
              0.5555555555555556,
              "#d8576b"
             ],
             [
              0.6666666666666666,
              "#ed7953"
             ],
             [
              0.7777777777777778,
              "#fb9f3a"
             ],
             [
              0.8888888888888888,
              "#fdca26"
             ],
             [
              1,
              "#f0f921"
             ]
            ],
            "type": "contour"
           }
          ],
          "contourcarpet": [
           {
            "colorbar": {
             "outlinewidth": 0,
             "ticks": ""
            },
            "type": "contourcarpet"
           }
          ],
          "heatmap": [
           {
            "colorbar": {
             "outlinewidth": 0,
             "ticks": ""
            },
            "colorscale": [
             [
              0,
              "#0d0887"
             ],
             [
              0.1111111111111111,
              "#46039f"
             ],
             [
              0.2222222222222222,
              "#7201a8"
             ],
             [
              0.3333333333333333,
              "#9c179e"
             ],
             [
              0.4444444444444444,
              "#bd3786"
             ],
             [
              0.5555555555555556,
              "#d8576b"
             ],
             [
              0.6666666666666666,
              "#ed7953"
             ],
             [
              0.7777777777777778,
              "#fb9f3a"
             ],
             [
              0.8888888888888888,
              "#fdca26"
             ],
             [
              1,
              "#f0f921"
             ]
            ],
            "type": "heatmap"
           }
          ],
          "heatmapgl": [
           {
            "colorbar": {
             "outlinewidth": 0,
             "ticks": ""
            },
            "colorscale": [
             [
              0,
              "#0d0887"
             ],
             [
              0.1111111111111111,
              "#46039f"
             ],
             [
              0.2222222222222222,
              "#7201a8"
             ],
             [
              0.3333333333333333,
              "#9c179e"
             ],
             [
              0.4444444444444444,
              "#bd3786"
             ],
             [
              0.5555555555555556,
              "#d8576b"
             ],
             [
              0.6666666666666666,
              "#ed7953"
             ],
             [
              0.7777777777777778,
              "#fb9f3a"
             ],
             [
              0.8888888888888888,
              "#fdca26"
             ],
             [
              1,
              "#f0f921"
             ]
            ],
            "type": "heatmapgl"
           }
          ],
          "histogram": [
           {
            "marker": {
             "colorbar": {
              "outlinewidth": 0,
              "ticks": ""
             }
            },
            "type": "histogram"
           }
          ],
          "histogram2d": [
           {
            "colorbar": {
             "outlinewidth": 0,
             "ticks": ""
            },
            "colorscale": [
             [
              0,
              "#0d0887"
             ],
             [
              0.1111111111111111,
              "#46039f"
             ],
             [
              0.2222222222222222,
              "#7201a8"
             ],
             [
              0.3333333333333333,
              "#9c179e"
             ],
             [
              0.4444444444444444,
              "#bd3786"
             ],
             [
              0.5555555555555556,
              "#d8576b"
             ],
             [
              0.6666666666666666,
              "#ed7953"
             ],
             [
              0.7777777777777778,
              "#fb9f3a"
             ],
             [
              0.8888888888888888,
              "#fdca26"
             ],
             [
              1,
              "#f0f921"
             ]
            ],
            "type": "histogram2d"
           }
          ],
          "histogram2dcontour": [
           {
            "colorbar": {
             "outlinewidth": 0,
             "ticks": ""
            },
            "colorscale": [
             [
              0,
              "#0d0887"
             ],
             [
              0.1111111111111111,
              "#46039f"
             ],
             [
              0.2222222222222222,
              "#7201a8"
             ],
             [
              0.3333333333333333,
              "#9c179e"
             ],
             [
              0.4444444444444444,
              "#bd3786"
             ],
             [
              0.5555555555555556,
              "#d8576b"
             ],
             [
              0.6666666666666666,
              "#ed7953"
             ],
             [
              0.7777777777777778,
              "#fb9f3a"
             ],
             [
              0.8888888888888888,
              "#fdca26"
             ],
             [
              1,
              "#f0f921"
             ]
            ],
            "type": "histogram2dcontour"
           }
          ],
          "mesh3d": [
           {
            "colorbar": {
             "outlinewidth": 0,
             "ticks": ""
            },
            "type": "mesh3d"
           }
          ],
          "parcoords": [
           {
            "line": {
             "colorbar": {
              "outlinewidth": 0,
              "ticks": ""
             }
            },
            "type": "parcoords"
           }
          ],
          "pie": [
           {
            "automargin": true,
            "type": "pie"
           }
          ],
          "scatter": [
           {
            "marker": {
             "colorbar": {
              "outlinewidth": 0,
              "ticks": ""
             }
            },
            "type": "scatter"
           }
          ],
          "scatter3d": [
           {
            "line": {
             "colorbar": {
              "outlinewidth": 0,
              "ticks": ""
             }
            },
            "marker": {
             "colorbar": {
              "outlinewidth": 0,
              "ticks": ""
             }
            },
            "type": "scatter3d"
           }
          ],
          "scattercarpet": [
           {
            "marker": {
             "colorbar": {
              "outlinewidth": 0,
              "ticks": ""
             }
            },
            "type": "scattercarpet"
           }
          ],
          "scattergeo": [
           {
            "marker": {
             "colorbar": {
              "outlinewidth": 0,
              "ticks": ""
             }
            },
            "type": "scattergeo"
           }
          ],
          "scattergl": [
           {
            "marker": {
             "colorbar": {
              "outlinewidth": 0,
              "ticks": ""
             }
            },
            "type": "scattergl"
           }
          ],
          "scattermapbox": [
           {
            "marker": {
             "colorbar": {
              "outlinewidth": 0,
              "ticks": ""
             }
            },
            "type": "scattermapbox"
           }
          ],
          "scatterpolar": [
           {
            "marker": {
             "colorbar": {
              "outlinewidth": 0,
              "ticks": ""
             }
            },
            "type": "scatterpolar"
           }
          ],
          "scatterpolargl": [
           {
            "marker": {
             "colorbar": {
              "outlinewidth": 0,
              "ticks": ""
             }
            },
            "type": "scatterpolargl"
           }
          ],
          "scatterternary": [
           {
            "marker": {
             "colorbar": {
              "outlinewidth": 0,
              "ticks": ""
             }
            },
            "type": "scatterternary"
           }
          ],
          "surface": [
           {
            "colorbar": {
             "outlinewidth": 0,
             "ticks": ""
            },
            "colorscale": [
             [
              0,
              "#0d0887"
             ],
             [
              0.1111111111111111,
              "#46039f"
             ],
             [
              0.2222222222222222,
              "#7201a8"
             ],
             [
              0.3333333333333333,
              "#9c179e"
             ],
             [
              0.4444444444444444,
              "#bd3786"
             ],
             [
              0.5555555555555556,
              "#d8576b"
             ],
             [
              0.6666666666666666,
              "#ed7953"
             ],
             [
              0.7777777777777778,
              "#fb9f3a"
             ],
             [
              0.8888888888888888,
              "#fdca26"
             ],
             [
              1,
              "#f0f921"
             ]
            ],
            "type": "surface"
           }
          ],
          "table": [
           {
            "cells": {
             "fill": {
              "color": "#EBF0F8"
             },
             "line": {
              "color": "white"
             }
            },
            "header": {
             "fill": {
              "color": "#C8D4E3"
             },
             "line": {
              "color": "white"
             }
            },
            "type": "table"
           }
          ]
         },
         "layout": {
          "annotationdefaults": {
           "arrowcolor": "#2a3f5f",
           "arrowhead": 0,
           "arrowwidth": 1
          },
          "coloraxis": {
           "colorbar": {
            "outlinewidth": 0,
            "ticks": ""
           }
          },
          "colorscale": {
           "diverging": [
            [
             0,
             "#8e0152"
            ],
            [
             0.1,
             "#c51b7d"
            ],
            [
             0.2,
             "#de77ae"
            ],
            [
             0.3,
             "#f1b6da"
            ],
            [
             0.4,
             "#fde0ef"
            ],
            [
             0.5,
             "#f7f7f7"
            ],
            [
             0.6,
             "#e6f5d0"
            ],
            [
             0.7,
             "#b8e186"
            ],
            [
             0.8,
             "#7fbc41"
            ],
            [
             0.9,
             "#4d9221"
            ],
            [
             1,
             "#276419"
            ]
           ],
           "sequential": [
            [
             0,
             "#0d0887"
            ],
            [
             0.1111111111111111,
             "#46039f"
            ],
            [
             0.2222222222222222,
             "#7201a8"
            ],
            [
             0.3333333333333333,
             "#9c179e"
            ],
            [
             0.4444444444444444,
             "#bd3786"
            ],
            [
             0.5555555555555556,
             "#d8576b"
            ],
            [
             0.6666666666666666,
             "#ed7953"
            ],
            [
             0.7777777777777778,
             "#fb9f3a"
            ],
            [
             0.8888888888888888,
             "#fdca26"
            ],
            [
             1,
             "#f0f921"
            ]
           ],
           "sequentialminus": [
            [
             0,
             "#0d0887"
            ],
            [
             0.1111111111111111,
             "#46039f"
            ],
            [
             0.2222222222222222,
             "#7201a8"
            ],
            [
             0.3333333333333333,
             "#9c179e"
            ],
            [
             0.4444444444444444,
             "#bd3786"
            ],
            [
             0.5555555555555556,
             "#d8576b"
            ],
            [
             0.6666666666666666,
             "#ed7953"
            ],
            [
             0.7777777777777778,
             "#fb9f3a"
            ],
            [
             0.8888888888888888,
             "#fdca26"
            ],
            [
             1,
             "#f0f921"
            ]
           ]
          },
          "colorway": [
           "#636efa",
           "#EF553B",
           "#00cc96",
           "#ab63fa",
           "#FFA15A",
           "#19d3f3",
           "#FF6692",
           "#B6E880",
           "#FF97FF",
           "#FECB52"
          ],
          "font": {
           "color": "#2a3f5f"
          },
          "geo": {
           "bgcolor": "white",
           "lakecolor": "white",
           "landcolor": "white",
           "showlakes": true,
           "showland": true,
           "subunitcolor": "#C8D4E3"
          },
          "hoverlabel": {
           "align": "left"
          },
          "hovermode": "closest",
          "mapbox": {
           "style": "light"
          },
          "paper_bgcolor": "white",
          "plot_bgcolor": "white",
          "polar": {
           "angularaxis": {
            "gridcolor": "#EBF0F8",
            "linecolor": "#EBF0F8",
            "ticks": ""
           },
           "bgcolor": "white",
           "radialaxis": {
            "gridcolor": "#EBF0F8",
            "linecolor": "#EBF0F8",
            "ticks": ""
           }
          },
          "scene": {
           "xaxis": {
            "backgroundcolor": "white",
            "gridcolor": "#DFE8F3",
            "gridwidth": 2,
            "linecolor": "#EBF0F8",
            "showbackground": true,
            "ticks": "",
            "zerolinecolor": "#EBF0F8"
           },
           "yaxis": {
            "backgroundcolor": "white",
            "gridcolor": "#DFE8F3",
            "gridwidth": 2,
            "linecolor": "#EBF0F8",
            "showbackground": true,
            "ticks": "",
            "zerolinecolor": "#EBF0F8"
           },
           "zaxis": {
            "backgroundcolor": "white",
            "gridcolor": "#DFE8F3",
            "gridwidth": 2,
            "linecolor": "#EBF0F8",
            "showbackground": true,
            "ticks": "",
            "zerolinecolor": "#EBF0F8"
           }
          },
          "shapedefaults": {
           "line": {
            "color": "#2a3f5f"
           }
          },
          "ternary": {
           "aaxis": {
            "gridcolor": "#DFE8F3",
            "linecolor": "#A2B1C6",
            "ticks": ""
           },
           "baxis": {
            "gridcolor": "#DFE8F3",
            "linecolor": "#A2B1C6",
            "ticks": ""
           },
           "bgcolor": "white",
           "caxis": {
            "gridcolor": "#DFE8F3",
            "linecolor": "#A2B1C6",
            "ticks": ""
           }
          },
          "title": {
           "x": 0.05
          },
          "xaxis": {
           "automargin": true,
           "gridcolor": "#EBF0F8",
           "linecolor": "#EBF0F8",
           "ticks": "",
           "title": {
            "standoff": 15
           },
           "zerolinecolor": "#EBF0F8",
           "zerolinewidth": 2
          },
          "yaxis": {
           "automargin": true,
           "gridcolor": "#EBF0F8",
           "linecolor": "#EBF0F8",
           "ticks": "",
           "title": {
            "standoff": 15
           },
           "zerolinecolor": "#EBF0F8",
           "zerolinewidth": 2
          }
         }
        },
        "title": {
         "text": "Number of confirmations"
        },
        "width": 800
       }
      }
     },
     "metadata": {},
     "output_type": "display_data"
    }
   ],
   "source": [
    "df=df_dict['Case']\n",
    "df_cases_sorted_sum=df.groupby('infection_case').sum().confirmed\n",
    "\n",
    "\n",
    "fig = go.Figure(data=[go.Pie(labels=df_cases_sorted_sum.index, values=df_cases_sorted_sum)])\n",
    "fig.update_layout(height=800,\n",
    "                  width=800,\n",
    "                  title_text=\"Number of confirmations\",\n",
    "                  template=\"plotly_white\")\n",
    "fig.show()\n",
    "\n"
   ]
  },
  {
   "cell_type": "markdown",
   "metadata": {},
   "source": [
    "The diagram demonstrates, that the biggest cause for conformations are public places. Let's see if the number of conformations is related to a certain city/region. We therefore plot the geographical data of call cases and display the number of conformations by relation of the size of the maker in red. We also display the city names and Locations in black."
   ]
  },
  {
   "cell_type": "code",
   "execution_count": 16,
   "metadata": {},
   "outputs": [
    {
     "data": {
      "application/vnd.plotly.v1+json": {
       "config": {
        "plotlyServerURL": "https://plot.ly"
       },
       "data": [
        {
         "lat": [
          37.508163
         ],
         "lon": [
          126.884387
         ],
         "marker": {
          "color": "red",
          "line": {
           "width": 0
          },
          "opacity": 0.5,
          "size": 3.95
         },
         "name": "Guro-gu Seoul",
         "showlegend": false,
         "text": "Case Guro-gu Call Center 79 confirmed cases",
         "type": "scattergeo"
        },
        {
         "lat": [
          37.508163
         ],
         "lon": [
          126.884387
         ],
         "marker": {
          "color": "black",
          "line": {
           "width": 0
          },
          "opacity": 1,
          "size": 1
         },
         "mode": "markers+text",
         "name": "79 confirmed cases",
         "showlegend": false,
         "text": "Guro-gu",
         "type": "scattergeo"
        },
        {
         "lat": [
          37.592888
         ],
         "lon": [
          127.056766
         ],
         "marker": {
          "color": "red",
          "line": {
           "width": 0
          },
          "opacity": 0.5,
          "size": 1.2
         },
         "name": "Dongdaemun-gu Seoul",
         "showlegend": false,
         "text": "Case Dongan Church 24 confirmed cases",
         "type": "scattergeo"
        },
        {
         "lat": [
          37.592888
         ],
         "lon": [
          127.056766
         ],
         "marker": {
          "color": "black",
          "line": {
           "width": 0
          },
          "opacity": 1,
          "size": 1
         },
         "mode": "markers+text",
         "name": "24 confirmed cases",
         "showlegend": false,
         "text": "Dongdaemun-gu",
         "type": "scattergeo"
        },
        {
         "lat": [
          37.63369
         ],
         "lon": [
          126.9165
         ],
         "marker": {
          "color": "red",
          "line": {
           "width": 0
          },
          "opacity": 0.5,
          "size": 0.7
         },
         "name": "Eunpyeong-gu Seoul",
         "showlegend": false,
         "text": "Case Eunpyeong St. Mary's Hospital 14 confirmed cases",
         "type": "scattergeo"
        },
        {
         "lat": [
          37.63369
         ],
         "lon": [
          126.9165
         ],
         "marker": {
          "color": "black",
          "line": {
           "width": 0
          },
          "opacity": 1,
          "size": 1
         },
         "mode": "markers+text",
         "name": "14 confirmed cases",
         "showlegend": false,
         "text": "Eunpyeong-gu",
         "type": "scattergeo"
        },
        {
         "lat": [
          37.55713
         ],
         "lon": [
          127.0403
         ],
         "marker": {
          "color": "red",
          "line": {
           "width": 0
          },
          "opacity": 0.5,
          "size": 0.65
         },
         "name": "Seongdong-gu Seoul",
         "showlegend": false,
         "text": "Case Seongdong-gu APT 13 confirmed cases",
         "type": "scattergeo"
        },
        {
         "lat": [
          37.55713
         ],
         "lon": [
          127.0403
         ],
         "marker": {
          "color": "black",
          "line": {
           "width": 0
          },
          "opacity": 1,
          "size": 1
         },
         "mode": "markers+text",
         "name": "13 confirmed cases",
         "showlegend": false,
         "text": "Seongdong-gu",
         "type": "scattergeo"
        },
        {
         "lat": [
          37.57681
         ],
         "lon": [
          127.006
         ],
         "marker": {
          "color": "red",
          "line": {
           "width": 0
          },
          "opacity": 0.5,
          "size": 0.5
         },
         "name": "Jongno-gu Seoul",
         "showlegend": false,
         "text": "Case Jongno Community Center 10 confirmed cases",
         "type": "scattergeo"
        },
        {
         "lat": [
          37.57681
         ],
         "lon": [
          127.006
         ],
         "marker": {
          "color": "black",
          "line": {
           "width": 0
          },
          "opacity": 1,
          "size": 1
         },
         "mode": "markers+text",
         "name": "10 confirmed cases",
         "showlegend": false,
         "text": "Jongno-gu",
         "type": "scattergeo"
        },
        {
         "lat": [
          37.562405
         ],
         "lon": [
          126.984377
         ],
         "marker": {
          "color": "red",
          "line": {
           "width": 0
          },
          "opacity": 0.5,
          "size": 0.35
         },
         "name": "Jung-gu Seoul",
         "showlegend": false,
         "text": "Case Jung-gu Fashion Company 7 confirmed cases",
         "type": "scattergeo"
        },
        {
         "lat": [
          37.562405
         ],
         "lon": [
          126.984377
         ],
         "marker": {
          "color": "black",
          "line": {
           "width": 0
          },
          "opacity": 1,
          "size": 1
         },
         "mode": "markers+text",
         "name": "7 confirmed cases",
         "showlegend": false,
         "text": "Jung-gu",
         "type": "scattergeo"
        },
        {
         "lat": [
          35.21628
         ],
         "lon": [
          129.0771
         ],
         "marker": {
          "color": "red",
          "line": {
           "width": 0
          },
          "opacity": 0.5,
          "size": 1.7
         },
         "name": "Dongnae-gu Busan",
         "showlegend": false,
         "text": "Case Onchun Church 34 confirmed cases",
         "type": "scattergeo"
        },
        {
         "lat": [
          35.21628
         ],
         "lon": [
          129.0771
         ],
         "marker": {
          "color": "black",
          "line": {
           "width": 0
          },
          "opacity": 1,
          "size": 1
         },
         "mode": "markers+text",
         "name": "34 confirmed cases",
         "showlegend": false,
         "text": "Dongnae-gu",
         "type": "scattergeo"
        },
        {
         "lat": [
          35.16708
         ],
         "lon": [
          129.1124
         ],
         "marker": {
          "color": "red",
          "line": {
           "width": 0
          },
          "opacity": 0.5,
          "size": 0.3
         },
         "name": "Suyeong-gu Busan",
         "showlegend": false,
         "text": "Case Suyeong-gu Kindergarten 6 confirmed cases",
         "type": "scattergeo"
        },
        {
         "lat": [
          35.16708
         ],
         "lon": [
          129.1124
         ],
         "marker": {
          "color": "black",
          "line": {
           "width": 0
          },
          "opacity": 1,
          "size": 1
         },
         "mode": "markers+text",
         "name": "6 confirmed cases",
         "showlegend": false,
         "text": "Suyeong-gu",
         "type": "scattergeo"
        },
        {
         "lat": [
          35.20599
         ],
         "lon": [
          129.1256
         ],
         "marker": {
          "color": "red",
          "line": {
           "width": 0
          },
          "opacity": 0.5,
          "size": 0.3
         },
         "name": "Haeundae-gu Busan",
         "showlegend": false,
         "text": "Case Haeundae-gu Catholic Church 6 confirmed cases",
         "type": "scattergeo"
        },
        {
         "lat": [
          35.20599
         ],
         "lon": [
          129.1256
         ],
         "marker": {
          "color": "black",
          "line": {
           "width": 0
          },
          "opacity": 1,
          "size": 1
         },
         "mode": "markers+text",
         "name": "6 confirmed cases",
         "showlegend": false,
         "text": "Haeundae-gu",
         "type": "scattergeo"
        },
        {
         "lat": [
          35.17371
         ],
         "lon": [
          129.0633
         ],
         "marker": {
          "color": "red",
          "line": {
           "width": 0
          },
          "opacity": 0.5,
          "size": 0.2
         },
         "name": "Jin-gu Busan",
         "showlegend": false,
         "text": "Case Jin-gu Academy 4 confirmed cases",
         "type": "scattergeo"
        },
        {
         "lat": [
          35.17371
         ],
         "lon": [
          129.0633
         ],
         "marker": {
          "color": "black",
          "line": {
           "width": 0
          },
          "opacity": 1,
          "size": 1
         },
         "mode": "markers+text",
         "name": "4 confirmed cases",
         "showlegend": false,
         "text": "Jin-gu",
         "type": "scattergeo"
        },
        {
         "lat": [
          35.84008
         ],
         "lon": [
          128.5667
         ],
         "marker": {
          "color": "red",
          "line": {
           "width": 0
          },
          "opacity": 0.5,
          "size": 217.95
         },
         "name": "Nam-gu Daegu",
         "showlegend": false,
         "text": "Case Shincheonji Church 4359 confirmed cases",
         "type": "scattergeo"
        },
        {
         "lat": [
          35.84008
         ],
         "lon": [
          128.5667
         ],
         "marker": {
          "color": "black",
          "line": {
           "width": 0
          },
          "opacity": 1,
          "size": 1
         },
         "mode": "markers+text",
         "name": "4359 confirmed cases",
         "showlegend": false,
         "text": "Nam-gu",
         "type": "scattergeo"
        },
        {
         "lat": [
          36.504713
         ],
         "lon": [
          127.265172
         ],
         "marker": {
          "color": "red",
          "line": {
           "width": 0
          },
          "opacity": 0.5,
          "size": 1.4
         },
         "name": "Eojin-dong Sejong",
         "showlegend": false,
         "text": "Case Ministry of Oceans and Fisheries 28 confirmed cases",
         "type": "scattergeo"
        },
        {
         "lat": [
          36.504713
         ],
         "lon": [
          127.265172
         ],
         "marker": {
          "color": "black",
          "line": {
           "width": 0
          },
          "opacity": 1,
          "size": 1
         },
         "mode": "markers+text",
         "name": "28 confirmed cases",
         "showlegend": false,
         "text": "Eojin-dong",
         "type": "scattergeo"
        },
        {
         "lat": [
          36.48025
         ],
         "lon": [
          127.289
         ],
         "marker": {
          "color": "red",
          "line": {
           "width": 0
          },
          "opacity": 0.5,
          "size": 0.4
         },
         "name": "Boram-dong Sejong",
         "showlegend": false,
         "text": "Case gym facility in Sejong 8 confirmed cases",
         "type": "scattergeo"
        },
        {
         "lat": [
          36.48025
         ],
         "lon": [
          127.289
         ],
         "marker": {
          "color": "black",
          "line": {
           "width": 0
          },
          "opacity": 1,
          "size": 1
         },
         "mode": "markers+text",
         "name": "8 confirmed cases",
         "showlegend": false,
         "text": "Boram-dong",
         "type": "scattergeo"
        },
        {
         "lat": [
          37.38833
         ],
         "lon": [
          127.1218
         ],
         "marker": {
          "color": "red",
          "line": {
           "width": 0
          },
          "opacity": 0.5,
          "size": 1.1
         },
         "name": "Seongnam-si Gyeonggi-do",
         "showlegend": false,
         "text": "Case Bundang Jesaeng Hospital 22 confirmed cases",
         "type": "scattergeo"
        },
        {
         "lat": [
          37.38833
         ],
         "lon": [
          127.1218
         ],
         "marker": {
          "color": "black",
          "line": {
           "width": 0
          },
          "opacity": 1,
          "size": 1
         },
         "mode": "markers+text",
         "name": "22 confirmed cases",
         "showlegend": false,
         "text": "Seongnam-si",
         "type": "scattergeo"
        },
        {
         "lat": [
          37.455687
         ],
         "lon": [
          127.161627
         ],
         "marker": {
          "color": "red",
          "line": {
           "width": 0
          },
          "opacity": 0.5,
          "size": 0.95
         },
         "name": "Seongnam-si Gyeonggi-do",
         "showlegend": false,
         "text": "Case River of Grace Community Church 19 confirmed cases",
         "type": "scattergeo"
        },
        {
         "lat": [
          37.455687
         ],
         "lon": [
          127.161627
         ],
         "marker": {
          "color": "black",
          "line": {
           "width": 0
          },
          "opacity": 1,
          "size": 1
         },
         "mode": "markers+text",
         "name": "19 confirmed cases",
         "showlegend": false,
         "text": "Seongnam-si",
         "type": "scattergeo"
        },
        {
         "lat": [
          37.2376
         ],
         "lon": [
          127.0517
         ],
         "marker": {
          "color": "red",
          "line": {
           "width": 0
          },
          "opacity": 0.5,
          "size": 0.5
         },
         "name": "Suwon-si Gyeonggi-do",
         "showlegend": false,
         "text": "Case Suwon Saeng Myeong Saem Church 10 confirmed cases",
         "type": "scattergeo"
        },
        {
         "lat": [
          37.2376
         ],
         "lon": [
          127.0517
         ],
         "marker": {
          "color": "black",
          "line": {
           "width": 0
          },
          "opacity": 1,
          "size": 1
         },
         "mode": "markers+text",
         "name": "10 confirmed cases",
         "showlegend": false,
         "text": "Suwon-si",
         "type": "scattergeo"
        },
        {
         "lat": [
          36.82422
         ],
         "lon": [
          127.9552
         ],
         "marker": {
          "color": "red",
          "line": {
           "width": 0
          },
          "opacity": 0.5,
          "size": 0.55
         },
         "name": "Goesan-gun Chungcheongbuk-do",
         "showlegend": false,
         "text": "Case Goesan-gun Jangyeon-myeon 11 confirmed cases",
         "type": "scattergeo"
        },
        {
         "lat": [
          36.82422
         ],
         "lon": [
          127.9552
         ],
         "marker": {
          "color": "black",
          "line": {
           "width": 0
          },
          "opacity": 1,
          "size": 1
         },
         "mode": "markers+text",
         "name": "11 confirmed cases",
         "showlegend": false,
         "text": "Goesan-gun",
         "type": "scattergeo"
        },
        {
         "lat": [
          36.81503
         ],
         "lon": [
          127.1139
         ],
         "marker": {
          "color": "red",
          "line": {
           "width": 0
          },
          "opacity": 0.5,
          "size": 5.2
         },
         "name": "Cheonan-si Chungcheongnam-do",
         "showlegend": false,
         "text": "Case gym facility in Cheonan 104 confirmed cases",
         "type": "scattergeo"
        },
        {
         "lat": [
          36.81503
         ],
         "lon": [
          127.1139
         ],
         "marker": {
          "color": "black",
          "line": {
           "width": 0
          },
          "opacity": 1,
          "size": 1
         },
         "mode": "markers+text",
         "name": "104 confirmed cases",
         "showlegend": false,
         "text": "Cheonan-si",
         "type": "scattergeo"
        },
        {
         "lat": [
          37.000354
         ],
         "lon": [
          126.354443
         ],
         "marker": {
          "color": "red",
          "line": {
           "width": 0
          },
          "opacity": 0.5,
          "size": 0.4
         },
         "name": "Seosan-si Chungcheongnam-do",
         "showlegend": false,
         "text": "Case Seosan-si Laboratory 8 confirmed cases",
         "type": "scattergeo"
        },
        {
         "lat": [
          37.000354
         ],
         "lon": [
          126.354443
         ],
         "marker": {
          "color": "black",
          "line": {
           "width": 0
          },
          "opacity": 1,
          "size": 1
         },
         "mode": "markers+text",
         "name": "8 confirmed cases",
         "showlegend": false,
         "text": "Seosan-si",
         "type": "scattergeo"
        },
        {
         "lat": [
          35.64887
         ],
         "lon": [
          128.7368
         ],
         "marker": {
          "color": "red",
          "line": {
           "width": 0
          },
          "opacity": 0.5,
          "size": 5.95
         },
         "name": "Cheongdo-gun Gyeongsangbuk-do",
         "showlegend": false,
         "text": "Case Cheongdo Daenam Hospital 119 confirmed cases",
         "type": "scattergeo"
        },
        {
         "lat": [
          35.64887
         ],
         "lon": [
          128.7368
         ],
         "marker": {
          "color": "black",
          "line": {
           "width": 0
          },
          "opacity": 1,
          "size": 1
         },
         "mode": "markers+text",
         "name": "119 confirmed cases",
         "showlegend": false,
         "text": "Cheongdo-gun",
         "type": "scattergeo"
        },
        {
         "lat": [
          36.92757
         ],
         "lon": [
          128.9099
         ],
         "marker": {
          "color": "red",
          "line": {
           "width": 0
          },
          "opacity": 0.5,
          "size": 2.9
         },
         "name": "Bonghwa-gun Gyeongsangbuk-do",
         "showlegend": false,
         "text": "Case Bonghwa Pureun Nursing Home 58 confirmed cases",
         "type": "scattergeo"
        },
        {
         "lat": [
          36.92757
         ],
         "lon": [
          128.9099
         ],
         "marker": {
          "color": "black",
          "line": {
           "width": 0
          },
          "opacity": 1,
          "size": 1
         },
         "mode": "markers+text",
         "name": "58 confirmed cases",
         "showlegend": false,
         "text": "Bonghwa-gun",
         "type": "scattergeo"
        },
        {
         "lat": [
          36.0581
         ],
         "lon": [
          128.4941
         ],
         "marker": {
          "color": "red",
          "line": {
           "width": 0
          },
          "opacity": 0.5,
          "size": 1.25
         },
         "name": "Chilgok-gun Gyeongsangbuk-do",
         "showlegend": false,
         "text": "Case Milal Shelter 25 confirmed cases",
         "type": "scattergeo"
        },
        {
         "lat": [
          36.0581
         ],
         "lon": [
          128.4941
         ],
         "marker": {
          "color": "black",
          "line": {
           "width": 0
          },
          "opacity": 1,
          "size": 1
         },
         "mode": "markers+text",
         "name": "25 confirmed cases",
         "showlegend": false,
         "text": "Chilgok-gun",
         "type": "scattergeo"
        },
        {
         "lat": [
          35.782149
         ],
         "lon": [
          128.801498
         ],
         "marker": {
          "color": "red",
          "line": {
           "width": 0
          },
          "opacity": 0.5,
          "size": 1.1
         },
         "name": "Gyeongsan-si Gyeongsangbuk-do",
         "showlegend": false,
         "text": "Case Gyeongsan Seorin Nursing Home 22 confirmed cases",
         "type": "scattergeo"
        },
        {
         "lat": [
          35.782149
         ],
         "lon": [
          128.801498
         ],
         "marker": {
          "color": "black",
          "line": {
           "width": 0
          },
          "opacity": 1,
          "size": 1
         },
         "mode": "markers+text",
         "name": "22 confirmed cases",
         "showlegend": false,
         "text": "Gyeongsan-si",
         "type": "scattergeo"
        },
        {
         "lat": [
          35.84819
         ],
         "lon": [
          128.7621
         ],
         "marker": {
          "color": "red",
          "line": {
           "width": 0
          },
          "opacity": 0.5,
          "size": 0.85
         },
         "name": "Gyeongsan-si Gyeongsangbuk-do",
         "showlegend": false,
         "text": "Case Gyeongsan Jeil Silver Town 17 confirmed cases",
         "type": "scattergeo"
        },
        {
         "lat": [
          35.84819
         ],
         "lon": [
          128.7621
         ],
         "marker": {
          "color": "black",
          "line": {
           "width": 0
          },
          "opacity": 1,
          "size": 1
         },
         "mode": "markers+text",
         "name": "17 confirmed cases",
         "showlegend": false,
         "text": "Gyeongsan-si",
         "type": "scattergeo"
        },
        {
         "lat": [
          35.82558
         ],
         "lon": [
          128.7373
         ],
         "marker": {
          "color": "red",
          "line": {
           "width": 0
          },
          "opacity": 0.5,
          "size": 0.8
         },
         "name": "Gyeongsan-si Gyeongsangbuk-do",
         "showlegend": false,
         "text": "Case Gyeongsan Cham Joeun Community Center 16 confirmed cases",
         "type": "scattergeo"
        },
        {
         "lat": [
          35.82558
         ],
         "lon": [
          128.7373
         ],
         "marker": {
          "color": "black",
          "line": {
           "width": 0
          },
          "opacity": 1,
          "size": 1
         },
         "mode": "markers+text",
         "name": "16 confirmed cases",
         "showlegend": false,
         "text": "Gyeongsan-si",
         "type": "scattergeo"
        },
        {
         "lat": [
          35.68556
         ],
         "lon": [
          127.9127
         ],
         "marker": {
          "color": "red",
          "line": {
           "width": 0
          },
          "opacity": 0.5,
          "size": 0.5
         },
         "name": "Geochang-gun Gyeongsangnam-do",
         "showlegend": false,
         "text": "Case Geochang Church 10 confirmed cases",
         "type": "scattergeo"
        },
        {
         "lat": [
          35.68556
         ],
         "lon": [
          127.9127
         ],
         "marker": {
          "color": "black",
          "line": {
           "width": 0
          },
          "opacity": 1,
          "size": 1
         },
         "mode": "markers+text",
         "name": "10 confirmed cases",
         "showlegend": false,
         "text": "Geochang-gun",
         "type": "scattergeo"
        },
        {
         "lat": [
          35.805681
         ],
         "lon": [
          127.917805
         ],
         "marker": {
          "color": "red",
          "line": {
           "width": 0
          },
          "opacity": 0.5,
          "size": 0.4
         },
         "name": "Geochang-gun Gyeongsangnam-do",
         "showlegend": false,
         "text": "Case Geochang-gun Woongyang-myeon 8 confirmed cases",
         "type": "scattergeo"
        },
        {
         "lat": [
          35.805681
         ],
         "lon": [
          127.917805
         ],
         "marker": {
          "color": "black",
          "line": {
           "width": 0
          },
          "opacity": 1,
          "size": 1
         },
         "mode": "markers+text",
         "name": "8 confirmed cases",
         "showlegend": false,
         "text": "Geochang-gun",
         "type": "scattergeo"
        },
        {
         "lat": [
          35.22115
         ],
         "lon": [
          128.6866
         ],
         "marker": {
          "color": "red",
          "line": {
           "width": 0
          },
          "opacity": 0.5,
          "size": 0.35
         },
         "name": "Changwon-si Gyeongsangnam-do",
         "showlegend": false,
         "text": "Case Hanmaeum Changwon Hospital 7 confirmed cases",
         "type": "scattergeo"
        },
        {
         "lat": [
          35.22115
         ],
         "lon": [
          128.6866
         ],
         "marker": {
          "color": "black",
          "line": {
           "width": 0
          },
          "opacity": 1,
          "size": 1
         },
         "mode": "markers+text",
         "name": "7 confirmed cases",
         "showlegend": false,
         "text": "Changwon-si",
         "type": "scattergeo"
        },
        {
         "lat": [
          35.54127
         ],
         "lon": [
          128.5008
         ],
         "marker": {
          "color": "red",
          "line": {
           "width": 0
          },
          "opacity": 0.5,
          "size": 0.35
         },
         "name": "Changnyeong-gun Gyeongsangnam-do",
         "showlegend": false,
         "text": "Case Changnyeong Coin Karaoke 7 confirmed cases",
         "type": "scattergeo"
        },
        {
         "lat": [
          35.54127
         ],
         "lon": [
          128.5008
         ],
         "marker": {
          "color": "black",
          "line": {
           "width": 0
          },
          "opacity": 1,
          "size": 1
         },
         "mode": "markers+text",
         "name": "7 confirmed cases",
         "showlegend": false,
         "text": "Changnyeong-gun",
         "type": "scattergeo"
        }
       ],
       "layout": {
        "geo": {
         "coastlinecolor": "white",
         "countrycolor": "grey",
         "domain": {
          "x": [
           0,
           1
          ],
          "y": [
           0,
           1
          ]
         },
         "landcolor": "rgb(229, 229, 229)",
         "lataxis": {
          "range": [
           33,
           39
          ]
         },
         "lonaxis": {
          "range": [
           125,
           130
          ]
         },
         "projection": {
          "type": "mercator"
         },
         "resolution": 50,
         "scope": "asia",
         "showcoastlines": true,
         "showframe": false,
         "showsubunits": true,
         "subunitcolor": "Blue"
        },
        "height": 1000,
        "template": {
         "data": {
          "bar": [
           {
            "error_x": {
             "color": "#2a3f5f"
            },
            "error_y": {
             "color": "#2a3f5f"
            },
            "marker": {
             "line": {
              "color": "white",
              "width": 0.5
             }
            },
            "type": "bar"
           }
          ],
          "barpolar": [
           {
            "marker": {
             "line": {
              "color": "white",
              "width": 0.5
             }
            },
            "type": "barpolar"
           }
          ],
          "carpet": [
           {
            "aaxis": {
             "endlinecolor": "#2a3f5f",
             "gridcolor": "#C8D4E3",
             "linecolor": "#C8D4E3",
             "minorgridcolor": "#C8D4E3",
             "startlinecolor": "#2a3f5f"
            },
            "baxis": {
             "endlinecolor": "#2a3f5f",
             "gridcolor": "#C8D4E3",
             "linecolor": "#C8D4E3",
             "minorgridcolor": "#C8D4E3",
             "startlinecolor": "#2a3f5f"
            },
            "type": "carpet"
           }
          ],
          "choropleth": [
           {
            "colorbar": {
             "outlinewidth": 0,
             "ticks": ""
            },
            "type": "choropleth"
           }
          ],
          "contour": [
           {
            "colorbar": {
             "outlinewidth": 0,
             "ticks": ""
            },
            "colorscale": [
             [
              0,
              "#0d0887"
             ],
             [
              0.1111111111111111,
              "#46039f"
             ],
             [
              0.2222222222222222,
              "#7201a8"
             ],
             [
              0.3333333333333333,
              "#9c179e"
             ],
             [
              0.4444444444444444,
              "#bd3786"
             ],
             [
              0.5555555555555556,
              "#d8576b"
             ],
             [
              0.6666666666666666,
              "#ed7953"
             ],
             [
              0.7777777777777778,
              "#fb9f3a"
             ],
             [
              0.8888888888888888,
              "#fdca26"
             ],
             [
              1,
              "#f0f921"
             ]
            ],
            "type": "contour"
           }
          ],
          "contourcarpet": [
           {
            "colorbar": {
             "outlinewidth": 0,
             "ticks": ""
            },
            "type": "contourcarpet"
           }
          ],
          "heatmap": [
           {
            "colorbar": {
             "outlinewidth": 0,
             "ticks": ""
            },
            "colorscale": [
             [
              0,
              "#0d0887"
             ],
             [
              0.1111111111111111,
              "#46039f"
             ],
             [
              0.2222222222222222,
              "#7201a8"
             ],
             [
              0.3333333333333333,
              "#9c179e"
             ],
             [
              0.4444444444444444,
              "#bd3786"
             ],
             [
              0.5555555555555556,
              "#d8576b"
             ],
             [
              0.6666666666666666,
              "#ed7953"
             ],
             [
              0.7777777777777778,
              "#fb9f3a"
             ],
             [
              0.8888888888888888,
              "#fdca26"
             ],
             [
              1,
              "#f0f921"
             ]
            ],
            "type": "heatmap"
           }
          ],
          "heatmapgl": [
           {
            "colorbar": {
             "outlinewidth": 0,
             "ticks": ""
            },
            "colorscale": [
             [
              0,
              "#0d0887"
             ],
             [
              0.1111111111111111,
              "#46039f"
             ],
             [
              0.2222222222222222,
              "#7201a8"
             ],
             [
              0.3333333333333333,
              "#9c179e"
             ],
             [
              0.4444444444444444,
              "#bd3786"
             ],
             [
              0.5555555555555556,
              "#d8576b"
             ],
             [
              0.6666666666666666,
              "#ed7953"
             ],
             [
              0.7777777777777778,
              "#fb9f3a"
             ],
             [
              0.8888888888888888,
              "#fdca26"
             ],
             [
              1,
              "#f0f921"
             ]
            ],
            "type": "heatmapgl"
           }
          ],
          "histogram": [
           {
            "marker": {
             "colorbar": {
              "outlinewidth": 0,
              "ticks": ""
             }
            },
            "type": "histogram"
           }
          ],
          "histogram2d": [
           {
            "colorbar": {
             "outlinewidth": 0,
             "ticks": ""
            },
            "colorscale": [
             [
              0,
              "#0d0887"
             ],
             [
              0.1111111111111111,
              "#46039f"
             ],
             [
              0.2222222222222222,
              "#7201a8"
             ],
             [
              0.3333333333333333,
              "#9c179e"
             ],
             [
              0.4444444444444444,
              "#bd3786"
             ],
             [
              0.5555555555555556,
              "#d8576b"
             ],
             [
              0.6666666666666666,
              "#ed7953"
             ],
             [
              0.7777777777777778,
              "#fb9f3a"
             ],
             [
              0.8888888888888888,
              "#fdca26"
             ],
             [
              1,
              "#f0f921"
             ]
            ],
            "type": "histogram2d"
           }
          ],
          "histogram2dcontour": [
           {
            "colorbar": {
             "outlinewidth": 0,
             "ticks": ""
            },
            "colorscale": [
             [
              0,
              "#0d0887"
             ],
             [
              0.1111111111111111,
              "#46039f"
             ],
             [
              0.2222222222222222,
              "#7201a8"
             ],
             [
              0.3333333333333333,
              "#9c179e"
             ],
             [
              0.4444444444444444,
              "#bd3786"
             ],
             [
              0.5555555555555556,
              "#d8576b"
             ],
             [
              0.6666666666666666,
              "#ed7953"
             ],
             [
              0.7777777777777778,
              "#fb9f3a"
             ],
             [
              0.8888888888888888,
              "#fdca26"
             ],
             [
              1,
              "#f0f921"
             ]
            ],
            "type": "histogram2dcontour"
           }
          ],
          "mesh3d": [
           {
            "colorbar": {
             "outlinewidth": 0,
             "ticks": ""
            },
            "type": "mesh3d"
           }
          ],
          "parcoords": [
           {
            "line": {
             "colorbar": {
              "outlinewidth": 0,
              "ticks": ""
             }
            },
            "type": "parcoords"
           }
          ],
          "pie": [
           {
            "automargin": true,
            "type": "pie"
           }
          ],
          "scatter": [
           {
            "marker": {
             "colorbar": {
              "outlinewidth": 0,
              "ticks": ""
             }
            },
            "type": "scatter"
           }
          ],
          "scatter3d": [
           {
            "line": {
             "colorbar": {
              "outlinewidth": 0,
              "ticks": ""
             }
            },
            "marker": {
             "colorbar": {
              "outlinewidth": 0,
              "ticks": ""
             }
            },
            "type": "scatter3d"
           }
          ],
          "scattercarpet": [
           {
            "marker": {
             "colorbar": {
              "outlinewidth": 0,
              "ticks": ""
             }
            },
            "type": "scattercarpet"
           }
          ],
          "scattergeo": [
           {
            "marker": {
             "colorbar": {
              "outlinewidth": 0,
              "ticks": ""
             }
            },
            "type": "scattergeo"
           }
          ],
          "scattergl": [
           {
            "marker": {
             "colorbar": {
              "outlinewidth": 0,
              "ticks": ""
             }
            },
            "type": "scattergl"
           }
          ],
          "scattermapbox": [
           {
            "marker": {
             "colorbar": {
              "outlinewidth": 0,
              "ticks": ""
             }
            },
            "type": "scattermapbox"
           }
          ],
          "scatterpolar": [
           {
            "marker": {
             "colorbar": {
              "outlinewidth": 0,
              "ticks": ""
             }
            },
            "type": "scatterpolar"
           }
          ],
          "scatterpolargl": [
           {
            "marker": {
             "colorbar": {
              "outlinewidth": 0,
              "ticks": ""
             }
            },
            "type": "scatterpolargl"
           }
          ],
          "scatterternary": [
           {
            "marker": {
             "colorbar": {
              "outlinewidth": 0,
              "ticks": ""
             }
            },
            "type": "scatterternary"
           }
          ],
          "surface": [
           {
            "colorbar": {
             "outlinewidth": 0,
             "ticks": ""
            },
            "colorscale": [
             [
              0,
              "#0d0887"
             ],
             [
              0.1111111111111111,
              "#46039f"
             ],
             [
              0.2222222222222222,
              "#7201a8"
             ],
             [
              0.3333333333333333,
              "#9c179e"
             ],
             [
              0.4444444444444444,
              "#bd3786"
             ],
             [
              0.5555555555555556,
              "#d8576b"
             ],
             [
              0.6666666666666666,
              "#ed7953"
             ],
             [
              0.7777777777777778,
              "#fb9f3a"
             ],
             [
              0.8888888888888888,
              "#fdca26"
             ],
             [
              1,
              "#f0f921"
             ]
            ],
            "type": "surface"
           }
          ],
          "table": [
           {
            "cells": {
             "fill": {
              "color": "#EBF0F8"
             },
             "line": {
              "color": "white"
             }
            },
            "header": {
             "fill": {
              "color": "#C8D4E3"
             },
             "line": {
              "color": "white"
             }
            },
            "type": "table"
           }
          ]
         },
         "layout": {
          "annotationdefaults": {
           "arrowcolor": "#2a3f5f",
           "arrowhead": 0,
           "arrowwidth": 1
          },
          "coloraxis": {
           "colorbar": {
            "outlinewidth": 0,
            "ticks": ""
           }
          },
          "colorscale": {
           "diverging": [
            [
             0,
             "#8e0152"
            ],
            [
             0.1,
             "#c51b7d"
            ],
            [
             0.2,
             "#de77ae"
            ],
            [
             0.3,
             "#f1b6da"
            ],
            [
             0.4,
             "#fde0ef"
            ],
            [
             0.5,
             "#f7f7f7"
            ],
            [
             0.6,
             "#e6f5d0"
            ],
            [
             0.7,
             "#b8e186"
            ],
            [
             0.8,
             "#7fbc41"
            ],
            [
             0.9,
             "#4d9221"
            ],
            [
             1,
             "#276419"
            ]
           ],
           "sequential": [
            [
             0,
             "#0d0887"
            ],
            [
             0.1111111111111111,
             "#46039f"
            ],
            [
             0.2222222222222222,
             "#7201a8"
            ],
            [
             0.3333333333333333,
             "#9c179e"
            ],
            [
             0.4444444444444444,
             "#bd3786"
            ],
            [
             0.5555555555555556,
             "#d8576b"
            ],
            [
             0.6666666666666666,
             "#ed7953"
            ],
            [
             0.7777777777777778,
             "#fb9f3a"
            ],
            [
             0.8888888888888888,
             "#fdca26"
            ],
            [
             1,
             "#f0f921"
            ]
           ],
           "sequentialminus": [
            [
             0,
             "#0d0887"
            ],
            [
             0.1111111111111111,
             "#46039f"
            ],
            [
             0.2222222222222222,
             "#7201a8"
            ],
            [
             0.3333333333333333,
             "#9c179e"
            ],
            [
             0.4444444444444444,
             "#bd3786"
            ],
            [
             0.5555555555555556,
             "#d8576b"
            ],
            [
             0.6666666666666666,
             "#ed7953"
            ],
            [
             0.7777777777777778,
             "#fb9f3a"
            ],
            [
             0.8888888888888888,
             "#fdca26"
            ],
            [
             1,
             "#f0f921"
            ]
           ]
          },
          "colorway": [
           "#636efa",
           "#EF553B",
           "#00cc96",
           "#ab63fa",
           "#FFA15A",
           "#19d3f3",
           "#FF6692",
           "#B6E880",
           "#FF97FF",
           "#FECB52"
          ],
          "font": {
           "color": "#2a3f5f"
          },
          "geo": {
           "bgcolor": "white",
           "lakecolor": "white",
           "landcolor": "white",
           "showlakes": true,
           "showland": true,
           "subunitcolor": "#C8D4E3"
          },
          "hoverlabel": {
           "align": "left"
          },
          "hovermode": "closest",
          "mapbox": {
           "style": "light"
          },
          "paper_bgcolor": "white",
          "plot_bgcolor": "white",
          "polar": {
           "angularaxis": {
            "gridcolor": "#EBF0F8",
            "linecolor": "#EBF0F8",
            "ticks": ""
           },
           "bgcolor": "white",
           "radialaxis": {
            "gridcolor": "#EBF0F8",
            "linecolor": "#EBF0F8",
            "ticks": ""
           }
          },
          "scene": {
           "xaxis": {
            "backgroundcolor": "white",
            "gridcolor": "#DFE8F3",
            "gridwidth": 2,
            "linecolor": "#EBF0F8",
            "showbackground": true,
            "ticks": "",
            "zerolinecolor": "#EBF0F8"
           },
           "yaxis": {
            "backgroundcolor": "white",
            "gridcolor": "#DFE8F3",
            "gridwidth": 2,
            "linecolor": "#EBF0F8",
            "showbackground": true,
            "ticks": "",
            "zerolinecolor": "#EBF0F8"
           },
           "zaxis": {
            "backgroundcolor": "white",
            "gridcolor": "#DFE8F3",
            "gridwidth": 2,
            "linecolor": "#EBF0F8",
            "showbackground": true,
            "ticks": "",
            "zerolinecolor": "#EBF0F8"
           }
          },
          "shapedefaults": {
           "line": {
            "color": "#2a3f5f"
           }
          },
          "ternary": {
           "aaxis": {
            "gridcolor": "#DFE8F3",
            "linecolor": "#A2B1C6",
            "ticks": ""
           },
           "baxis": {
            "gridcolor": "#DFE8F3",
            "linecolor": "#A2B1C6",
            "ticks": ""
           },
           "bgcolor": "white",
           "caxis": {
            "gridcolor": "#DFE8F3",
            "linecolor": "#A2B1C6",
            "ticks": ""
           }
          },
          "title": {
           "x": 0.05
          },
          "xaxis": {
           "automargin": true,
           "gridcolor": "#EBF0F8",
           "linecolor": "#EBF0F8",
           "ticks": "",
           "title": {
            "standoff": 15
           },
           "zerolinecolor": "#EBF0F8",
           "zerolinewidth": 2
          },
          "yaxis": {
           "automargin": true,
           "gridcolor": "#EBF0F8",
           "linecolor": "#EBF0F8",
           "ticks": "",
           "title": {
            "standoff": 15
           },
           "zerolinecolor": "#EBF0F8",
           "zerolinewidth": 2
          }
         }
        },
        "title": {
         "text": "Geografical summary of all cases"
        },
        "width": 1000
       }
      }
     },
     "metadata": {},
     "output_type": "display_data"
    }
   ],
   "source": [
    "plot_df=df_dict['Case']\n",
    "\n",
    "fig=go.Figure()\n",
    "for i in range(plot_df.shape[0]):\n",
    "    try:\n",
    "        fig.add_trace(go.Scattergeo(\n",
    "                lon = [float(plot_df['longitude'][i])],\n",
    "                lat = [float(plot_df['latitude'][i])],\n",
    "                #hovertext=[f\"Case {plot_df['infection_case']}\"],\n",
    "                #hoverinfo=\"text\",\n",
    "                text = f\"Case {plot_df['infection_case'][i]} {plot_df['confirmed'][i]} confirmed cases\",\n",
    "                name = f\"{plot_df['city'][i]} {plot_df['province'][i]}\",\n",
    "                marker = dict(size = plot_df['confirmed'][i]/20, color = 'red', line_width = 0, opacity=0.5),\n",
    "                showlegend=False))\n",
    "        fig.add_trace(go.Scattergeo(\n",
    "                lon = [float(plot_df['longitude'][i])],\n",
    "                lat = [float(plot_df['latitude'][i])],\n",
    "                #hovertext=[f\"Case {plot_df['infection_case']}\"],\n",
    "                name= f\"{plot_df['confirmed'][i]} confirmed cases\",\n",
    "                text = f\"{plot_df['city'][i]}\",\n",
    "                mode='markers+text',\n",
    "                marker = dict(size = 1, color = 'black', line_width = 0, opacity=1),\n",
    "                showlegend=False))\n",
    "    except:\n",
    "        pass\n",
    "\n",
    "\n",
    "fig.update_layout(height=1000,\n",
    "                  width=1000,\n",
    "                  title_text=\"Geografical summary of all cases\",\n",
    "                  template=\"plotly_white\",\n",
    "                  geo = go.layout.Geo(\n",
    "                    resolution = 50,\n",
    "                    scope = 'asia',\n",
    "                    showframe = False,\n",
    "                    showcoastlines = True,\n",
    "                    landcolor = \"rgb(229, 229, 229)\",\n",
    "                    countrycolor = \"grey\" ,\n",
    "                    coastlinecolor = \"white\",\n",
    "                    projection_type = 'mercator',\n",
    "                    showsubunits=True, subunitcolor=\"Blue\",\n",
    "                    lonaxis_range= [ 125, 130 ],\n",
    "                    lataxis_range= [ 33, 39.0 ],\n",
    "                    domain = dict(x = [ 0, 1 ], y = [ 0, 1 ])\n",
    "                ),)\n",
    "\n",
    "fig.show()"
   ]
  },
  {
   "cell_type": "markdown",
   "metadata": {},
   "source": [
    "One can observe, that the most conformations occurred in the Daegu region, especially the city Nam-gu, do to a public event of the Sincheonji Curch. This underlines the previous observation of the influence of public events, the infection in crowds but also the fact that the South Korean government seemed to act very quickly to prevent the virus from spreading to other cities and regions, which might also explain the flattening of the cumulative number of confirmation cases.\n"
   ]
  },
  {
   "cell_type": "markdown",
   "metadata": {},
   "source": [
    "The last thing we want to get insight into are the effects and the progression of the virus for the individuum. We therefore look the PatientInfo data and try to investigate the influence of sex, age on the average time of recovering and deceasing."
   ]
  },
  {
   "cell_type": "code",
   "execution_count": 17,
   "metadata": {},
   "outputs": [],
   "source": [
    "df=df_dict['PatientInfo']\n",
    "df['recovering_time']=pd.to_datetime(df.loc[df['state']=='released']['released_date'])-pd.to_datetime(df.loc[df['state']=='released']['confirmed_date'])\n",
    "df['deceasing_time']=pd.to_datetime(df.loc[df['state']=='deceased']['deceased_date'])-pd.to_datetime(df.loc[df['state']=='deceased']['confirmed_date'])"
   ]
  },
  {
   "cell_type": "markdown",
   "metadata": {},
   "source": [
    "Let's take a look a the time for recovering and deceasing"
   ]
  },
  {
   "cell_type": "code",
   "execution_count": 18,
   "metadata": {},
   "outputs": [
    {
     "data": {
      "application/vnd.plotly.v1+json": {
       "config": {
        "plotlyServerURL": "https://plot.ly"
       },
       "data": [
        {
         "boxpoints": "all",
         "jitter": 0.3,
         "name": "Time until release",
         "pointpos": 0,
         "type": "box",
         "y": [
          13,
          32,
          20,
          16,
          24,
          19,
          10,
          22,
          16,
          24,
          23,
          20,
          25,
          21,
          10,
          17,
          17,
          21,
          18,
          10,
          17,
          14,
          26,
          15,
          22,
          24,
          15,
          8,
          7,
          6,
          14,
          16,
          5,
          5,
          19,
          5,
          15,
          15,
          3,
          4,
          14,
          4,
          20,
          21,
          5,
          6,
          16,
          19,
          18,
          16,
          12,
          9,
          9,
          12,
          7,
          9,
          8,
          16,
          15,
          26,
          24,
          24,
          24,
          13,
          25,
          17,
          7,
          12,
          5,
          12,
          15,
          13,
          11,
          8,
          23,
          22,
          18,
          13,
          7,
          15,
          15,
          16,
          15,
          12,
          17,
          13,
          17,
          16,
          22,
          7,
          19,
          25,
          7,
          15,
          11,
          8,
          8,
          1,
          7,
          5,
          8,
          8,
          8,
          11,
          11,
          11,
          14,
          13,
          19,
          21,
          20,
          16,
          7,
          19,
          19,
          17,
          12,
          16,
          13,
          19,
          11,
          11,
          13,
          18,
          17,
          17,
          18,
          18,
          18,
          12,
          17,
          17,
          11,
          17,
          17,
          15,
          10,
          14,
          12,
          19,
          15,
          9,
          9,
          13,
          15,
          22,
          14,
          23,
          16,
          19,
          11,
          18,
          14,
          17,
          16,
          8,
          19,
          17,
          14,
          9,
          15,
          16,
          15,
          13,
          12,
          14,
          12,
          13,
          12,
          14,
          16,
          11,
          15,
          14,
          12,
          12,
          11,
          12,
          11,
          11,
          11,
          9,
          12,
          13,
          9,
          9,
          10,
          13,
          10,
          9,
          12,
          11,
          10,
          10,
          9,
          9,
          11,
          9,
          12,
          11,
          11,
          11,
          11,
          9,
          9,
          9,
          11,
          10,
          8,
          14,
          28,
          17,
          17,
          15,
          15,
          19,
          9,
          12,
          11,
          11,
          8,
          16,
          16,
          15,
          8,
          11,
          12,
          11,
          14,
          13
         ]
        },
        {
         "boxpoints": "all",
         "jitter": 0.3,
         "name": "Time until decease",
         "pointpos": 0,
         "type": "box",
         "y": [
          5,
          5,
          7,
          8,
          4,
          4,
          6,
          5,
          6,
          1,
          2,
          6,
          8,
          6,
          2,
          8,
          1,
          1,
          4,
          4,
          3,
          1,
          3
         ]
        }
       ],
       "layout": {
        "height": 400,
        "template": {
         "data": {
          "bar": [
           {
            "error_x": {
             "color": "#2a3f5f"
            },
            "error_y": {
             "color": "#2a3f5f"
            },
            "marker": {
             "line": {
              "color": "white",
              "width": 0.5
             }
            },
            "type": "bar"
           }
          ],
          "barpolar": [
           {
            "marker": {
             "line": {
              "color": "white",
              "width": 0.5
             }
            },
            "type": "barpolar"
           }
          ],
          "carpet": [
           {
            "aaxis": {
             "endlinecolor": "#2a3f5f",
             "gridcolor": "#C8D4E3",
             "linecolor": "#C8D4E3",
             "minorgridcolor": "#C8D4E3",
             "startlinecolor": "#2a3f5f"
            },
            "baxis": {
             "endlinecolor": "#2a3f5f",
             "gridcolor": "#C8D4E3",
             "linecolor": "#C8D4E3",
             "minorgridcolor": "#C8D4E3",
             "startlinecolor": "#2a3f5f"
            },
            "type": "carpet"
           }
          ],
          "choropleth": [
           {
            "colorbar": {
             "outlinewidth": 0,
             "ticks": ""
            },
            "type": "choropleth"
           }
          ],
          "contour": [
           {
            "colorbar": {
             "outlinewidth": 0,
             "ticks": ""
            },
            "colorscale": [
             [
              0,
              "#0d0887"
             ],
             [
              0.1111111111111111,
              "#46039f"
             ],
             [
              0.2222222222222222,
              "#7201a8"
             ],
             [
              0.3333333333333333,
              "#9c179e"
             ],
             [
              0.4444444444444444,
              "#bd3786"
             ],
             [
              0.5555555555555556,
              "#d8576b"
             ],
             [
              0.6666666666666666,
              "#ed7953"
             ],
             [
              0.7777777777777778,
              "#fb9f3a"
             ],
             [
              0.8888888888888888,
              "#fdca26"
             ],
             [
              1,
              "#f0f921"
             ]
            ],
            "type": "contour"
           }
          ],
          "contourcarpet": [
           {
            "colorbar": {
             "outlinewidth": 0,
             "ticks": ""
            },
            "type": "contourcarpet"
           }
          ],
          "heatmap": [
           {
            "colorbar": {
             "outlinewidth": 0,
             "ticks": ""
            },
            "colorscale": [
             [
              0,
              "#0d0887"
             ],
             [
              0.1111111111111111,
              "#46039f"
             ],
             [
              0.2222222222222222,
              "#7201a8"
             ],
             [
              0.3333333333333333,
              "#9c179e"
             ],
             [
              0.4444444444444444,
              "#bd3786"
             ],
             [
              0.5555555555555556,
              "#d8576b"
             ],
             [
              0.6666666666666666,
              "#ed7953"
             ],
             [
              0.7777777777777778,
              "#fb9f3a"
             ],
             [
              0.8888888888888888,
              "#fdca26"
             ],
             [
              1,
              "#f0f921"
             ]
            ],
            "type": "heatmap"
           }
          ],
          "heatmapgl": [
           {
            "colorbar": {
             "outlinewidth": 0,
             "ticks": ""
            },
            "colorscale": [
             [
              0,
              "#0d0887"
             ],
             [
              0.1111111111111111,
              "#46039f"
             ],
             [
              0.2222222222222222,
              "#7201a8"
             ],
             [
              0.3333333333333333,
              "#9c179e"
             ],
             [
              0.4444444444444444,
              "#bd3786"
             ],
             [
              0.5555555555555556,
              "#d8576b"
             ],
             [
              0.6666666666666666,
              "#ed7953"
             ],
             [
              0.7777777777777778,
              "#fb9f3a"
             ],
             [
              0.8888888888888888,
              "#fdca26"
             ],
             [
              1,
              "#f0f921"
             ]
            ],
            "type": "heatmapgl"
           }
          ],
          "histogram": [
           {
            "marker": {
             "colorbar": {
              "outlinewidth": 0,
              "ticks": ""
             }
            },
            "type": "histogram"
           }
          ],
          "histogram2d": [
           {
            "colorbar": {
             "outlinewidth": 0,
             "ticks": ""
            },
            "colorscale": [
             [
              0,
              "#0d0887"
             ],
             [
              0.1111111111111111,
              "#46039f"
             ],
             [
              0.2222222222222222,
              "#7201a8"
             ],
             [
              0.3333333333333333,
              "#9c179e"
             ],
             [
              0.4444444444444444,
              "#bd3786"
             ],
             [
              0.5555555555555556,
              "#d8576b"
             ],
             [
              0.6666666666666666,
              "#ed7953"
             ],
             [
              0.7777777777777778,
              "#fb9f3a"
             ],
             [
              0.8888888888888888,
              "#fdca26"
             ],
             [
              1,
              "#f0f921"
             ]
            ],
            "type": "histogram2d"
           }
          ],
          "histogram2dcontour": [
           {
            "colorbar": {
             "outlinewidth": 0,
             "ticks": ""
            },
            "colorscale": [
             [
              0,
              "#0d0887"
             ],
             [
              0.1111111111111111,
              "#46039f"
             ],
             [
              0.2222222222222222,
              "#7201a8"
             ],
             [
              0.3333333333333333,
              "#9c179e"
             ],
             [
              0.4444444444444444,
              "#bd3786"
             ],
             [
              0.5555555555555556,
              "#d8576b"
             ],
             [
              0.6666666666666666,
              "#ed7953"
             ],
             [
              0.7777777777777778,
              "#fb9f3a"
             ],
             [
              0.8888888888888888,
              "#fdca26"
             ],
             [
              1,
              "#f0f921"
             ]
            ],
            "type": "histogram2dcontour"
           }
          ],
          "mesh3d": [
           {
            "colorbar": {
             "outlinewidth": 0,
             "ticks": ""
            },
            "type": "mesh3d"
           }
          ],
          "parcoords": [
           {
            "line": {
             "colorbar": {
              "outlinewidth": 0,
              "ticks": ""
             }
            },
            "type": "parcoords"
           }
          ],
          "pie": [
           {
            "automargin": true,
            "type": "pie"
           }
          ],
          "scatter": [
           {
            "marker": {
             "colorbar": {
              "outlinewidth": 0,
              "ticks": ""
             }
            },
            "type": "scatter"
           }
          ],
          "scatter3d": [
           {
            "line": {
             "colorbar": {
              "outlinewidth": 0,
              "ticks": ""
             }
            },
            "marker": {
             "colorbar": {
              "outlinewidth": 0,
              "ticks": ""
             }
            },
            "type": "scatter3d"
           }
          ],
          "scattercarpet": [
           {
            "marker": {
             "colorbar": {
              "outlinewidth": 0,
              "ticks": ""
             }
            },
            "type": "scattercarpet"
           }
          ],
          "scattergeo": [
           {
            "marker": {
             "colorbar": {
              "outlinewidth": 0,
              "ticks": ""
             }
            },
            "type": "scattergeo"
           }
          ],
          "scattergl": [
           {
            "marker": {
             "colorbar": {
              "outlinewidth": 0,
              "ticks": ""
             }
            },
            "type": "scattergl"
           }
          ],
          "scattermapbox": [
           {
            "marker": {
             "colorbar": {
              "outlinewidth": 0,
              "ticks": ""
             }
            },
            "type": "scattermapbox"
           }
          ],
          "scatterpolar": [
           {
            "marker": {
             "colorbar": {
              "outlinewidth": 0,
              "ticks": ""
             }
            },
            "type": "scatterpolar"
           }
          ],
          "scatterpolargl": [
           {
            "marker": {
             "colorbar": {
              "outlinewidth": 0,
              "ticks": ""
             }
            },
            "type": "scatterpolargl"
           }
          ],
          "scatterternary": [
           {
            "marker": {
             "colorbar": {
              "outlinewidth": 0,
              "ticks": ""
             }
            },
            "type": "scatterternary"
           }
          ],
          "surface": [
           {
            "colorbar": {
             "outlinewidth": 0,
             "ticks": ""
            },
            "colorscale": [
             [
              0,
              "#0d0887"
             ],
             [
              0.1111111111111111,
              "#46039f"
             ],
             [
              0.2222222222222222,
              "#7201a8"
             ],
             [
              0.3333333333333333,
              "#9c179e"
             ],
             [
              0.4444444444444444,
              "#bd3786"
             ],
             [
              0.5555555555555556,
              "#d8576b"
             ],
             [
              0.6666666666666666,
              "#ed7953"
             ],
             [
              0.7777777777777778,
              "#fb9f3a"
             ],
             [
              0.8888888888888888,
              "#fdca26"
             ],
             [
              1,
              "#f0f921"
             ]
            ],
            "type": "surface"
           }
          ],
          "table": [
           {
            "cells": {
             "fill": {
              "color": "#EBF0F8"
             },
             "line": {
              "color": "white"
             }
            },
            "header": {
             "fill": {
              "color": "#C8D4E3"
             },
             "line": {
              "color": "white"
             }
            },
            "type": "table"
           }
          ]
         },
         "layout": {
          "annotationdefaults": {
           "arrowcolor": "#2a3f5f",
           "arrowhead": 0,
           "arrowwidth": 1
          },
          "coloraxis": {
           "colorbar": {
            "outlinewidth": 0,
            "ticks": ""
           }
          },
          "colorscale": {
           "diverging": [
            [
             0,
             "#8e0152"
            ],
            [
             0.1,
             "#c51b7d"
            ],
            [
             0.2,
             "#de77ae"
            ],
            [
             0.3,
             "#f1b6da"
            ],
            [
             0.4,
             "#fde0ef"
            ],
            [
             0.5,
             "#f7f7f7"
            ],
            [
             0.6,
             "#e6f5d0"
            ],
            [
             0.7,
             "#b8e186"
            ],
            [
             0.8,
             "#7fbc41"
            ],
            [
             0.9,
             "#4d9221"
            ],
            [
             1,
             "#276419"
            ]
           ],
           "sequential": [
            [
             0,
             "#0d0887"
            ],
            [
             0.1111111111111111,
             "#46039f"
            ],
            [
             0.2222222222222222,
             "#7201a8"
            ],
            [
             0.3333333333333333,
             "#9c179e"
            ],
            [
             0.4444444444444444,
             "#bd3786"
            ],
            [
             0.5555555555555556,
             "#d8576b"
            ],
            [
             0.6666666666666666,
             "#ed7953"
            ],
            [
             0.7777777777777778,
             "#fb9f3a"
            ],
            [
             0.8888888888888888,
             "#fdca26"
            ],
            [
             1,
             "#f0f921"
            ]
           ],
           "sequentialminus": [
            [
             0,
             "#0d0887"
            ],
            [
             0.1111111111111111,
             "#46039f"
            ],
            [
             0.2222222222222222,
             "#7201a8"
            ],
            [
             0.3333333333333333,
             "#9c179e"
            ],
            [
             0.4444444444444444,
             "#bd3786"
            ],
            [
             0.5555555555555556,
             "#d8576b"
            ],
            [
             0.6666666666666666,
             "#ed7953"
            ],
            [
             0.7777777777777778,
             "#fb9f3a"
            ],
            [
             0.8888888888888888,
             "#fdca26"
            ],
            [
             1,
             "#f0f921"
            ]
           ]
          },
          "colorway": [
           "#636efa",
           "#EF553B",
           "#00cc96",
           "#ab63fa",
           "#FFA15A",
           "#19d3f3",
           "#FF6692",
           "#B6E880",
           "#FF97FF",
           "#FECB52"
          ],
          "font": {
           "color": "#2a3f5f"
          },
          "geo": {
           "bgcolor": "white",
           "lakecolor": "white",
           "landcolor": "white",
           "showlakes": true,
           "showland": true,
           "subunitcolor": "#C8D4E3"
          },
          "hoverlabel": {
           "align": "left"
          },
          "hovermode": "closest",
          "mapbox": {
           "style": "light"
          },
          "paper_bgcolor": "white",
          "plot_bgcolor": "white",
          "polar": {
           "angularaxis": {
            "gridcolor": "#EBF0F8",
            "linecolor": "#EBF0F8",
            "ticks": ""
           },
           "bgcolor": "white",
           "radialaxis": {
            "gridcolor": "#EBF0F8",
            "linecolor": "#EBF0F8",
            "ticks": ""
           }
          },
          "scene": {
           "xaxis": {
            "backgroundcolor": "white",
            "gridcolor": "#DFE8F3",
            "gridwidth": 2,
            "linecolor": "#EBF0F8",
            "showbackground": true,
            "ticks": "",
            "zerolinecolor": "#EBF0F8"
           },
           "yaxis": {
            "backgroundcolor": "white",
            "gridcolor": "#DFE8F3",
            "gridwidth": 2,
            "linecolor": "#EBF0F8",
            "showbackground": true,
            "ticks": "",
            "zerolinecolor": "#EBF0F8"
           },
           "zaxis": {
            "backgroundcolor": "white",
            "gridcolor": "#DFE8F3",
            "gridwidth": 2,
            "linecolor": "#EBF0F8",
            "showbackground": true,
            "ticks": "",
            "zerolinecolor": "#EBF0F8"
           }
          },
          "shapedefaults": {
           "line": {
            "color": "#2a3f5f"
           }
          },
          "ternary": {
           "aaxis": {
            "gridcolor": "#DFE8F3",
            "linecolor": "#A2B1C6",
            "ticks": ""
           },
           "baxis": {
            "gridcolor": "#DFE8F3",
            "linecolor": "#A2B1C6",
            "ticks": ""
           },
           "bgcolor": "white",
           "caxis": {
            "gridcolor": "#DFE8F3",
            "linecolor": "#A2B1C6",
            "ticks": ""
           }
          },
          "title": {
           "x": 0.05
          },
          "xaxis": {
           "automargin": true,
           "gridcolor": "#EBF0F8",
           "linecolor": "#EBF0F8",
           "ticks": "",
           "title": {
            "standoff": 15
           },
           "zerolinecolor": "#EBF0F8",
           "zerolinewidth": 2
          },
          "yaxis": {
           "automargin": true,
           "gridcolor": "#EBF0F8",
           "linecolor": "#EBF0F8",
           "ticks": "",
           "title": {
            "standoff": 15
           },
           "zerolinecolor": "#EBF0F8",
           "zerolinewidth": 2
          }
         }
        },
        "title": {
         "text": "Box plot analyis time for release and decease"
        },
        "width": 600,
        "yaxis": {
         "title": {
          "text": "[days]"
         }
        }
       }
      }
     },
     "metadata": {},
     "output_type": "display_data"
    }
   ],
   "source": [
    "fig = go.Figure()\n",
    "val_rec=df[df['recovering_time'].notnull()]['recovering_time']\n",
    "\n",
    "val_dec=df[df['deceasing_time'].notnull()]['deceasing_time']\n",
    "\n",
    "y_rec=[int(i.split(' days')[0]) for i in val_rec.astype(str).values if int(i.split(' days')[0])>0]\n",
    "fig.add_trace(go.Box(y=y_rec, boxpoints='all', name='Time until release',\n",
    "            jitter=0.3,pointpos=0))\n",
    "y_dec=[int(i.split(' days')[0]) for i in val_dec.astype(str).values if int(i.split(' days')[0])>0]\n",
    "fig.add_trace(go.Box(y=y_dec, boxpoints='all', name='Time until decease', \n",
    "            jitter=0.3,pointpos=0))\n",
    "\n",
    "fig.update_yaxes(title_text=\"[days]\")\n",
    "fig.update_layout(height=400,\n",
    "                  width=600,\n",
    "                  title_text=\"Box plot analyis time for release and decease\",\n",
    "                  template=\"plotly_white\")\n",
    "fig.show()\n"
   ]
  },
  {
   "cell_type": "code",
   "execution_count": 19,
   "metadata": {},
   "outputs": [
    {
     "data": {
      "application/vnd.plotly.v1+json": {
       "config": {
        "plotlyServerURL": "https://plot.ly"
       },
       "data": [
        {
         "boxpoints": "all",
         "jitter": 0.3,
         "marker": {
          "color": "blue"
         },
         "name": "0s",
         "pointpos": 0,
         "type": "box",
         "xaxis": "x",
         "y": [
          17,
          17,
          14
         ],
         "yaxis": "y"
        },
        {
         "boxpoints": "all",
         "jitter": 0.3,
         "marker": {
          "color": "blue"
         },
         "name": "0s",
         "pointpos": 0,
         "type": "box",
         "xaxis": "x2",
         "y": [],
         "yaxis": "y2"
        },
        {
         "boxpoints": "all",
         "jitter": 0.3,
         "marker": {
          "color": "blue"
         },
         "name": "10s",
         "pointpos": 0,
         "type": "box",
         "xaxis": "x",
         "y": [
          7,
          15,
          11,
          18,
          18,
          12,
          17,
          17,
          16,
          19,
          13,
          9
         ],
         "yaxis": "y"
        },
        {
         "boxpoints": "all",
         "jitter": 0.3,
         "marker": {
          "color": "blue"
         },
         "name": "10s",
         "pointpos": 0,
         "type": "box",
         "xaxis": "x2",
         "y": [],
         "yaxis": "y2"
        },
        {
         "boxpoints": "all",
         "jitter": 0.3,
         "marker": {
          "color": "blue"
         },
         "name": "20s",
         "pointpos": 0,
         "type": "box",
         "xaxis": "x",
         "y": [
          16,
          24,
          10,
          22,
          20,
          14,
          22,
          6,
          14,
          16,
          5,
          5,
          20,
          18,
          16,
          9,
          15,
          12,
          11,
          8,
          23,
          18,
          13,
          15,
          16,
          11,
          8,
          8,
          11,
          13,
          13,
          17,
          15,
          19,
          9,
          13,
          23,
          9,
          16,
          15,
          13,
          13,
          14,
          11,
          12,
          11,
          13,
          12,
          11,
          10,
          10,
          11,
          11,
          11,
          9,
          11,
          10,
          15,
          9,
          11,
          12,
          11,
          14
         ],
         "yaxis": "y"
        },
        {
         "boxpoints": "all",
         "jitter": 0.3,
         "marker": {
          "color": "blue"
         },
         "name": "20s",
         "pointpos": 0,
         "type": "box",
         "xaxis": "x2",
         "y": [],
         "yaxis": "y2"
        },
        {
         "boxpoints": "all",
         "jitter": 0.3,
         "marker": {
          "color": "blue"
         },
         "name": "30s",
         "pointpos": 0,
         "type": "box",
         "xaxis": "x",
         "y": [
          32,
          16,
          18,
          24,
          5,
          3,
          4,
          14,
          4,
          21,
          19,
          26,
          24,
          24,
          24,
          13,
          25,
          17,
          12,
          15,
          13,
          15,
          7,
          7,
          8,
          1,
          7,
          14,
          7,
          12,
          13,
          11,
          10,
          15,
          8,
          12,
          9,
          11,
          11,
          17,
          11,
          15
         ],
         "yaxis": "y"
        },
        {
         "boxpoints": "all",
         "jitter": 0.3,
         "marker": {
          "color": "blue"
         },
         "name": "30s",
         "pointpos": 0,
         "type": "box",
         "xaxis": "x2",
         "y": [],
         "yaxis": "y2"
        },
        {
         "boxpoints": "all",
         "jitter": 0.3,
         "marker": {
          "color": "blue"
         },
         "name": "40s",
         "pointpos": 0,
         "type": "box",
         "xaxis": "x",
         "y": [
          21,
          15,
          7,
          19,
          5,
          16,
          16,
          5,
          22,
          12,
          17,
          16,
          22,
          19,
          19,
          21,
          20,
          16,
          19,
          17,
          16,
          19,
          11,
          18,
          17,
          18,
          9,
          15,
          22,
          14,
          11,
          9,
          12,
          9,
          8,
          11,
          13
         ],
         "yaxis": "y"
        },
        {
         "boxpoints": "all",
         "jitter": 0.3,
         "marker": {
          "color": "blue"
         },
         "name": "40s",
         "pointpos": 0,
         "type": "box",
         "xaxis": "x2",
         "y": [],
         "yaxis": "y2"
        },
        {
         "boxpoints": "all",
         "jitter": 0.3,
         "marker": {
          "color": "blue"
         },
         "name": "50s",
         "pointpos": 0,
         "type": "box",
         "xaxis": "x",
         "y": [
          13,
          20,
          19,
          23,
          10,
          26,
          15,
          8,
          15,
          6,
          12,
          9,
          8,
          7,
          15,
          17,
          13,
          8,
          5,
          8,
          16,
          19,
          11,
          18,
          14,
          14,
          15,
          14,
          12,
          12,
          16,
          14,
          12,
          12,
          11,
          12,
          9,
          9,
          10,
          9,
          9,
          17,
          19,
          12,
          8,
          16,
          16,
          8
         ],
         "yaxis": "y"
        },
        {
         "boxpoints": "all",
         "jitter": 0.3,
         "marker": {
          "color": "blue"
         },
         "name": "50s",
         "pointpos": 0,
         "type": "box",
         "xaxis": "x2",
         "y": [
          5,
          4,
          4,
          3
         ],
         "yaxis": "y2"
        },
        {
         "boxpoints": "all",
         "jitter": 0.3,
         "marker": {
          "color": "blue"
         },
         "name": "60s",
         "pointpos": 0,
         "type": "box",
         "xaxis": "x",
         "y": [
          24,
          25,
          15,
          7,
          19,
          12,
          15,
          10,
          9,
          14
         ],
         "yaxis": "y"
        },
        {
         "boxpoints": "all",
         "jitter": 0.3,
         "marker": {
          "color": "blue"
         },
         "name": "60s",
         "pointpos": 0,
         "type": "box",
         "xaxis": "x2",
         "y": [
          4,
          6,
          6,
          8,
          3,
          1
         ],
         "yaxis": "y2"
        },
        {
         "boxpoints": "all",
         "jitter": 0.3,
         "marker": {
          "color": "blue"
         },
         "name": "70s",
         "pointpos": 0,
         "type": "box",
         "xaxis": "x",
         "y": [
          21,
          10,
          17,
          17,
          9,
          12,
          25,
          17,
          11,
          28,
          15
         ],
         "yaxis": "y"
        },
        {
         "boxpoints": "all",
         "jitter": 0.3,
         "marker": {
          "color": "blue"
         },
         "name": "70s",
         "pointpos": 0,
         "type": "box",
         "xaxis": "x2",
         "y": [
          5,
          7,
          4,
          5,
          1,
          1,
          1
         ],
         "yaxis": "y2"
        },
        {
         "boxpoints": "all",
         "jitter": 0.3,
         "marker": {
          "color": "orange"
         },
         "name": "male",
         "pointpos": 0,
         "type": "box",
         "xaxis": "x",
         "y": [
          13,
          32,
          20,
          16,
          10,
          22,
          16,
          20,
          21,
          10,
          17,
          21,
          18,
          10,
          26,
          22,
          24,
          8,
          7,
          14,
          5,
          15,
          15,
          3,
          14,
          4,
          6,
          16,
          16,
          12,
          12,
          26,
          24,
          24,
          24,
          7,
          12,
          15,
          13,
          11,
          8,
          18,
          13,
          7,
          15,
          15,
          15,
          17,
          13,
          17,
          22,
          7,
          11,
          8,
          1,
          5,
          8,
          8,
          11,
          14,
          13,
          11,
          11,
          17,
          18,
          18,
          12,
          17,
          17,
          11,
          17,
          17,
          19,
          15,
          9,
          13,
          17,
          16,
          15,
          12,
          13,
          14,
          11,
          15,
          13,
          9,
          13,
          11,
          11,
          9,
          8,
          15,
          9,
          12,
          11,
          11,
          8,
          16,
          15,
          11,
          12,
          11
         ],
         "yaxis": "y"
        },
        {
         "boxpoints": "all",
         "jitter": 0.3,
         "marker": {
          "color": "orange"
         },
         "name": "male",
         "pointpos": 0,
         "type": "box",
         "xaxis": "x2",
         "y": [
          5,
          7,
          4,
          6,
          5,
          6,
          6,
          6,
          2,
          8,
          1,
          1,
          4,
          4,
          3,
          1,
          3
         ],
         "yaxis": "y2"
        },
        {
         "boxpoints": "all",
         "jitter": 0.3,
         "marker": {
          "color": "orange"
         },
         "name": "female",
         "pointpos": 0,
         "type": "box",
         "xaxis": "x",
         "y": [
          24,
          19,
          24,
          23,
          25,
          17,
          17,
          14,
          15,
          15,
          6,
          16,
          5,
          19,
          5,
          4,
          20,
          21,
          5,
          19,
          18,
          9,
          9,
          7,
          9,
          8,
          16,
          15,
          13,
          25,
          17,
          12,
          5,
          23,
          22,
          16,
          12,
          16,
          19,
          25,
          7,
          15,
          8,
          7,
          8,
          11,
          19,
          21,
          20,
          16,
          7,
          19,
          19,
          17,
          12,
          16,
          13,
          19,
          13,
          18,
          17,
          18,
          15,
          10,
          14,
          12,
          9,
          15,
          22,
          14,
          23,
          16,
          19,
          11,
          18,
          14,
          8,
          19,
          17,
          14,
          9,
          16,
          15,
          13,
          14,
          12,
          12,
          16,
          14,
          12,
          12,
          11,
          12,
          11,
          11,
          11,
          9,
          12,
          9,
          10,
          10,
          9,
          12,
          10,
          10,
          9,
          9,
          11,
          9,
          12,
          11,
          11,
          11,
          9,
          9,
          11,
          10,
          14,
          28,
          17,
          17,
          15,
          19,
          16,
          8,
          14,
          13
         ],
         "yaxis": "y"
        },
        {
         "boxpoints": "all",
         "jitter": 0.3,
         "marker": {
          "color": "orange"
         },
         "name": "female",
         "pointpos": 0,
         "type": "box",
         "xaxis": "x2",
         "y": [
          5,
          8,
          4,
          1,
          2,
          8
         ],
         "yaxis": "y2"
        }
       ],
       "layout": {
        "annotations": [
         {
          "font": {
           "size": 16
          },
          "showarrow": false,
          "text": "Influence of age and sex on the recovering time",
          "x": 0.225,
          "xanchor": "center",
          "xref": "paper",
          "y": 1,
          "yanchor": "bottom",
          "yref": "paper"
         },
         {
          "font": {
           "size": 16
          },
          "showarrow": false,
          "text": "Influence of age and sex of the deceasing time",
          "x": 0.775,
          "xanchor": "center",
          "xref": "paper",
          "y": 1,
          "yanchor": "bottom",
          "yref": "paper"
         }
        ],
        "height": 600,
        "template": {
         "data": {
          "bar": [
           {
            "error_x": {
             "color": "#2a3f5f"
            },
            "error_y": {
             "color": "#2a3f5f"
            },
            "marker": {
             "line": {
              "color": "white",
              "width": 0.5
             }
            },
            "type": "bar"
           }
          ],
          "barpolar": [
           {
            "marker": {
             "line": {
              "color": "white",
              "width": 0.5
             }
            },
            "type": "barpolar"
           }
          ],
          "carpet": [
           {
            "aaxis": {
             "endlinecolor": "#2a3f5f",
             "gridcolor": "#C8D4E3",
             "linecolor": "#C8D4E3",
             "minorgridcolor": "#C8D4E3",
             "startlinecolor": "#2a3f5f"
            },
            "baxis": {
             "endlinecolor": "#2a3f5f",
             "gridcolor": "#C8D4E3",
             "linecolor": "#C8D4E3",
             "minorgridcolor": "#C8D4E3",
             "startlinecolor": "#2a3f5f"
            },
            "type": "carpet"
           }
          ],
          "choropleth": [
           {
            "colorbar": {
             "outlinewidth": 0,
             "ticks": ""
            },
            "type": "choropleth"
           }
          ],
          "contour": [
           {
            "colorbar": {
             "outlinewidth": 0,
             "ticks": ""
            },
            "colorscale": [
             [
              0,
              "#0d0887"
             ],
             [
              0.1111111111111111,
              "#46039f"
             ],
             [
              0.2222222222222222,
              "#7201a8"
             ],
             [
              0.3333333333333333,
              "#9c179e"
             ],
             [
              0.4444444444444444,
              "#bd3786"
             ],
             [
              0.5555555555555556,
              "#d8576b"
             ],
             [
              0.6666666666666666,
              "#ed7953"
             ],
             [
              0.7777777777777778,
              "#fb9f3a"
             ],
             [
              0.8888888888888888,
              "#fdca26"
             ],
             [
              1,
              "#f0f921"
             ]
            ],
            "type": "contour"
           }
          ],
          "contourcarpet": [
           {
            "colorbar": {
             "outlinewidth": 0,
             "ticks": ""
            },
            "type": "contourcarpet"
           }
          ],
          "heatmap": [
           {
            "colorbar": {
             "outlinewidth": 0,
             "ticks": ""
            },
            "colorscale": [
             [
              0,
              "#0d0887"
             ],
             [
              0.1111111111111111,
              "#46039f"
             ],
             [
              0.2222222222222222,
              "#7201a8"
             ],
             [
              0.3333333333333333,
              "#9c179e"
             ],
             [
              0.4444444444444444,
              "#bd3786"
             ],
             [
              0.5555555555555556,
              "#d8576b"
             ],
             [
              0.6666666666666666,
              "#ed7953"
             ],
             [
              0.7777777777777778,
              "#fb9f3a"
             ],
             [
              0.8888888888888888,
              "#fdca26"
             ],
             [
              1,
              "#f0f921"
             ]
            ],
            "type": "heatmap"
           }
          ],
          "heatmapgl": [
           {
            "colorbar": {
             "outlinewidth": 0,
             "ticks": ""
            },
            "colorscale": [
             [
              0,
              "#0d0887"
             ],
             [
              0.1111111111111111,
              "#46039f"
             ],
             [
              0.2222222222222222,
              "#7201a8"
             ],
             [
              0.3333333333333333,
              "#9c179e"
             ],
             [
              0.4444444444444444,
              "#bd3786"
             ],
             [
              0.5555555555555556,
              "#d8576b"
             ],
             [
              0.6666666666666666,
              "#ed7953"
             ],
             [
              0.7777777777777778,
              "#fb9f3a"
             ],
             [
              0.8888888888888888,
              "#fdca26"
             ],
             [
              1,
              "#f0f921"
             ]
            ],
            "type": "heatmapgl"
           }
          ],
          "histogram": [
           {
            "marker": {
             "colorbar": {
              "outlinewidth": 0,
              "ticks": ""
             }
            },
            "type": "histogram"
           }
          ],
          "histogram2d": [
           {
            "colorbar": {
             "outlinewidth": 0,
             "ticks": ""
            },
            "colorscale": [
             [
              0,
              "#0d0887"
             ],
             [
              0.1111111111111111,
              "#46039f"
             ],
             [
              0.2222222222222222,
              "#7201a8"
             ],
             [
              0.3333333333333333,
              "#9c179e"
             ],
             [
              0.4444444444444444,
              "#bd3786"
             ],
             [
              0.5555555555555556,
              "#d8576b"
             ],
             [
              0.6666666666666666,
              "#ed7953"
             ],
             [
              0.7777777777777778,
              "#fb9f3a"
             ],
             [
              0.8888888888888888,
              "#fdca26"
             ],
             [
              1,
              "#f0f921"
             ]
            ],
            "type": "histogram2d"
           }
          ],
          "histogram2dcontour": [
           {
            "colorbar": {
             "outlinewidth": 0,
             "ticks": ""
            },
            "colorscale": [
             [
              0,
              "#0d0887"
             ],
             [
              0.1111111111111111,
              "#46039f"
             ],
             [
              0.2222222222222222,
              "#7201a8"
             ],
             [
              0.3333333333333333,
              "#9c179e"
             ],
             [
              0.4444444444444444,
              "#bd3786"
             ],
             [
              0.5555555555555556,
              "#d8576b"
             ],
             [
              0.6666666666666666,
              "#ed7953"
             ],
             [
              0.7777777777777778,
              "#fb9f3a"
             ],
             [
              0.8888888888888888,
              "#fdca26"
             ],
             [
              1,
              "#f0f921"
             ]
            ],
            "type": "histogram2dcontour"
           }
          ],
          "mesh3d": [
           {
            "colorbar": {
             "outlinewidth": 0,
             "ticks": ""
            },
            "type": "mesh3d"
           }
          ],
          "parcoords": [
           {
            "line": {
             "colorbar": {
              "outlinewidth": 0,
              "ticks": ""
             }
            },
            "type": "parcoords"
           }
          ],
          "pie": [
           {
            "automargin": true,
            "type": "pie"
           }
          ],
          "scatter": [
           {
            "marker": {
             "colorbar": {
              "outlinewidth": 0,
              "ticks": ""
             }
            },
            "type": "scatter"
           }
          ],
          "scatter3d": [
           {
            "line": {
             "colorbar": {
              "outlinewidth": 0,
              "ticks": ""
             }
            },
            "marker": {
             "colorbar": {
              "outlinewidth": 0,
              "ticks": ""
             }
            },
            "type": "scatter3d"
           }
          ],
          "scattercarpet": [
           {
            "marker": {
             "colorbar": {
              "outlinewidth": 0,
              "ticks": ""
             }
            },
            "type": "scattercarpet"
           }
          ],
          "scattergeo": [
           {
            "marker": {
             "colorbar": {
              "outlinewidth": 0,
              "ticks": ""
             }
            },
            "type": "scattergeo"
           }
          ],
          "scattergl": [
           {
            "marker": {
             "colorbar": {
              "outlinewidth": 0,
              "ticks": ""
             }
            },
            "type": "scattergl"
           }
          ],
          "scattermapbox": [
           {
            "marker": {
             "colorbar": {
              "outlinewidth": 0,
              "ticks": ""
             }
            },
            "type": "scattermapbox"
           }
          ],
          "scatterpolar": [
           {
            "marker": {
             "colorbar": {
              "outlinewidth": 0,
              "ticks": ""
             }
            },
            "type": "scatterpolar"
           }
          ],
          "scatterpolargl": [
           {
            "marker": {
             "colorbar": {
              "outlinewidth": 0,
              "ticks": ""
             }
            },
            "type": "scatterpolargl"
           }
          ],
          "scatterternary": [
           {
            "marker": {
             "colorbar": {
              "outlinewidth": 0,
              "ticks": ""
             }
            },
            "type": "scatterternary"
           }
          ],
          "surface": [
           {
            "colorbar": {
             "outlinewidth": 0,
             "ticks": ""
            },
            "colorscale": [
             [
              0,
              "#0d0887"
             ],
             [
              0.1111111111111111,
              "#46039f"
             ],
             [
              0.2222222222222222,
              "#7201a8"
             ],
             [
              0.3333333333333333,
              "#9c179e"
             ],
             [
              0.4444444444444444,
              "#bd3786"
             ],
             [
              0.5555555555555556,
              "#d8576b"
             ],
             [
              0.6666666666666666,
              "#ed7953"
             ],
             [
              0.7777777777777778,
              "#fb9f3a"
             ],
             [
              0.8888888888888888,
              "#fdca26"
             ],
             [
              1,
              "#f0f921"
             ]
            ],
            "type": "surface"
           }
          ],
          "table": [
           {
            "cells": {
             "fill": {
              "color": "#EBF0F8"
             },
             "line": {
              "color": "white"
             }
            },
            "header": {
             "fill": {
              "color": "#C8D4E3"
             },
             "line": {
              "color": "white"
             }
            },
            "type": "table"
           }
          ]
         },
         "layout": {
          "annotationdefaults": {
           "arrowcolor": "#2a3f5f",
           "arrowhead": 0,
           "arrowwidth": 1
          },
          "coloraxis": {
           "colorbar": {
            "outlinewidth": 0,
            "ticks": ""
           }
          },
          "colorscale": {
           "diverging": [
            [
             0,
             "#8e0152"
            ],
            [
             0.1,
             "#c51b7d"
            ],
            [
             0.2,
             "#de77ae"
            ],
            [
             0.3,
             "#f1b6da"
            ],
            [
             0.4,
             "#fde0ef"
            ],
            [
             0.5,
             "#f7f7f7"
            ],
            [
             0.6,
             "#e6f5d0"
            ],
            [
             0.7,
             "#b8e186"
            ],
            [
             0.8,
             "#7fbc41"
            ],
            [
             0.9,
             "#4d9221"
            ],
            [
             1,
             "#276419"
            ]
           ],
           "sequential": [
            [
             0,
             "#0d0887"
            ],
            [
             0.1111111111111111,
             "#46039f"
            ],
            [
             0.2222222222222222,
             "#7201a8"
            ],
            [
             0.3333333333333333,
             "#9c179e"
            ],
            [
             0.4444444444444444,
             "#bd3786"
            ],
            [
             0.5555555555555556,
             "#d8576b"
            ],
            [
             0.6666666666666666,
             "#ed7953"
            ],
            [
             0.7777777777777778,
             "#fb9f3a"
            ],
            [
             0.8888888888888888,
             "#fdca26"
            ],
            [
             1,
             "#f0f921"
            ]
           ],
           "sequentialminus": [
            [
             0,
             "#0d0887"
            ],
            [
             0.1111111111111111,
             "#46039f"
            ],
            [
             0.2222222222222222,
             "#7201a8"
            ],
            [
             0.3333333333333333,
             "#9c179e"
            ],
            [
             0.4444444444444444,
             "#bd3786"
            ],
            [
             0.5555555555555556,
             "#d8576b"
            ],
            [
             0.6666666666666666,
             "#ed7953"
            ],
            [
             0.7777777777777778,
             "#fb9f3a"
            ],
            [
             0.8888888888888888,
             "#fdca26"
            ],
            [
             1,
             "#f0f921"
            ]
           ]
          },
          "colorway": [
           "#636efa",
           "#EF553B",
           "#00cc96",
           "#ab63fa",
           "#FFA15A",
           "#19d3f3",
           "#FF6692",
           "#B6E880",
           "#FF97FF",
           "#FECB52"
          ],
          "font": {
           "color": "#2a3f5f"
          },
          "geo": {
           "bgcolor": "white",
           "lakecolor": "white",
           "landcolor": "white",
           "showlakes": true,
           "showland": true,
           "subunitcolor": "#C8D4E3"
          },
          "hoverlabel": {
           "align": "left"
          },
          "hovermode": "closest",
          "mapbox": {
           "style": "light"
          },
          "paper_bgcolor": "white",
          "plot_bgcolor": "white",
          "polar": {
           "angularaxis": {
            "gridcolor": "#EBF0F8",
            "linecolor": "#EBF0F8",
            "ticks": ""
           },
           "bgcolor": "white",
           "radialaxis": {
            "gridcolor": "#EBF0F8",
            "linecolor": "#EBF0F8",
            "ticks": ""
           }
          },
          "scene": {
           "xaxis": {
            "backgroundcolor": "white",
            "gridcolor": "#DFE8F3",
            "gridwidth": 2,
            "linecolor": "#EBF0F8",
            "showbackground": true,
            "ticks": "",
            "zerolinecolor": "#EBF0F8"
           },
           "yaxis": {
            "backgroundcolor": "white",
            "gridcolor": "#DFE8F3",
            "gridwidth": 2,
            "linecolor": "#EBF0F8",
            "showbackground": true,
            "ticks": "",
            "zerolinecolor": "#EBF0F8"
           },
           "zaxis": {
            "backgroundcolor": "white",
            "gridcolor": "#DFE8F3",
            "gridwidth": 2,
            "linecolor": "#EBF0F8",
            "showbackground": true,
            "ticks": "",
            "zerolinecolor": "#EBF0F8"
           }
          },
          "shapedefaults": {
           "line": {
            "color": "#2a3f5f"
           }
          },
          "ternary": {
           "aaxis": {
            "gridcolor": "#DFE8F3",
            "linecolor": "#A2B1C6",
            "ticks": ""
           },
           "baxis": {
            "gridcolor": "#DFE8F3",
            "linecolor": "#A2B1C6",
            "ticks": ""
           },
           "bgcolor": "white",
           "caxis": {
            "gridcolor": "#DFE8F3",
            "linecolor": "#A2B1C6",
            "ticks": ""
           }
          },
          "title": {
           "x": 0.05
          },
          "xaxis": {
           "automargin": true,
           "gridcolor": "#EBF0F8",
           "linecolor": "#EBF0F8",
           "ticks": "",
           "title": {
            "standoff": 15
           },
           "zerolinecolor": "#EBF0F8",
           "zerolinewidth": 2
          },
          "yaxis": {
           "automargin": true,
           "gridcolor": "#EBF0F8",
           "linecolor": "#EBF0F8",
           "ticks": "",
           "title": {
            "standoff": 15
           },
           "zerolinecolor": "#EBF0F8",
           "zerolinewidth": 2
          }
         }
        },
        "width": 1000,
        "xaxis": {
         "anchor": "y",
         "domain": [
          0,
          0.45
         ]
        },
        "xaxis2": {
         "anchor": "y2",
         "domain": [
          0.55,
          1
         ]
        },
        "yaxis": {
         "anchor": "x",
         "domain": [
          0,
          1
         ],
         "title": {
          "text": "[days]"
         }
        },
        "yaxis2": {
         "anchor": "x2",
         "domain": [
          0,
          1
         ],
         "title": {
          "text": "[days]"
         }
        }
       }
      }
     },
     "metadata": {},
     "output_type": "display_data"
    }
   ],
   "source": [
    "age_list=['0s','10s','20s','30s','40s','50s','60s','70s']\n",
    "sex_list=['male','female']\n",
    "\n",
    "fig = make_subplots(rows=1, cols=2, subplot_titles=(\"Influence of age and sex on the recovering time\", \"Influence of age and sex of the deceasing time\"))\n",
    "\n",
    "for age in age_list:\n",
    "    val_rec=df[df['age']==age]['recovering_time'].dropna()\n",
    "    val_dec=df[df['age']==age]['deceasing_time'].dropna()\n",
    "    y_rec=[int(i.split(' days')[0]) for i in val_rec.astype(str).values if int(i.split(' days')[0])>0]\n",
    "    y_dec=[int(i.split(' days')[0]) for i in val_dec.astype(str).values if int(i.split(' days')[0])>0]\n",
    "    fig.add_trace(go.Box(y=y_rec, boxpoints='all', name=age, marker_color = 'blue',\n",
    "            jitter=0.3,pointpos=0), row=1 , col=1)\n",
    "    fig.add_trace(go.Box(y=y_dec, boxpoints='all', name=age, marker_color = 'blue',\n",
    "            jitter=0.3,pointpos=0), row=1 , col=2)\n",
    "\n",
    "for sex in sex_list:\n",
    "    val_rec=df[df['sex']==sex]['recovering_time'].dropna()\n",
    "    val_dec=df[df['sex']==sex]['deceasing_time'].dropna()\n",
    "    y_rec=[int(i.split(' days')[0]) for i in val_rec.astype(str).values if int(i.split(' days')[0])>0]\n",
    "    y_dec=[int(i.split(' days')[0]) for i in val_dec.astype(str).values if int(i.split(' days')[0])>0]\n",
    "    fig.add_trace(go.Box(y=y_rec, boxpoints='all', name=sex, marker_color = 'orange',\n",
    "            jitter=0.3,pointpos=0), row=1 , col=1)\n",
    "    fig.add_trace(go.Box(y=y_dec, boxpoints='all', name=sex, marker_color = 'orange',\n",
    "            jitter=0.3,pointpos=0), row=1 , col=2)\n",
    "\n",
    "fig.update_yaxes(title_text=\"[days]\", row=1, col=1)\n",
    "fig.update_yaxes(title_text=\"[days]\", row=1, col=2)\n",
    "fig.update_layout(height=600,\n",
    "                  width=1000,\n",
    "                  template=\"plotly_white\")"
   ]
  },
  {
   "cell_type": "markdown",
   "metadata": {},
   "source": [
    "The graphs show not trend nor truths that we have not already observed early. Again, the high risk and deceasing rate is illustrated for people of higher age by the graph for the deceasing time, but trends for age or sex cannot be observed."
   ]
  },
  {
   "cell_type": "markdown",
   "metadata": {},
   "source": [
    "All in all, we can conclude:\n",
    "- The virus can infect everybody, no matter what age or sex\n",
    "- It is far more dangerous for older people with a age of 60 or higher\n",
    "- The mortality rate is strongly correlated with age and sex, being the highest for old males\n",
    "- The spread of the virus is (at least in South Korea) not correlated with transferable features for demographics and infrastructure like population density and number of kinder gardens etc. the training of a model that is transferable for other countries is therefore not possible\n",
    "- The virus is spread mostly on public events, therefore\n",
    "- The time of recovering or the time until the decease of individuals is not related to age or sex\n",
    "- For South Korea the overall progression of the virus is flattening, probably due to very fast and restrictive actions after a person has either been identified with the virus, or has have contact with a infected one\n"
   ]
  },
  {
   "cell_type": "code",
   "execution_count": null,
   "metadata": {},
   "outputs": [],
   "source": []
  }
 ],
 "metadata": {
  "file_extension": ".py",
  "kernelspec": {
   "display_name": "Python 3.8.2 64-bit ('covid-19_blogpost': conda)",
   "language": "python",
   "name": "python38264bitcovid19blogpostconda9306b4eb1dee497f8aedb72bfb76c6fb"
  },
  "language_info": {
   "codemirror_mode": {
    "name": "ipython",
    "version": 3
   },
   "file_extension": ".py",
   "mimetype": "text/x-python",
   "name": "python",
   "nbconvert_exporter": "python",
   "pygments_lexer": "ipython3",
   "version": "3.8.2"
  },
  "mimetype": "text/x-python",
  "name": "python",
  "npconvert_exporter": "python",
  "pygments_lexer": "ipython3",
  "version": 3
 },
 "nbformat": 4,
 "nbformat_minor": 2
}
