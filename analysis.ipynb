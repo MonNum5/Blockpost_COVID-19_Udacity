{
 "cells": [
  {
   "cell_type": "markdown",
   "metadata": {},
   "source": [
    "# Analysis of the South Korea COVID-19 Kaggle Dataset"
   ],
   "execution_count": null,
   "outputs": []
  },
  {
   "cell_type": "markdown",
   "metadata": {},
   "source": [
    "<img src=\"static/virus.tiff\" height='500px' width='1000px'>"
   ],
   "execution_count": null,
   "outputs": []
  },
  {
   "cell_type": "markdown",
   "metadata": {},
   "source": [
    "[Picture source](http://www.lowellma.gov/coronavirus) (02.04.2020)"
   ],
   "execution_count": null,
   "outputs": []
  },
  {
   "cell_type": "markdown",
   "metadata": {},
   "source": [
    "## Introduction\n",
    "The COVID-19 virus is an incisive event in the 21st century. Nearly all countries in the world are affected and the effects are noticeable on a macroscopic level for countries, provinces and cities and on a microscopic level for individuals. From its origin in the Chinese province of Wuhan the virus spread all over the world. The question is what effects and what extensions of the effects are to be anticipated by countries, regions and individuals that have not experienced the full possible extend of the virus. Data Science can give answers to those questions on the basis of data that has been collected in regions close to the origin of the virus."
   ],
   "execution_count": null,
   "outputs": []
  },
  {
   "cell_type": "markdown",
   "metadata": {},
   "source": [
    "## The Data\n",
    "\n",
    "Kaggle provides a very comprehensive [Dataset for South Korea](https://www.kaggle.com/kimjihoo/coronavirusdataset/data)\n",
    " (Version 31.03.2020), a country close to the origin and with good data quality that will be used as basis for the data science analysis. The goal is to analyse the data with respect to parameters that are transferable and universaly applicable, gain insights into the progression of the virus for regions and indiviuals and try to find corresponding models.\n"
   ],
   "execution_count": null,
   "outputs": []
  },
  {
   "cell_type": "markdown",
   "metadata": {},
   "source": [
    "## Let's open the folder and have a first look at the data"
   ],
   "execution_count": null,
   "outputs": []
  },
  {
   "cell_type": "markdown",
   "metadata": {},
   "source": [
    "### Imports"
   ],
   "execution_count": null,
   "outputs": []
  },
  {
   "cell_type": "code",
   "execution_count": null,
   "metadata": {},
   "outputs": [],
   "source": [
    "import os\n",
    "import pandas as pd \n",
    "import plotly.graph_objects as go\n",
    "from plotly.subplots import make_subplots\n",
    "import matplotlib.pyplot as plt\n",
    "import numpy as np"
   ]
  },
  {
   "cell_type": "code",
   "execution_count": null,
   "metadata": {},
   "outputs": [],
   "source": [
    "for file in os.listdir('coronavirusdataset/'):\n",
    "    print(file)"
   ]
  },
  {
   "cell_type": "markdown",
   "metadata": {},
   "source": [
    "So there seem to be quied some files in csv format. Lets load them into a dict and print the head."
   ],
   "execution_count": null,
   "outputs": []
  },
  {
   "cell_type": "code",
   "execution_count": null,
   "metadata": {},
   "outputs": [],
   "source": [
    "df_dict={}\n",
    "for file in os.listdir('coronavirusdataset/'):\n",
    "    df=pd.read_csv('coronavirusdataset/'+file)\n",
    "    df_dict[file.split('.')[0]]=df\n",
    "    print(file.split('.')[0])\n",
    "    print(df.head())"
   ]
  },
  {
   "cell_type": "markdown",
   "metadata": {},
   "source": [
    "Here is a tabularized description of the data sets\n",
    "\n",
    "File| Description | \n",
    "--- | --- \n",
    "Case| Data of COVID-19 Infection Caseses | \n",
    "PatientInfo| Epidemiological data of COVID-19 patients in South Korea | \n",
    "PatientRoute| Route data of COVID-19 patients in South Korea | \n",
    "Region| Location and statistical data of the regions in South Korea| \n",
    "SearchTrend| Trend data of the keywords searched in NAVER which is one of the largest portals in South Korea | \n",
    "SeoulFloating| Data of floating population in Seoul, South Korea (from SK Telecom Big Data Hub) | \n",
    "Time| Time series data of COVID-19 status in South Korea | \n",
    "TimeAge| Time series data of COVID-19 status in terms of the age in South Korea | \n",
    "TimeGender| Time series data of COVID-19 status in terms of gender in South Korea | \n",
    "TimeProvince| Time series data of COVID-19 status in terms of the Province in South Korea | \n",
    "Weather| Data of the weather in the regions of South Korea | "
   ],
   "execution_count": null,
   "outputs": []
  },
  {
   "cell_type": "markdown",
   "metadata": {},
   "source": [
    "We immediately see, that data is very specific to South Korea. The demographic information is given in form of the city names and provinces, that are non transferable quantities, like population or population density. Therefore we need to add those informations ourself. Thank god the internet provides us with credible sites like [City Population](https://citypopulation.de/), with a standartized data format that we can easily exctract data from. We are especially interested in the overall population and the population density."
   ],
   "execution_count": null,
   "outputs": []
  },
  {
   "cell_type": "markdown",
   "metadata": {},
   "source": [
    "<img src=\"static/citypopulation_table.png\" height='500px' width='1000px'>"
   ],
   "execution_count": null,
   "outputs": []
  },
  {
   "cell_type": "markdown",
   "metadata": {},
   "source": [
    "To get the information for all cities listed in the TimeProvince dataset one could either search the cities individually or write a web scraper to get the information from the City Population website. Since the last approach is more fun let's do just just that, using [BeautifulSoup](https://www.crummy.com/software/BeautifulSoup/bs4/doc/) a web scraping library and [Selenium](https://selenium-python.readthedocs.io/) a web driver library, both can be installed via pip. I am not going to go to explain the code in detail, but what basically happens:\n",
    "\n",
    "- Selenium allows an automatic search of a city\n",
    "- Loop overall results and make sure, that city name and province are correct\n",
    "- Open the link with the match and use BeautifulSoup to extract the standardized html table\n",
    "- With a regex operation the two numbers for the population and the population density are extracted\n",
    "- The results are saved in an excel file\n",
    "\n",
    "### You don't have to run the code, the result is provided in the Region_with_population_population_density.xlsx file. If you want to run it, you have to download a browser driver (I used the driver for Firefox, called [geckodriver](https://github.com/mozilla/geckodriver/releases) and put the absolute path to the driver_path variable in the code\n"
   ],
   "execution_count": null,
   "outputs": []
  },
  {
   "cell_type": "code",
   "execution_count": null,
   "metadata": {},
   "outputs": [],
   "source": [
    "from bs4 import BeautifulSoup\n",
    "import requests\n",
    "import re\n",
    "from selenium import webdriver\n",
    "from selenium.webdriver.common.keys import Keys\n",
    "import time\n",
    "from tqdm import tqdm\n",
    "\n",
    "df=df_dict['Region']\n",
    "\n",
    "#absolute path to webdriver, I used the Firefox driver geckodriver for mac os: https://github.com/mozilla/geckodriver/releasesdriver_path='/absolute path to webdriver\n",
    "\n",
    "driver=webdriver.Firefox(executable_path =driver_path)\n",
    "\n",
    "for i in tqdm(range(df.shape[0])):\n",
    "    match=False\n",
    "    city=df['city'][i]\n",
    "    province=df['province'][i]\n",
    "    \n",
    "    try:\n",
    "        #Go to Citypopulation search\n",
    "        driver.get(\"https://www.citypopulation.de/search.html\")\n",
    "        time.sleep(2)\n",
    "        #Search for the city\n",
    "\n",
    "        search_country= driver.find_element_by_id(\"countries1\")\n",
    "        search_country.send_keys('South Korea')\n",
    "        search_place= driver.find_element_by_id(\"places1\")\n",
    "        search_place.send_keys(city)\n",
    "        search_place.send_keys(Keys.RETURN)\n",
    "        time.sleep(3)\n",
    "\n",
    "        #Get result element\n",
    "        results=driver.find_elements_by_class_name(\"result\")\n",
    "        #check results, since a lot of the cities have the same name we also consider the province, since for a metropolitan citiy the province is the city itself it gets its on case\n",
    "        for result in results:\n",
    "            if province in result.text:\n",
    "                match=True\n",
    "                result.click()\n",
    "                break\n",
    "            elif 'Metropolitan  City'  in result.text:\n",
    "                match=True\n",
    "                result.click()\n",
    "                break\n",
    "    \n",
    "\n",
    "        if match==True:\n",
    "            time.sleep(3)\n",
    "            #Scrap the html\n",
    "            URL=driver.current_url\n",
    "\n",
    "            response=requests.get(URL)\n",
    "            soup=BeautifulSoup(response.text,'html.parser')\n",
    "\n",
    "            #Get the table with pupultion information\n",
    "            table=soup.find('table',{\"id\":\"ts\"}).tbody\n",
    "            rows = table.find_all(\"td\")\n",
    "            \n",
    "            #Scrap population density and populatin number from table\n",
    "            df.at[i,'PopulationDensity']=float(re.search(r'data-density=\"(.*?)\"', str(rows[0])).group(1))\n",
    "            df.at[i,'Population']=float(re.search(r'\">(.*?)</td>', str(rows[-2])).group(1).replace(',',''))\n",
    "            time.sleep(1)\n",
    "        else:\n",
    "          print(f'No match for {city} in {province}')  \n",
    "    except:\n",
    "        print(f'Did not work for {city} in {province}')\n",
    "\n",
    "driver.close()\n",
    "driver.quit()\n",
    "\n",
    "df.to_excel('Region_with_population_population_density.xlsx')\n",
    "print(df)"
   ]
  },
  {
   "cell_type": "markdown",
   "metadata": {},
   "source": [
    "With the exception of Yeoju-si the scraper worked correctly. The values for the cities that could not be found were added manually with a help of a quick Google search."
   ],
   "execution_count": null,
   "outputs": []
  },
  {
   "cell_type": "markdown",
   "metadata": {},
   "source": [
    "## Let's start with the acutal analysis\n",
    "Lets try to get an understanding about the progression of virus. Therefore, we take a look at the \"TimeAge\" data and try to find out who is affected in risk and possible in danger. Therefore we are going to look at the overall cumulative numbers of conformations and deceased cases and calculate the motility rate. We are going to use [plotly](https://plotly.com/) for this, a fantastic, ease to use library that allows for interactive plots."
   ],
   "execution_count": null,
   "outputs": []
  },
  {
   "cell_type": "code",
   "execution_count": null,
   "metadata": {},
   "outputs": [],
   "source": [
    "df=df_dict['TimeAge']\n",
    "fig = make_subplots(rows=3, cols=1, subplot_titles=(\"Number of cumulative conformations\", \"Number of cumulative deceased\", \"Mortality rate\"))\n",
    "colors=plt.cm.Blues(np.linspace(0, 1, len(df['age'].unique())))\n",
    "\n",
    "for i, age in enumerate(df['age'].unique()):\n",
    "    plt_df=df[df['age']==age]\n",
    "    x=plt_df['date'].values\n",
    "    y_conf=plt_df['confirmed'].values\n",
    "    \n",
    "    y_des=plt_df['deceased'].values\n",
    "\n",
    "    #decease rate\n",
    "    y_des_rate=y_des/y_conf*100\n",
    "\n",
    "    color=f\"rgba({colors[i][0]},{colors[i][1]},{colors[i][2]},{colors[i][3]})\"\n",
    "    \n",
    "    \n",
    "    fig.add_trace(go.Scatter(x=x, y=y_conf, name=age, line=dict(color=color)), row=1, col=1)\n",
    "    fig.add_trace(go.Scatter(x=x, y=y_des, name=age, line=dict(color=color), showlegend=False), row=2, col=1)\n",
    "    fig.add_trace(go.Scatter(x=x, y=y_des_rate, name=f\"{age} cumulative\", line=dict(color=color), showlegend=False), row=3, col=1)\n",
    "\n",
    "fig.update_yaxes(title_text=\"[-]\", row=1, col=1)\n",
    "fig.update_yaxes(title_text=\"[-]\", row=2, col=1)\n",
    "fig.update_yaxes(title_text=\"[%]\", row=3, col=1)\n",
    "fig.update_layout(height=800,\n",
    "                  width=600,\n",
    "                  title_text=\"Analysis of COVID progression over time\",\n",
    "                  template=\"plotly_white\")\n",
    "fig.show()"
   ]
  },
  {
   "cell_type": "markdown",
   "metadata": {},
   "source": [
    "From this graph we can constate a couple of interesting things:\n",
    "- Younger people tend to have a higher infection rate, especially people in their 20s\n",
    "- Older people above 70 show the highest mortality rate, between 5-10 %\n",
    "- The cumulative curves show a flattening trend, which indicates, that spread of the virus is getting contained\n"
   ],
   "execution_count": null,
   "outputs": []
  },
  {
   "cell_type": "markdown",
   "metadata": {},
   "source": [
    "Let's investigate if gender has an effect on the virus. Therefore, we take a look at the \"TimeGender\" data set and produce a plot of the mortality rate similar as above"
   ],
   "execution_count": null,
   "outputs": []
  },
  {
   "cell_type": "code",
   "execution_count": null,
   "metadata": {},
   "outputs": [],
   "source": [
    "df=df_dict['TimeGender']\n",
    "fig = go.Figure()\n",
    "colors=plt.cm.Blues(np.linspace(0, 1, len(df['sex'].unique())))\n",
    "\n",
    "for i, sex in enumerate(df['sex'].unique()):\n",
    "    plt_df=df[df['sex']==sex]\n",
    "    x=plt_df['date'].values\n",
    "    y_conf=plt_df['confirmed'].values\n",
    "    \n",
    "    y_des=plt_df['deceased'].values\n",
    "\n",
    "    #decease rate\n",
    "    y_des_rate=y_des/y_conf*100\n",
    "\n",
    "    color=f\"rgba({colors[i][0]},{colors[i][1]},{colors[i][2]},{colors[i][3]})\"\n",
    "    \n",
    "    \n",
    "    fig.add_trace(go.Scatter(x=x, y=y_des_rate, name=f\"{sex} cumulative\", line=dict(color=color), showlegend=True))\n",
    "\n",
    "fig.update_yaxes(title_text=\"[%]\")\n",
    "fig.update_layout(height=400,\n",
    "                  width=600,\n",
    "                  title_text=\"Analysis of the gender influence of the mortality rate\",\n",
    "                  template=\"plotly_white\")\n",
    "fig.show()"
   ]
  },
  {
   "cell_type": "markdown",
   "metadata": {},
   "source": [
    "Ok.... this does not look good for men; on average the mortality rate is twice as high as for women and both rates seem still to increase."
   ],
   "execution_count": null,
   "outputs": []
  },
  {
   "cell_type": "markdown",
   "metadata": {},
   "source": [
    "Now we want to investigate the influence of demographics and infrastructure of the cities. Therefore, we read in the \"Region\" data with the added information about population and population density for the cities and fuse the data with the \"Case\" data."
   ],
   "execution_count": null,
   "outputs": []
  },
  {
   "cell_type": "code",
   "execution_count": null,
   "metadata": {},
   "outputs": [],
   "source": [
    "# Sum all cases for one city\n",
    "unique_cities=df_dict['Case'][['province','city']].drop_duplicates()\n",
    "\n",
    "df_sum=pd.DataFrame([])\n",
    "for i, j in enumerate(unique_cities.index):\n",
    "    city=unique_cities['city'][j]\n",
    "    province=unique_cities['province'][j]\n",
    "    df_sum.at[i,'province']=province\n",
    "    df_sum.at[i,'city']=city\n",
    "    idx_cases=np.where((df_dict['Case']['city']==city) & (df_dict['Case']['province']==province),True,False)\n",
    "    sum_i=np.sum(df_dict['Case'].loc[idx_cases,'confirmed'].values)\n",
    "    df_sum.at[i,'confirmed']=sum_i\n",
    "print(df_sum.head())"
   ]
  },
  {
   "cell_type": "code",
   "execution_count": null,
   "metadata": {
    "tags": [
     "outputPrepend"
    ]
   },
   "outputs": [],
   "source": [
    "import copy\n",
    "df_dict['Region']=pd.read_excel('Region_with_population_population_density.xlsx')\n",
    "\n",
    "df=copy.deepcopy(df_sum)\n",
    "\n",
    "for idx in df.index:\n",
    "    city=df['city'][idx]\n",
    "    province=df['province'][idx]\n",
    "    #Fuse with data from region data set\n",
    "    for key in ['Population','PopulationDensity','kindergarten_count','elementary_school_count','university_count','academy_ratio','elderly_population_ratio','elderly_alone_ratio','nursing_home_count']:\n",
    "        idx_region=np.where((df_dict['Region']['city']==city) & (df_dict['Region']['province']==province),True,False)\n",
    "\n",
    "        value=df_dict['Region'].loc[idx_region,key].values \n",
    "        #only append if value exit\n",
    "        if value:\n",
    "            df.at[idx,key]=value\n",
    "\n",
    "print(df.head())\n"
   ]
  },
  {
   "cell_type": "markdown",
   "metadata": {},
   "source": [
    "Now let's do a quick correlation matrix to see if demographics and infrastructure influence the cases of confirmation"
   ],
   "execution_count": null,
   "outputs": []
  },
  {
   "cell_type": "code",
   "execution_count": null,
   "metadata": {},
   "outputs": [],
   "source": [
    "import plotly.figure_factory as ff\n",
    "\n",
    "corr_matrix=df.corr()\n",
    "y_keys=list(corr_matrix.index)\n",
    "corr_matrix=corr_matrix['confirmed'].to_frame()\n",
    "fig = ff.create_annotated_heatmap(corr_matrix.values.round(2), colorscale='Blues', x=list(corr_matrix.columns),y=y_keys)\n",
    "fig.update_layout(\n",
    "                  title_text=\"Correlation matrix for confirmation number with parameters of infrastructure and demografics\",\n",
    "                  template=\"plotly_white\")\n",
    "fig.show()"
   ]
  },
  {
   "cell_type": "markdown",
   "metadata": {},
   "source": [
    "So the demographics and infrastructure do not seem to influence the number of confirmations very much. The development of a model based on those features is therefore not reasonable. Let's check if the number of confirmations is related to certain events and to locations. Therefore, we investigate the infection cases with respect to the number of corresponding confirmed cases."
   ],
   "execution_count": null,
   "outputs": []
  },
  {
   "cell_type": "code",
   "execution_count": null,
   "metadata": {},
   "outputs": [],
   "source": [
    "df=df_dict['Case']\n",
    "df_cases_sorted_sum=df.groupby('infection_case').sum().confirmed\n",
    "\n",
    "\n",
    "fig = go.Figure(data=[go.Pie(labels=df_cases_sorted_sum.index, values=df_cases_sorted_sum)])\n",
    "fig.update_layout(height=800,\n",
    "                  width=800,\n",
    "                  title_text=\"Number of confirmations\",\n",
    "                  template=\"plotly_white\")\n",
    "fig.show()\n",
    "\n"
   ]
  },
  {
   "cell_type": "markdown",
   "metadata": {},
   "source": [
    "The diagram demonstrates, that the biggest cause for conformations are public places/events. Let's see if the number of conformations is related to a certain city/region. We therefore plot the geographical data of call cases and display the number of conformations by relation of the size of the maker in red. We also display the city names and locations in black."
   ],
   "execution_count": null,
   "outputs": []
  },
  {
   "cell_type": "code",
   "execution_count": null,
   "metadata": {},
   "outputs": [],
   "source": [
    "plot_df=df_dict['Case']\n",
    "\n",
    "fig=go.Figure()\n",
    "for i in range(plot_df.shape[0]):\n",
    "    try:\n",
    "        fig.add_trace(go.Scattergeo(\n",
    "                lon = [float(plot_df['longitude'][i])],\n",
    "                lat = [float(plot_df['latitude'][i])],\n",
    "                #hovertext=[f\"Case {plot_df['infection_case']}\"],\n",
    "                #hoverinfo=\"text\",\n",
    "                text = f\"Case {plot_df['infection_case'][i]} {plot_df['confirmed'][i]} confirmed cases\",\n",
    "                name = f\"{plot_df['city'][i]} {plot_df['province'][i]}\",\n",
    "                marker = dict(size = plot_df['confirmed'][i]/20, color = 'red', line_width = 0, opacity=0.5),\n",
    "                showlegend=False))\n",
    "        fig.add_trace(go.Scattergeo(\n",
    "                lon = [float(plot_df['longitude'][i])],\n",
    "                lat = [float(plot_df['latitude'][i])],\n",
    "                #hovertext=[f\"Case {plot_df['infection_case']}\"],\n",
    "                name= f\"{plot_df['confirmed'][i]} confirmed cases\",\n",
    "                text = f\"{plot_df['city'][i]}\",\n",
    "                mode='markers+text',\n",
    "                marker = dict(size = 1, color = 'black', line_width = 0, opacity=1),\n",
    "                showlegend=False))\n",
    "    except:\n",
    "        pass\n",
    "\n",
    "\n",
    "fig.update_layout(height=1000,\n",
    "                  width=1000,\n",
    "                  title_text=\"Geografical summary of all cases\",\n",
    "                  template=\"plotly_white\",\n",
    "                  geo = go.layout.Geo(\n",
    "                    resolution = 50,\n",
    "                    scope = 'asia',\n",
    "                    showframe = False,\n",
    "                    showcoastlines = True,\n",
    "                    landcolor = \"rgb(229, 229, 229)\",\n",
    "                    countrycolor = \"grey\" ,\n",
    "                    coastlinecolor = \"white\",\n",
    "                    projection_type = 'mercator',\n",
    "                    showsubunits=True, subunitcolor=\"Blue\",\n",
    "                    lonaxis_range= [ 125, 130 ],\n",
    "                    lataxis_range= [ 33, 39.0 ],\n",
    "                    domain = dict(x = [ 0, 1 ], y = [ 0, 1 ])\n",
    "                ),)\n",
    "\n",
    "fig.show()"
   ]
  },
  {
   "cell_type": "markdown",
   "metadata": {},
   "source": [
    "One can observe, that the most conformations occurred in the Daegu region, especially the city Nam-gu, do to a public event of the Sincheonji Curch. This underlines the previous observation of the influence of public events, the infection in crowds, but also the fact that the South Korean government seems to acted very quickly to prevent the virus from spreading to other cities and regions. This might also explain the flattening of the cumulative number of confirmation cases.\n"
   ],
   "execution_count": null,
   "outputs": []
  },
  {
   "cell_type": "markdown",
   "metadata": {},
   "source": [
    "The last thing we want to get insight into, are the effects and the progression of the virus for the individuals. We therefore look the \"PatientInfo\" data and try to investigate the influence of sex, age on the average time of recovering and deceasing."
   ],
   "execution_count": null,
   "outputs": []
  },
  {
   "cell_type": "code",
   "execution_count": null,
   "metadata": {},
   "outputs": [],
   "source": [
    "df=df_dict['PatientInfo']\n",
    "df['recovering_time']=pd.to_datetime(df.loc[df['state']=='released']['released_date'])-pd.to_datetime(df.loc[df['state']=='released']['confirmed_date'])\n",
    "df['deceasing_time']=pd.to_datetime(df.loc[df['state']=='deceased']['deceased_date'])-pd.to_datetime(df.loc[df['state']=='deceased']['confirmed_date'])"
   ]
  },
  {
   "cell_type": "markdown",
   "metadata": {},
   "source": [
    "Let's take a look a the time for recovering and deceasing"
   ],
   "execution_count": null,
   "outputs": []
  },
  {
   "cell_type": "code",
   "execution_count": null,
   "metadata": {},
   "outputs": [],
   "source": [
    "fig = go.Figure()\n",
    "val_rec=df[df['recovering_time'].notnull()]['recovering_time']\n",
    "\n",
    "val_dec=df[df['deceasing_time'].notnull()]['deceasing_time']\n",
    "\n",
    "y_rec=[int(i.split(' days')[0]) for i in val_rec.astype(str).values if int(i.split(' days')[0])>0]\n",
    "fig.add_trace(go.Box(y=y_rec, boxpoints='all', name='Time until release',\n",
    "            jitter=0.3,pointpos=0))\n",
    "y_dec=[int(i.split(' days')[0]) for i in val_dec.astype(str).values if int(i.split(' days')[0])>0]\n",
    "fig.add_trace(go.Box(y=y_dec, boxpoints='all', name='Time until decease', \n",
    "            jitter=0.3,pointpos=0))\n",
    "\n",
    "fig.update_yaxes(title_text=\"[days]\")\n",
    "fig.update_layout(height=400,\n",
    "                  width=600,\n",
    "                  title_text=\"Box plot analyis time for release and decease\",\n",
    "                  template=\"plotly_white\")\n",
    "fig.show()\n"
   ]
  },
  {
   "cell_type": "code",
   "execution_count": null,
   "metadata": {},
   "outputs": [],
   "source": [
    "age_list=['0s','10s','20s','30s','40s','50s','60s','70s']\n",
    "sex_list=['male','female']\n",
    "\n",
    "fig = make_subplots(rows=1, cols=2, subplot_titles=(\"Influence of age and sex on the recovering time\", \"Influence of age and sex of the deceasing time\"))\n",
    "\n",
    "for age in age_list:\n",
    "    val_rec=df[df['age']==age]['recovering_time'].dropna()\n",
    "    val_dec=df[df['age']==age]['deceasing_time'].dropna()\n",
    "    y_rec=[int(i.split(' days')[0]) for i in val_rec.astype(str).values if int(i.split(' days')[0])>0]\n",
    "    y_dec=[int(i.split(' days')[0]) for i in val_dec.astype(str).values if int(i.split(' days')[0])>0]\n",
    "    fig.add_trace(go.Box(y=y_rec, boxpoints='all', name=age, marker_color = 'blue',\n",
    "            jitter=0.3,pointpos=0), row=1 , col=1)\n",
    "    fig.add_trace(go.Box(y=y_dec, boxpoints='all', name=age, marker_color = 'blue',\n",
    "            jitter=0.3,pointpos=0), row=1 , col=2)\n",
    "\n",
    "for sex in sex_list:\n",
    "    val_rec=df[df['sex']==sex]['recovering_time'].dropna()\n",
    "    val_dec=df[df['sex']==sex]['deceasing_time'].dropna()\n",
    "    y_rec=[int(i.split(' days')[0]) for i in val_rec.astype(str).values if int(i.split(' days')[0])>0]\n",
    "    y_dec=[int(i.split(' days')[0]) for i in val_dec.astype(str).values if int(i.split(' days')[0])>0]\n",
    "    fig.add_trace(go.Box(y=y_rec, boxpoints='all', name=sex, marker_color = 'orange',\n",
    "            jitter=0.3,pointpos=0), row=1 , col=1)\n",
    "    fig.add_trace(go.Box(y=y_dec, boxpoints='all', name=sex, marker_color = 'orange',\n",
    "            jitter=0.3,pointpos=0), row=1 , col=2)\n",
    "\n",
    "fig.update_yaxes(title_text=\"[days]\", row=1, col=1)\n",
    "fig.update_yaxes(title_text=\"[days]\", row=1, col=2)\n",
    "fig.update_layout(height=600,\n",
    "                  width=1000,\n",
    "                  template=\"plotly_white\")"
   ]
  },
  {
   "cell_type": "markdown",
   "metadata": {},
   "source": [
    "The graphs show not trend nor truths that we have not already observed early. Again, the high risk and deceasing rate is illustrated for people of higher age by the graph for the deceasing time, but trends for recovering time or the deceasing time with respect to age or sex cannot be observed."
   ],
   "execution_count": null,
   "outputs": []
  },
  {
   "cell_type": "markdown",
   "metadata": {},
   "source": [
    "All in all, we can conclude:\n",
    "- The virus can infect everybody, no matter what age or sex\n",
    "- It is far more dangerous for older people with a age of 60 or higher\n",
    "- The mortality rate is strongly correlated with age and sex, being the highest for old males\n",
    "- The spread of the virus is (at least in South Korea) not correlated with transferable features for demographics and infrastructure like population density and number of kinder gardens etc. the training of a model that is transferable for other countries is therefore not possible\n",
    "- The virus is spread mostly in public events\n",
    "- The time of recovering or the time until the decease of individuals is not related to age or sex\n",
    "- For South Korea the overall progression of the virus is flattening, probably due to very fast and restrictive actions after a person has either been identified with the virus, or has have contact with a infected one\n"
   ],
   "execution_count": null,
   "outputs": []
  },
  {
   "cell_type": "markdown",
   "metadata": {},
   "source": [
    "# Thank's for reading!"
   ],
   "execution_count": null,
   "outputs": []
  },
  {
   "cell_type": "code",
   "execution_count": null,
   "metadata": {},
   "outputs": [],
   "source": []
  }
 ],
 "metadata": {
  "file_extension": ".py",
  "kernelspec": {
   "display_name": "Python 3.8.2 64-bit ('covid-19_blogpost': conda)",
   "language": "python",
   "name": "python38264bitcovid19blogpostconda9306b4eb1dee497f8aedb72bfb76c6fb"
  },
  "language_info": {
   "codemirror_mode": {
    "name": "ipython",
    "version": 3
   },
   "file_extension": ".py",
   "mimetype": "text/x-python",
   "name": "python",
   "nbconvert_exporter": "python",
   "pygments_lexer": "ipython3",
   "version": "3.7.3-final"
  },
  "mimetype": "text/x-python",
  "name": "python",
  "npconvert_exporter": "python",
  "pygments_lexer": "ipython3",
  "version": 3
 },
 "nbformat": 4,
 "nbformat_minor": 2
}